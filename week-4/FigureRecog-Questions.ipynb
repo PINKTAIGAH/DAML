{
 "cells": [
  {
   "cell_type": "markdown",
   "id": "6d6882db",
   "metadata": {},
   "source": [
    "## About This Session\n",
    "\n",
    "This lab is a guided walkthrough to build a _basic_ 'image classification' DNN model and train it on some data.\n",
    "\n",
    "As we build up our model we will build a familiarity with the various components and strategies for building such an ANN system.\n",
    "\n",
    "After we have been able to do this we will then save and load our now-trained model from disk and use it to make a prediction on a new image which isn't present in the original dataset.\n",
    "\n",
    "\n",
    "_Responsible: Robert Currie (<rob.currie@ed.ac.uk>)_\n",
    "\n",
    "### Notes on assessment\n",
    "* Try and calculate the answers to the exercises provided. If you are unable to complete the question, describe which approach you _would_ have taken to solve the problem\n",
    "* Code must be understandable and reproducible. Before grading the notebook kernel **may** be restarted and re-run, so make sure that your code can run from start to finish without any (unintentional) errors\n",
    "* If you are unsure on how to proceed please **ask one of the TAs** during the workshop\n",
    " - Notebooks should be submitted by **10am on Friday 13th October**\n",
    " - This notebook starts with problem 0. This is not assessed, but it is a helpful exercise to show some of the potential pitfalls of 'trusting algorithms' to do the work for us.\n",
    "\n",
    "* There are 10 sections involved in building a DNN using TensorFlow, trainig it on data and then using it to predict based on a new piece of data never seen by the model before.\n",
    "* There are 2 bonus sections covering 'additional training of a model' and 'the impact of training on the distribution of internal weights within a DNN'. These have bonus points if you manage to finish them, but the final mark is capped at 10.\n"
   ]
  },
  {
   "cell_type": "markdown",
   "id": "9d04643d-4607-4463-a842-91be11c11806",
   "metadata": {},
   "source": [
    "# Building an image classifier with a DNN using TensorFlow\n",
    "\n"
   ]
  },
  {
   "cell_type": "markdown",
   "id": "895060a6",
   "metadata": {},
   "source": [
    "##### Marking\n",
    "\n",
    "Marks for the different parts are shown below.\n",
    "\n",
    "* Questions are marked as starting with '**Q**' and can in principle be attempted at any time.\n",
    "* Problems are intended to be tackled in order, i.e. 1->9\n",
    "* If you jump in at problem 5 for instance you won't yet have a model to train without tackling the steps before.\n",
    "* There are bonus problems at the end to tackle but the maximum mark is 10/10\n",
    "\n",
    "| <p align='left'> Title                         | <p align='left'> Parts | <p align='left'> Number of marks |\n",
    "| ------------------------------------- | ----- | --- |\n",
    "| <p align='left'> 0. Dangers of Fitting                  | <p align='left'>  3  | <p align='left'> 0 |\n",
    "| <p align='left'> 1. Vizualizing the Data                | <p align='left'>  1  | <p align='left'> 1 |\n",
    "| <p align='left'> 2. Formatting Input Data               | <p align='left'>  3  | <p align='left'> 1 |\n",
    "| <p align='left'> 3. Building a DNN model                | <p align='left'>  2  | <p align='left'> 1 |\n",
    "| <p align='left'> 4. Understanding our model             | <p align='left'>  5  | <p align='left'> 2 |\n",
    "| <p align='left'> 5. Training our model                  | <p align='left'>  2  | <p align='left'> 1 |\n",
    "| <p align='left'> 6. Understanding the training history  | <p align='left'>  3  | <p align='left'> 1 |\n",
    "| <p align='left'> 7. Making a Prediction                 | <p align='left'>  2  | <p align='left'> 1 |\n",
    "| <p align='left'> 8. Testing the model                   | <p align='left'>  2  | <p align='left'> 1 |\n",
    "| <p align='left'> 9. Making Predictions with new data    | <p align='left'>  2  | <p align='left'> 1 |\n",
    "| <p align='left'> **Bonus 1:** Analyzing Weights         | <p align='left'>  5  | <p align='left'> 1 |\n",
    "| <p align='left'> **Bonus 2:** Loading a model and optimizing it further | <p align='left'>  7  | <p align='left'> 1 |\n",
    "| <p align='left'> **Total** | | <p align='left'> max **10** |\n"
   ]
  },
  {
   "cell_type": "code",
   "execution_count": 1,
   "id": "f685af8c",
   "metadata": {},
   "outputs": [],
   "source": [
    "# let's keep our keras backend tensorflow quiet\n",
    "import os\n",
    "os.environ['TF_CPP_MIN_LOG_LEVEL']='2'\n",
    "# if you need to force tensorflow to use your CPU\n",
    "#os.environ['CUDA_VISIBLE_DEVICES'] = ''\n",
    "\n",
    "# imports for array-handling and plotting\n",
    "import numpy as np\n",
    "from numpy import argmax\n",
    "import matplotlib\n",
    "import matplotlib.pyplot as plt\n",
    "import matplotlib.image as mpimg\n",
    "\n",
    "# Importing tensorflow so we can access anything later\n",
    "import tensorflow as tf\n",
    "\n",
    "# keras imports for importing our dataset\n",
    "from tensorflow.keras.datasets import mnist\n",
    "# keras imports for building our neural network\n",
    "from tensorflow.keras.models import Sequential\n",
    "from tensorflow.keras.initializers import RandomUniform\n",
    "from tensorflow.keras.layers import Dense, Activation\n",
    "# keras import for manipulating some of our data\n",
    "from tensorflow.keras.utils import to_categorical\n",
    "\n",
    "# keras tools for loading an image from disk\n",
    "from tensorflow.keras.preprocessing.image import load_img\n",
    "from tensorflow.keras.preprocessing.image import img_to_array\n",
    "\n",
    "# keras tools for loading an ANN model from disk\n",
    "from tensorflow.keras.models import load_model\n"
   ]
  },
  {
   "cell_type": "markdown",
   "id": "aec01e96",
   "metadata": {},
   "source": [
    "\n",
    "# Problem 0: Understanding Fitting\n",
    "\n",
    "### Problems when fitting (an interlude)\n",
    "\n",
    "When fitting to a dataset we trust that the algorithm that we're using will find the correct minima and that the fit hasn't become pronned to some problem such as vanishing gradients.\n",
    "\n",
    "Here we're going to demonstrate a quick example of problems that you can hit with a fit failing to converge.\n",
    "\n",
    "There are many tools/checks in place in most modern libraries to help fix common problems, but we will explicitly use the `SLSQP` method here which allows us to look at narrow ranges of a full function.\n",
    "\n",
    "`result = minimize(objective, pt, method='SLSQP', jac=derivative, bounds=[(...),])`\n",
    "\n",
    "The objective function of this fit has been provided it is the equation of the form `y=x^4-5x^2+0.1x` .\n",
    "\n",
    "This function has 3 points where the gradient is zero and has 2 minima, a global minima and a local minima.\n",
    "\n",
    "## 0.1 Provide the derivative function for this 1D method (this is the Jacobian)\n",
    "\n",
    "This is just a case of returning the correct value from the derivative method."
   ]
  },
  {
   "cell_type": "code",
   "execution_count": 2,
   "id": "631f8cdb",
   "metadata": {},
   "outputs": [],
   "source": [
    "from scipy.optimize import minimize\n",
    "\n",
    "def objective(x):\n",
    "  return x[0]**4 - 5*x[0]**2 + 0.1*x[0]\n",
    "\n",
    "# Part 1 complete the derivative function\n",
    "def derivative(x):\n",
    "  return 4*x[0]**3 - 10*x[0] + 0.1"
   ]
  },
  {
   "cell_type": "markdown",
   "id": "f7e42b37",
   "metadata": {},
   "source": [
    "## 0.2 Run the minimize method over given ranges and identify the 3 'stable' points of the function\n",
    "\n",
    "Run the minimize method over these 3 ranges:\n",
    "\n",
    "| <p align='left'> Ranges |\n",
    "| :--- |\n",
    "| ` (0.1, 5.0)` |\n",
    "| ` (0.0, 5.0)`  |\n",
    "| `(-5.0, 5.0)` |\n"
   ]
  },
  {
   "cell_type": "code",
   "execution_count": 3,
   "id": "ccf94f72",
   "metadata": {},
   "outputs": [],
   "source": [
    "pt = (5.,)\n",
    "ranges = [(0.1, 5.0),  (0.0, 5.0),  (-5.0, 5.0)]\n",
    "METHOD = \"SLSQP\"\n",
    "\n",
    "# Part 2 perform 3 minimizations\n",
    "result_1 = minimize( objective, pt, method=METHOD, jac=derivative, bounds=[ranges[0]] )\n",
    "result_2 = minimize( objective, pt, method=METHOD, jac=derivative, bounds=[ranges[1]] )\n",
    "result_3 = minimize( objective, pt, method=METHOD, jac=derivative, bounds=[ranges[2]] )"
   ]
  },
  {
   "cell_type": "markdown",
   "id": "0dd34b65",
   "metadata": {},
   "source": [
    "## 0.3 Identify the true minima of the function\n",
    "\n",
    "##### Hint:\n",
    "    \n",
    "Running `scipy.minimize` returns an object containing the fit result and a bunch of extra output.\n",
    "The value of `x` from a 'minimize' after it has finished running can be accessed via `result['x']` and the function value can be accessed via `result['fun']`."
   ]
  },
  {
   "cell_type": "code",
   "execution_count": 4,
   "id": "f302c108",
   "metadata": {},
   "outputs": [
    {
     "name": "stdout",
     "output_type": "stream",
     "text": [
      "Minimum 1: [1.57609448]\n",
      "Minimum 2: [0.]\n",
      "Minimum 3: [-1.5861131]\n",
      "Result 1: -6.092136908469087\n",
      "Result 2: 0.0\n",
      "Result 3: -6.4083630973486665\n",
      "Best Result is: Result 3\n"
     ]
    }
   ],
   "source": [
    "print('Minimum 1: {}'.format(result_1['x']))\n",
    "print('Minimum 2: {}'.format(result_2['x']))\n",
    "print('Minimum 3: {}'.format(result_3['x']))\n",
    "\n",
    "print('Result 1: {}'.format(result_1['fun']))\n",
    "print('Result 2: {}'.format(result_2['fun']))\n",
    "print('Result 3: {}'.format(result_3['fun']))\n",
    "\n",
    "# Part 3 identify the true minima\n",
    "results = {\n",
    "    \"Result 1\":result_1['fun'],\n",
    "    \"Result 2\":result_2['fun'],\n",
    "    \"Result 3\":result_3['fun'],\n",
    "}\n",
    "\n",
    "print(f'Best Result is: {min(results, key=results.get)}' ) "
   ]
  },
  {
   "cell_type": "markdown",
   "id": "fe5e051f",
   "metadata": {},
   "source": [
    "# Load & Visualize the dataset\n",
    "\n",
    "#### Loading the data\n",
    "\n",
    "The data we're using comes from the well use mnist dataset which has been around since the 80s and is something people new to AI/ML often try their hand at building models for.\n",
    "\n",
    "###### About the data\n",
    "https://www.tensorflow.org/api_docs/python/tf/keras/datasets/mnist/load_data\n",
    "\n",
    "This dataset consists of many pixelated digitized images of hand-written numbers.\n",
    "These images contain data in a single channel i.e. black and white images. White images on a Black background.\n",
    "\n",
    "\n",
    "We've loaded the mnist class and we just need to call `load_data` to get the dataset in order for us to use this data.\n",
    "\n",
    "This method returns 2 tuples. The training data and labels as well as the test data and labels."
   ]
  },
  {
   "cell_type": "code",
   "execution_count": 5,
   "id": "12460d14",
   "metadata": {},
   "outputs": [
    {
     "name": "stdout",
     "output_type": "stream",
     "text": [
      "Images are a <class 'numpy.ndarray'>\n"
     ]
    }
   ],
   "source": [
    "# Load the Training and Test data\n",
    "(X_train, Y_train), (X_test, Y_test) =  mnist.load_data()\n",
    "\n",
    "print(f\"Images are a {type(X_train)}\")"
   ]
  },
  {
   "cell_type": "markdown",
   "id": "f0718970",
   "metadata": {},
   "source": [
    "# Visualize the dataset\n",
    "\n",
    "It's important to understand the data that you're trying to train on. In most cases preparing the data in some way that it's suitable for training is the most time consuming part of building and training a model to be useful.\n",
    "\n",
    "# Problem 1: Understanding the input data\n",
    "\n",
    "Now that we've loaded the data we need to make sure that it's in a format that we can use.\n",
    "\n",
    "## 1.1 First, What is the shape of an individual image?\n",
    "Firstly, what is the shape of the each input image?, and what range of values do the individual pixels within the image take?"
   ]
  },
  {
   "cell_type": "code",
   "execution_count": 6,
   "id": "1165f5cc",
   "metadata": {},
   "outputs": [],
   "source": [
    "\"\"\"\n",
    "Function to normalise Images \n",
    "\"\"\"\n",
    "def normalise_dataset(dataset, mean, std, max_value=255.0):\n",
    "    dataset = ( (dataset/max_value) - mean )/std\n",
    "    return dataset"
   ]
  },
  {
   "cell_type": "code",
   "execution_count": 7,
   "id": "dc8b30c0",
   "metadata": {},
   "outputs": [
    {
     "name": "stdout",
     "output_type": "stream",
     "text": [
      "The shape of the MNIST dataset is 60000x28x28.\n",
      "Minimum pixel value is 0 and maximum is 255.\n",
      "Minimum lable value is 0 and maximum is 9.\n",
      "These is the typical pixel range for the PNG format.\n",
      "Tensor dtype: uint8\n"
     ]
    }
   ],
   "source": [
    "train_sample_number, hight, width = X_train.shape\n",
    "pixel_value_min = X_train.min()\n",
    "pixel_value_max = X_train.max()\n",
    "lable_value_max = Y_train.max()\n",
    "lable_value_min = Y_train.min()\n",
    "\n",
    "print(f\"The shape of the MNIST dataset is {train_sample_number}x{hight}x{width}.\")\n",
    "print(f\"Minimum pixel value is {pixel_value_min} and maximum is {pixel_value_max}.\")\n",
    "print(f\"Minimum lable value is {lable_value_min} and maximum is {lable_value_max}.\")\n",
    "print(f\"These is the typical pixel range for the PNG format.\")\n",
    "print(f\"Tensor dtype: {X_train.dtype}\")"
   ]
  },
  {
   "cell_type": "markdown",
   "id": "20b222e4",
   "metadata": {},
   "source": [
    "## 1.2 Plotting some of the input data\n",
    "\n",
    "Secondly, we should attempt to plot some of the input data to our fit to understand what the data looks like.\n",
    "It is possible to use the pyplot method to plot the images which we have just loaded into tensors.\n",
    "\n",
    "##### Hint:\n",
    "The options of `cmap='gray', interpolation='none'` with `pyplot.imshow` show the images as we would expect to see them.\n",
    "\n",
    "https://matplotlib.org/stable/api/_as_gen/matplotlib.pyplot.imshow.html\n",
    "\n",
    "\n",
    "#### Plot the Data\n",
    "\n",
    "###### Plot the first 2 values from the training portion of the dataset using the values to the first 2 training labels as labels."
   ]
  },
  {
   "cell_type": "code",
   "execution_count": 8,
   "id": "477f41df",
   "metadata": {},
   "outputs": [
    {
     "data": {
      "image/png": "[encoded data removed]",
      "text/plain": [
       "<Figure size 640x480 with 2 Axes>"
      ]
     },
     "metadata": {},
     "output_type": "display_data"
    }
   ],
   "source": [
    "fig, (ax1, ax2) = plt.subplots(1, 2)\n",
    "axes = (ax1, ax2)\n",
    "for idx in range(len(axes)):\n",
    "    axes[idx].imshow(X_train[idx], cmap=\"gray\", interpolation=\"none\")\n",
    "    axes[idx].set_title(f\"MNIST lable: {Y_train[idx]}\")"
   ]
  },
  {
   "cell_type": "markdown",
   "id": "8dcb09b4",
   "metadata": {},
   "source": [
    "# Normalizing and Formatting the dataset\n",
    "\n",
    "Before we begin fitting the dataset it is useful to make sure that the data is in a format that we can use for fitting.\n",
    "\n",
    "\n",
    "\n",
    "## Problem 2: Formatting Input Data\n",
    "\n",
    "\n",
    "### 2.1 Normalize and reformat our Input Data.\n",
    "\n",
    "For our model we're going to use a flat array of 768 pixel values as our input and we want to make sure that our data has been correctly normalized so that the values are all in the unitary range [0,1].\n",
    "\n",
    "The data should be converted to the `'float32'` using the `astype` method and then normalized to have values between 0 and 1."
   ]
  },
  {
   "cell_type": "code",
   "execution_count": 9,
   "id": "7b5c39a5",
   "metadata": {},
   "outputs": [],
   "source": [
    "# convert data into a float from an integer array\n",
    "X_train = tf.cast(X_train, tf.float32)\n",
    "X_test = tf.cast(X_test, tf.float32)\n",
    "Y_train = tf.cast(Y_train, tf.float32)\n",
    "Y_test = tf.cast(Y_test, tf.float32)\n",
    "\n",
    "\n",
    "# normalizing the data to help with the training\n",
    "X_train = normalise_dataset(X_train, mean=0.5, std=0.5)\n",
    "X_test = normalise_dataset(X_test, mean=0.5, std=0.5)"
   ]
  },
  {
   "cell_type": "markdown",
   "id": "3d5dbcae",
   "metadata": {},
   "source": [
    "## 2.2 Resize the input data\n",
    "The input data should be re-formatted such that we have 1 flat array of inputs for each image.\n",
    "\n",
    "i.e. we have 60,000 images for training, we want each of these images to contain data in a flat array which means we are going from a 3D tensor to a 2D tensor. e.g. `(60000, 10, 10) ==> (60000, 100)` \n",
    "\n",
    "##### Hint: Tensor.Reshape can be used to simplify the re-shaping/re-sizing of the input data"
   ]
  },
  {
   "cell_type": "code",
   "execution_count": 10,
   "id": "ed89e151",
   "metadata": {},
   "outputs": [],
   "source": [
    "## building the input 1D vector from the 28x28 pixels\n",
    "\n",
    "X_train = tf.reshape(X_train, shape=[X_train.shape[0], -1])\n",
    "X_test = tf.reshape(X_test, shape=[X_test.shape[0], -1])"
   ]
  },
  {
   "cell_type": "markdown",
   "id": "69060a15",
   "metadata": {},
   "source": [
    "## 2.3 Change our input labels for fitting\n",
    "\n",
    "Now we need to make sure that the dataset labels are in a format which we can use alongside the training and testing dataset.\n",
    "\n",
    "Typically DNN expect category labels to be in a one-hot encoding. This means that labels are vectors with a single entry of 1 and all other entries being 0. \n",
    "\n",
    "##### Hint: This can be achieved using the `to_categorical` utility function in Keras.\n",
    "\n",
    "Using this change the Y_test and Y_train labels to be cateory labels.\n",
    "\n",
    "If you want to be explicit we know we're working with `n_classes = 10` due to looking at the numerical characters `0...9`."
   ]
  },
  {
   "cell_type": "code",
   "execution_count": 11,
   "id": "da07bda1",
   "metadata": {},
   "outputs": [
    {
     "name": "stdout",
     "output_type": "stream",
     "text": [
      "tf.Tensor(5.0, shape=(), dtype=float32)\n",
      "tf.Tensor(7.0, shape=(), dtype=float32)\n"
     ]
    }
   ],
   "source": [
    "# Print value of label prior to one hot encoding\n",
    "print(Y_train[0])\n",
    "print(Y_test[0])"
   ]
  },
  {
   "cell_type": "code",
   "execution_count": 12,
   "id": "7c5854c5",
   "metadata": {},
   "outputs": [
    {
     "name": "stdout",
     "output_type": "stream",
     "text": [
      "Shape before one-hot encoding:  (60000,)\n"
     ]
    }
   ],
   "source": [
    "n_classes = 10\n",
    "print(\"Shape before one-hot encoding: \", Y_train.shape)\n",
    "\n",
    "Y_train = to_categorical(Y_train, num_classes=10, dtype=\"float32\")\n",
    "Y_test = to_categorical(Y_test, num_classes=10, dtype=\"float32\")"
   ]
  },
  {
   "cell_type": "code",
   "execution_count": 13,
   "id": "053bfba2",
   "metadata": {},
   "outputs": [
    {
     "name": "stdout",
     "output_type": "stream",
     "text": [
      "[0. 0. 0. 0. 0. 1. 0. 0. 0. 0.]\n",
      "[0. 0. 0. 0. 0. 0. 0. 1. 0. 0.]\n"
     ]
    }
   ],
   "source": [
    "# Print lable values after one hot encoding\n",
    "print(Y_train[0])\n",
    "print(Y_test[0])"
   ]
  },
  {
   "cell_type": "markdown",
   "id": "ae28bb7a",
   "metadata": {},
   "source": [
    "# Problem 3: Building the DNN\n",
    "\n",
    "\n",
    "In Tensorflow a 'standard' DNN model is defined using the Sequential model.\n",
    "https://www.tensorflow.org/api_docs/python/tf/keras/Sequential\n",
    "\n",
    "Then additional layers are added to the model one at a time until the model is complete using `model.add`.\n",
    "\n",
    "\n",
    "## Build a DNN with 2 \"hidden layers\"\n",
    "\n",
    "You should build a DNN such that it has 2 hidden and 1 output layer. When building a model we have neurons and activation functions. These are 'layers' in TensorFlow but we want 3 layers with neurons and activators such as: \n",
    "\n",
    "| <p align='left'> Layer |\n",
    "| :--- |\n",
    "| Dense |\n",
    "| Activation |\n",
    "| Dense |\n",
    "| Activation |\n",
    "| Dense |\n",
    "| Activation |\n",
    "\n",
    "A flat layer of neurons is defined using the `Dense` layer in Tensorflow.\n",
    "For our example we want to keep our Activators and our layers of neurons separate.\n",
    "    \n",
    "We want to use a random flat distribution of weights when initializing the parameters in this fit,\n",
    "    \n",
    "### !!Use the parameters `use_bias=True, kernel_initializer='RandomUniform'` when constructing a layer of neurons!!\n",
    "\n",
    "###### NB: By default each Dense layer also applies a bias to each node to improve the fit performance.\n",
    "    \n",
    "For our hidden nodes we want to use the `'GELU'` Activator for this example and `'softmax'` to build our a numerical classifier."
   ]
  },
  {
   "cell_type": "code",
   "execution_count": 15,
   "id": "ba268e86",
   "metadata": {},
   "outputs": [],
   "source": [
    "\"\"\"\n",
    "Hyper Parameters (ish)\n",
    "\"\"\"\n",
    "n_categories = 10\n",
    "n_hidden_nodes_1 = 256\n",
    "n_hidden_nodes_2 = 64 \n",
    "hidden_activation_type = 'gelu'\n",
    "output_activation_type = \"softmax\"\n",
    "weight_start_values = 'RandomUniform'\n",
    "\n",
    "# building a linear stack of layers with the sequential model\n",
    "model = Sequential()\n",
    "\n",
    "# First hidden layer\n",
    "model.add(Dense(\n",
    "     units = n_hidden_nodes_1,\n",
    "     activation = hidden_activation_type,\n",
    "     use_bias = True,\n",
    "     kernel_initializer = weight_start_values   \n",
    "))\n",
    "\n",
    "# Second hidden layer\n",
    "model.add(Dense(\n",
    "     units = n_hidden_nodes_1,\n",
    "     activation = hidden_activation_type,\n",
    "     use_bias = True,\n",
    "     kernel_initializer = weight_start_values   \n",
    "))\n",
    "\n",
    "# Output layer\n",
    "model.add(Dense(\n",
    "     units = n_categories,\n",
    "     activation = output_activation_type,\n",
    "     use_bias = True,\n",
    "     kernel_initializer = weight_start_values   \n",
    "))"
   ]
  },
  {
   "cell_type": "markdown",
   "id": "8e825c92",
   "metadata": {},
   "source": [
    "## Compiling our model\n",
    "\n",
    "At this point we have a description of our model. Now we want to compile it.\n",
    "\n",
    "Strictly speaking some of the steps here are optional, but we want to be explicit with how we're building our model to be sure that we've understood everything that is going on.\n",
    "\n",
    "We will be using `categorical_crossentropy` as discussed in our lecture as our loss model.\n",
    "\n",
    "We will also be using the `Stochastic Gradient Descent` or `SGD` optimizer for our training. This is different to the default.\n",
    "\n",
    "`metrics=['accuracy']` is also passed to our model to ensure that it collects training data that we're interested in later on.\n",
    "\n",
    "\n",
    "## Now compile and build the model"
   ]
  },
  {
   "cell_type": "code",
   "execution_count": 16,
   "id": "3c3deac8-536b-4262-93a6-0479dc1bb53e",
   "metadata": {
    "scrolled": true
   },
   "outputs": [
    {
     "name": "stdout",
     "output_type": "stream",
     "text": [
      "Model: \"sequential_1\"\n",
      "_________________________________________________________________\n",
      " Layer (type)                Output Shape              Param #   \n",
      "=================================================================\n",
      " dense_3 (Dense)             (1, 256)                  200960    \n",
      "                                                                 \n",
      " dense_4 (Dense)             (1, 256)                  65792     \n",
      "                                                                 \n",
      " dense_5 (Dense)             (1, 10)                   2570      \n",
      "                                                                 \n",
      "=================================================================\n",
      "Total params: 269,322\n",
      "Trainable params: 269,322\n",
      "Non-trainable params: 0\n",
      "_________________________________________________________________\n"
     ]
    }
   ],
   "source": [
    "# compiling the sequential model\n",
    "model.compile(loss='categorical_crossentropy', metrics=['accuracy'], optimizer='SGD')\n",
    "# Now we want to 'build' the model, so tell it about our input data format\n",
    "model.build(input_shape=(1,784))\n",
    "\n",
    "# Print a helpful summary of our model\n",
    "model.summary()\n",
    "\n",
    "# Now we're going to take a copy of the weights in our first hidden layer of the fit\n",
    "weights_before_training = model.layers[0].get_weights()[0].copy()\n",
    "weights_before_training.resize(200704)"
   ]
  },
  {
   "cell_type": "markdown",
   "id": "29f3ef3d",
   "metadata": {},
   "source": [
    "# Problem 4: Understanding our model\n",
    "\n",
    "## Q: 4.1\n",
    "\n",
    "##### Using an Input Shape of `784` and a hidden layer of `256` nodes you should see `200960` free parameters in the first layer of your model.\n",
    "\n",
    "##### Explain where this number of free parameters comes from.\n",
    "\n"
   ]
  },
  {
   "cell_type": "markdown",
   "id": "f5ee2c65",
   "metadata": {},
   "source": [
    "### Answer:\n",
    "\n",
    "The number of free parameters per layer is given by ther number of weights in a layer + the number of biases in a layer. \n",
    "\n",
    "For a linear feed-forward network, the number of weights in a layer in given by the product of input nodes and output nodes and the number of biases is given by the number of nodes in the output, hence the total number of free parameters is given by $N_{param} = (N_{in}*N_{out}) + N_{out}$ "
   ]
  },
  {
   "cell_type": "markdown",
   "id": "aad93994",
   "metadata": {},
   "source": [
    "## Q: 4.2\n",
    "\n",
    "##### Using `256` nodes per hidden layer there will also be `65792` weights between the 2 hidden layers in the model.\n",
    "\n",
    "##### Explain where these weights come from."
   ]
  },
  {
   "cell_type": "markdown",
   "id": "01cd4150",
   "metadata": {},
   "source": [
    "### Answer:\n",
    "\n",
    "See answer from question 4.1. Same answer"
   ]
  },
  {
   "cell_type": "markdown",
   "id": "4e47c4f2",
   "metadata": {},
   "source": [
    "## Q: 4.3\n",
    "\n",
    "##### Explain why a `'softmax'` activation function is used at the end of our classification model."
   ]
  },
  {
   "cell_type": "markdown",
   "id": "735055f0",
   "metadata": {},
   "source": [
    "### Answer:\n",
    "\n",
    "Our outputs must be the degree of belief of the model that an image to be a specific lable, hence we wish our outputs  to be probabilities bounded to the range $\\in [0, 1]$. Hence as softmax activation function is also limited to this range, we use this for our output layers."
   ]
  },
  {
   "cell_type": "markdown",
   "id": "47a3c156",
   "metadata": {},
   "source": [
    "## Q: 4.4\n",
    "\n",
    "##### How many weights would we expect in the whole model when using 128 neurons per hidden layer?"
   ]
  },
  {
   "cell_type": "markdown",
   "id": "8486e255",
   "metadata": {},
   "source": [
    "### Answer:\n",
    "\n",
    "Using equation from above: $(128*128) + 128 = 16512$ weights"
   ]
  },
  {
   "cell_type": "markdown",
   "id": "6d623e92",
   "metadata": {},
   "source": [
    "## Q: 4.5\n",
    "\n",
    "##### Why are activation functions needed in a DNN which is trained on data?"
   ]
  },
  {
   "cell_type": "markdown",
   "id": "846da7a7",
   "metadata": {},
   "source": [
    "### Answer:\n",
    "\n",
    "Dense layers are simply linear layers with linear functions being applied at each node. In order for the outputs of our layers to be non-linear, we require non-linear activtion functions"
   ]
  },
  {
   "cell_type": "markdown",
   "id": "063d1791",
   "metadata": {},
   "source": [
    "\n",
    "# Problem 5: Train the model\n",
    "\n",
    "### Model Training\n",
    "\n",
    "Now that we have a model we want to fit we now want to train it on our training dataset making sure to use our validation data to check on our training.\n",
    "\n",
    "The result of this training will be stored in our history and will allow us to go back and asses how well our training worked.\n",
    "\n",
    "\n",
    "## 5.1 Perform the training\n",
    "Complete and run the command below to train the model on data using a `batch_size` of 600 for 100 `epochs`.\n"
   ]
  },
  {
   "cell_type": "code",
   "execution_count": 17,
   "id": "b02c7124",
   "metadata": {
    "scrolled": true
   },
   "outputs": [
    {
     "name": "stdout",
     "output_type": "stream",
     "text": [
      "Epoch 1/100\n",
      "100/100 - 1s - loss: 2.2705 - accuracy: 0.2102 - val_loss: 2.2211 - val_accuracy: 0.3105 - 1s/epoch - 12ms/step\n",
      "Epoch 2/100\n",
      "100/100 - 1s - loss: 2.1414 - accuracy: 0.3769 - val_loss: 2.0108 - val_accuracy: 0.5268 - 916ms/epoch - 9ms/step\n",
      "Epoch 3/100\n",
      "100/100 - 1s - loss: 1.7444 - accuracy: 0.6236 - val_loss: 1.3927 - val_accuracy: 0.7439 - 876ms/epoch - 9ms/step\n",
      "Epoch 4/100\n",
      "100/100 - 1s - loss: 1.1191 - accuracy: 0.7701 - val_loss: 0.8791 - val_accuracy: 0.8131 - 836ms/epoch - 8ms/step\n",
      "Epoch 5/100\n",
      "100/100 - 1s - loss: 0.7693 - accuracy: 0.8228 - val_loss: 0.6560 - val_accuracy: 0.8459 - 819ms/epoch - 8ms/step\n",
      "Epoch 6/100\n",
      "100/100 - 1s - loss: 0.6115 - accuracy: 0.8479 - val_loss: 0.5454 - val_accuracy: 0.8609 - 824ms/epoch - 8ms/step\n",
      "Epoch 7/100\n",
      "100/100 - 1s - loss: 0.5276 - accuracy: 0.8623 - val_loss: 0.4815 - val_accuracy: 0.8723 - 897ms/epoch - 9ms/step\n",
      "Epoch 8/100\n",
      "100/100 - 1s - loss: 0.4762 - accuracy: 0.8722 - val_loss: 0.4404 - val_accuracy: 0.8805 - 870ms/epoch - 9ms/step\n",
      "Epoch 9/100\n",
      "100/100 - 1s - loss: 0.4418 - accuracy: 0.8787 - val_loss: 0.4135 - val_accuracy: 0.8872 - 850ms/epoch - 8ms/step\n",
      "Epoch 10/100\n",
      "100/100 - 1s - loss: 0.4171 - accuracy: 0.8838 - val_loss: 0.3905 - val_accuracy: 0.8905 - 689ms/epoch - 7ms/step\n",
      "Epoch 11/100\n",
      "100/100 - 1s - loss: 0.3988 - accuracy: 0.8878 - val_loss: 0.3740 - val_accuracy: 0.8949 - 753ms/epoch - 8ms/step\n",
      "Epoch 12/100\n",
      "100/100 - 1s - loss: 0.3841 - accuracy: 0.8916 - val_loss: 0.3626 - val_accuracy: 0.8962 - 983ms/epoch - 10ms/step\n",
      "Epoch 13/100\n",
      "100/100 - 1s - loss: 0.3720 - accuracy: 0.8943 - val_loss: 0.3510 - val_accuracy: 0.8985 - 921ms/epoch - 9ms/step\n",
      "Epoch 14/100\n",
      "100/100 - 1s - loss: 0.3620 - accuracy: 0.8969 - val_loss: 0.3455 - val_accuracy: 0.9014 - 927ms/epoch - 9ms/step\n",
      "Epoch 15/100\n",
      "100/100 - 1s - loss: 0.3539 - accuracy: 0.8985 - val_loss: 0.3353 - val_accuracy: 0.9018 - 926ms/epoch - 9ms/step\n",
      "Epoch 16/100\n",
      "100/100 - 1s - loss: 0.3464 - accuracy: 0.9008 - val_loss: 0.3293 - val_accuracy: 0.9052 - 834ms/epoch - 8ms/step\n",
      "Epoch 17/100\n",
      "100/100 - 1s - loss: 0.3396 - accuracy: 0.9025 - val_loss: 0.3239 - val_accuracy: 0.9068 - 790ms/epoch - 8ms/step\n",
      "Epoch 18/100\n",
      "100/100 - 1s - loss: 0.3336 - accuracy: 0.9040 - val_loss: 0.3187 - val_accuracy: 0.9070 - 764ms/epoch - 8ms/step\n",
      "Epoch 19/100\n",
      "100/100 - 1s - loss: 0.3282 - accuracy: 0.9060 - val_loss: 0.3136 - val_accuracy: 0.9100 - 826ms/epoch - 8ms/step\n",
      "Epoch 20/100\n",
      "100/100 - 1s - loss: 0.3235 - accuracy: 0.9069 - val_loss: 0.3096 - val_accuracy: 0.9116 - 865ms/epoch - 9ms/step\n",
      "Epoch 21/100\n",
      "100/100 - 1s - loss: 0.3191 - accuracy: 0.9078 - val_loss: 0.3062 - val_accuracy: 0.9114 - 785ms/epoch - 8ms/step\n",
      "Epoch 22/100\n",
      "100/100 - 1s - loss: 0.3148 - accuracy: 0.9094 - val_loss: 0.3016 - val_accuracy: 0.9127 - 762ms/epoch - 8ms/step\n",
      "Epoch 23/100\n",
      "100/100 - 1s - loss: 0.3106 - accuracy: 0.9104 - val_loss: 0.2976 - val_accuracy: 0.9145 - 715ms/epoch - 7ms/step\n",
      "Epoch 24/100\n",
      "100/100 - 1s - loss: 0.3069 - accuracy: 0.9108 - val_loss: 0.2949 - val_accuracy: 0.9157 - 838ms/epoch - 8ms/step\n",
      "Epoch 25/100\n",
      "100/100 - 1s - loss: 0.3034 - accuracy: 0.9123 - val_loss: 0.2914 - val_accuracy: 0.9152 - 787ms/epoch - 8ms/step\n",
      "Epoch 26/100\n",
      "100/100 - 1s - loss: 0.3001 - accuracy: 0.9127 - val_loss: 0.2923 - val_accuracy: 0.9168 - 807ms/epoch - 8ms/step\n",
      "Epoch 27/100\n",
      "100/100 - 1s - loss: 0.2968 - accuracy: 0.9136 - val_loss: 0.2859 - val_accuracy: 0.9189 - 1s/epoch - 10ms/step\n",
      "Epoch 28/100\n",
      "100/100 - 1s - loss: 0.2936 - accuracy: 0.9154 - val_loss: 0.2842 - val_accuracy: 0.9173 - 1s/epoch - 11ms/step\n",
      "Epoch 29/100\n",
      "100/100 - 1s - loss: 0.2906 - accuracy: 0.9158 - val_loss: 0.2806 - val_accuracy: 0.9183 - 940ms/epoch - 9ms/step\n",
      "Epoch 30/100\n",
      "100/100 - 1s - loss: 0.2878 - accuracy: 0.9168 - val_loss: 0.2785 - val_accuracy: 0.9201 - 856ms/epoch - 9ms/step\n",
      "Epoch 31/100\n",
      "100/100 - 1s - loss: 0.2850 - accuracy: 0.9172 - val_loss: 0.2758 - val_accuracy: 0.9204 - 866ms/epoch - 9ms/step\n",
      "Epoch 32/100\n",
      "100/100 - 1s - loss: 0.2821 - accuracy: 0.9183 - val_loss: 0.2739 - val_accuracy: 0.9212 - 1s/epoch - 11ms/step\n",
      "Epoch 33/100\n",
      "100/100 - 1s - loss: 0.2795 - accuracy: 0.9191 - val_loss: 0.2718 - val_accuracy: 0.9215 - 1s/epoch - 11ms/step\n",
      "Epoch 34/100\n",
      "100/100 - 1s - loss: 0.2767 - accuracy: 0.9194 - val_loss: 0.2706 - val_accuracy: 0.9222 - 819ms/epoch - 8ms/step\n",
      "Epoch 35/100\n",
      "100/100 - 1s - loss: 0.2742 - accuracy: 0.9204 - val_loss: 0.2698 - val_accuracy: 0.9233 - 868ms/epoch - 9ms/step\n",
      "Epoch 36/100\n",
      "100/100 - 1s - loss: 0.2717 - accuracy: 0.9215 - val_loss: 0.2644 - val_accuracy: 0.9243 - 903ms/epoch - 9ms/step\n",
      "Epoch 37/100\n",
      "100/100 - 1s - loss: 0.2690 - accuracy: 0.9227 - val_loss: 0.2629 - val_accuracy: 0.9246 - 988ms/epoch - 10ms/step\n",
      "Epoch 38/100\n",
      "100/100 - 1s - loss: 0.2666 - accuracy: 0.9229 - val_loss: 0.2596 - val_accuracy: 0.9252 - 1s/epoch - 10ms/step\n",
      "Epoch 39/100\n",
      "100/100 - 1s - loss: 0.2642 - accuracy: 0.9236 - val_loss: 0.2574 - val_accuracy: 0.9250 - 773ms/epoch - 8ms/step\n",
      "Epoch 40/100\n",
      "100/100 - 1s - loss: 0.2618 - accuracy: 0.9247 - val_loss: 0.2556 - val_accuracy: 0.9267 - 800ms/epoch - 8ms/step\n",
      "Epoch 41/100\n",
      "100/100 - 1s - loss: 0.2592 - accuracy: 0.9251 - val_loss: 0.2531 - val_accuracy: 0.9274 - 876ms/epoch - 9ms/step\n",
      "Epoch 42/100\n",
      "100/100 - 1s - loss: 0.2568 - accuracy: 0.9258 - val_loss: 0.2517 - val_accuracy: 0.9281 - 735ms/epoch - 7ms/step\n",
      "Epoch 43/100\n",
      "100/100 - 1s - loss: 0.2545 - accuracy: 0.9267 - val_loss: 0.2488 - val_accuracy: 0.9281 - 761ms/epoch - 8ms/step\n",
      "Epoch 44/100\n",
      "100/100 - 1s - loss: 0.2523 - accuracy: 0.9271 - val_loss: 0.2469 - val_accuracy: 0.9293 - 706ms/epoch - 7ms/step\n",
      "Epoch 45/100\n",
      "100/100 - 1s - loss: 0.2497 - accuracy: 0.9284 - val_loss: 0.2441 - val_accuracy: 0.9285 - 655ms/epoch - 7ms/step\n",
      "Epoch 46/100\n",
      "100/100 - 1s - loss: 0.2474 - accuracy: 0.9291 - val_loss: 0.2433 - val_accuracy: 0.9302 - 703ms/epoch - 7ms/step\n",
      "Epoch 47/100\n",
      "100/100 - 1s - loss: 0.2451 - accuracy: 0.9294 - val_loss: 0.2405 - val_accuracy: 0.9302 - 801ms/epoch - 8ms/step\n",
      "Epoch 48/100\n",
      "100/100 - 1s - loss: 0.2427 - accuracy: 0.9298 - val_loss: 0.2393 - val_accuracy: 0.9302 - 787ms/epoch - 8ms/step\n",
      "Epoch 49/100\n",
      "100/100 - 1s - loss: 0.2406 - accuracy: 0.9308 - val_loss: 0.2379 - val_accuracy: 0.9306 - 741ms/epoch - 7ms/step\n",
      "Epoch 50/100\n",
      "100/100 - 1s - loss: 0.2383 - accuracy: 0.9321 - val_loss: 0.2347 - val_accuracy: 0.9323 - 804ms/epoch - 8ms/step\n",
      "Epoch 51/100\n",
      "100/100 - 1s - loss: 0.2361 - accuracy: 0.9323 - val_loss: 0.2318 - val_accuracy: 0.9322 - 844ms/epoch - 8ms/step\n",
      "Epoch 52/100\n",
      "100/100 - 1s - loss: 0.2338 - accuracy: 0.9329 - val_loss: 0.2307 - val_accuracy: 0.9336 - 997ms/epoch - 10ms/step\n",
      "Epoch 53/100\n",
      "100/100 - 1s - loss: 0.2316 - accuracy: 0.9337 - val_loss: 0.2279 - val_accuracy: 0.9334 - 764ms/epoch - 8ms/step\n",
      "Epoch 54/100\n",
      "100/100 - 1s - loss: 0.2291 - accuracy: 0.9345 - val_loss: 0.2260 - val_accuracy: 0.9348 - 1s/epoch - 10ms/step\n",
      "Epoch 55/100\n",
      "100/100 - 1s - loss: 0.2271 - accuracy: 0.9351 - val_loss: 0.2255 - val_accuracy: 0.9337 - 1s/epoch - 10ms/step\n",
      "Epoch 56/100\n",
      "100/100 - 1s - loss: 0.2251 - accuracy: 0.9359 - val_loss: 0.2223 - val_accuracy: 0.9357 - 843ms/epoch - 8ms/step\n",
      "Epoch 57/100\n",
      "100/100 - 1s - loss: 0.2231 - accuracy: 0.9362 - val_loss: 0.2194 - val_accuracy: 0.9365 - 781ms/epoch - 8ms/step\n",
      "Epoch 58/100\n",
      "100/100 - 1s - loss: 0.2209 - accuracy: 0.9370 - val_loss: 0.2180 - val_accuracy: 0.9363 - 768ms/epoch - 8ms/step\n",
      "Epoch 59/100\n",
      "100/100 - 1s - loss: 0.2187 - accuracy: 0.9379 - val_loss: 0.2165 - val_accuracy: 0.9359 - 672ms/epoch - 7ms/step\n",
      "Epoch 60/100\n",
      "100/100 - 1s - loss: 0.2166 - accuracy: 0.9383 - val_loss: 0.2143 - val_accuracy: 0.9368 - 846ms/epoch - 8ms/step\n",
      "Epoch 61/100\n",
      "100/100 - 1s - loss: 0.2144 - accuracy: 0.9387 - val_loss: 0.2128 - val_accuracy: 0.9398 - 785ms/epoch - 8ms/step\n",
      "Epoch 62/100\n",
      "100/100 - 1s - loss: 0.2124 - accuracy: 0.9397 - val_loss: 0.2113 - val_accuracy: 0.9386 - 748ms/epoch - 7ms/step\n",
      "Epoch 63/100\n",
      "100/100 - 1s - loss: 0.2103 - accuracy: 0.9400 - val_loss: 0.2077 - val_accuracy: 0.9401 - 733ms/epoch - 7ms/step\n",
      "Epoch 64/100\n",
      "100/100 - 1s - loss: 0.2084 - accuracy: 0.9409 - val_loss: 0.2067 - val_accuracy: 0.9396 - 724ms/epoch - 7ms/step\n",
      "Epoch 65/100\n",
      "100/100 - 1s - loss: 0.2063 - accuracy: 0.9416 - val_loss: 0.2061 - val_accuracy: 0.9390 - 895ms/epoch - 9ms/step\n",
      "Epoch 66/100\n",
      "100/100 - 1s - loss: 0.2045 - accuracy: 0.9421 - val_loss: 0.2035 - val_accuracy: 0.9396 - 712ms/epoch - 7ms/step\n",
      "Epoch 67/100\n",
      "100/100 - 1s - loss: 0.2023 - accuracy: 0.9426 - val_loss: 0.2013 - val_accuracy: 0.9422 - 758ms/epoch - 8ms/step\n",
      "Epoch 68/100\n",
      "100/100 - 1s - loss: 0.2006 - accuracy: 0.9433 - val_loss: 0.1989 - val_accuracy: 0.9424 - 747ms/epoch - 7ms/step\n",
      "Epoch 69/100\n",
      "100/100 - 1s - loss: 0.1987 - accuracy: 0.9432 - val_loss: 0.1969 - val_accuracy: 0.9429 - 752ms/epoch - 8ms/step\n",
      "Epoch 70/100\n",
      "100/100 - 1s - loss: 0.1967 - accuracy: 0.9440 - val_loss: 0.1954 - val_accuracy: 0.9431 - 732ms/epoch - 7ms/step\n",
      "Epoch 71/100\n",
      "100/100 - 1s - loss: 0.1948 - accuracy: 0.9445 - val_loss: 0.1943 - val_accuracy: 0.9429 - 756ms/epoch - 8ms/step\n",
      "Epoch 72/100\n",
      "100/100 - 1s - loss: 0.1930 - accuracy: 0.9448 - val_loss: 0.1931 - val_accuracy: 0.9437 - 747ms/epoch - 7ms/step\n",
      "Epoch 73/100\n",
      "100/100 - 1s - loss: 0.1914 - accuracy: 0.9454 - val_loss: 0.1912 - val_accuracy: 0.9444 - 757ms/epoch - 8ms/step\n",
      "Epoch 74/100\n",
      "100/100 - 1s - loss: 0.1896 - accuracy: 0.9459 - val_loss: 0.1883 - val_accuracy: 0.9445 - 753ms/epoch - 8ms/step\n",
      "Epoch 75/100\n",
      "100/100 - 1s - loss: 0.1878 - accuracy: 0.9461 - val_loss: 0.1869 - val_accuracy: 0.9465 - 794ms/epoch - 8ms/step\n",
      "Epoch 76/100\n",
      "100/100 - 1s - loss: 0.1861 - accuracy: 0.9468 - val_loss: 0.1865 - val_accuracy: 0.9450 - 729ms/epoch - 7ms/step\n",
      "Epoch 77/100\n",
      "100/100 - 1s - loss: 0.1842 - accuracy: 0.9474 - val_loss: 0.1838 - val_accuracy: 0.9457 - 762ms/epoch - 8ms/step\n",
      "Epoch 78/100\n",
      "100/100 - 1s - loss: 0.1826 - accuracy: 0.9479 - val_loss: 0.1818 - val_accuracy: 0.9467 - 951ms/epoch - 10ms/step\n",
      "Epoch 79/100\n",
      "100/100 - 1s - loss: 0.1810 - accuracy: 0.9484 - val_loss: 0.1821 - val_accuracy: 0.9473 - 1s/epoch - 10ms/step\n",
      "Epoch 80/100\n",
      "100/100 - 1s - loss: 0.1793 - accuracy: 0.9491 - val_loss: 0.1795 - val_accuracy: 0.9466 - 771ms/epoch - 8ms/step\n",
      "Epoch 81/100\n",
      "100/100 - 1s - loss: 0.1774 - accuracy: 0.9492 - val_loss: 0.1778 - val_accuracy: 0.9478 - 800ms/epoch - 8ms/step\n",
      "Epoch 82/100\n",
      "100/100 - 1s - loss: 0.1760 - accuracy: 0.9493 - val_loss: 0.1763 - val_accuracy: 0.9474 - 792ms/epoch - 8ms/step\n",
      "Epoch 83/100\n",
      "100/100 - 1s - loss: 0.1744 - accuracy: 0.9500 - val_loss: 0.1762 - val_accuracy: 0.9471 - 697ms/epoch - 7ms/step\n",
      "Epoch 84/100\n",
      "100/100 - 1s - loss: 0.1729 - accuracy: 0.9508 - val_loss: 0.1732 - val_accuracy: 0.9495 - 765ms/epoch - 8ms/step\n",
      "Epoch 85/100\n",
      "100/100 - 1s - loss: 0.1715 - accuracy: 0.9509 - val_loss: 0.1718 - val_accuracy: 0.9493 - 814ms/epoch - 8ms/step\n",
      "Epoch 86/100\n",
      "100/100 - 1s - loss: 0.1699 - accuracy: 0.9513 - val_loss: 0.1706 - val_accuracy: 0.9498 - 698ms/epoch - 7ms/step\n",
      "Epoch 87/100\n",
      "100/100 - 1s - loss: 0.1684 - accuracy: 0.9517 - val_loss: 0.1692 - val_accuracy: 0.9502 - 723ms/epoch - 7ms/step\n",
      "Epoch 88/100\n",
      "100/100 - 1s - loss: 0.1668 - accuracy: 0.9523 - val_loss: 0.1687 - val_accuracy: 0.9501 - 712ms/epoch - 7ms/step\n",
      "Epoch 89/100\n",
      "100/100 - 1s - loss: 0.1654 - accuracy: 0.9523 - val_loss: 0.1655 - val_accuracy: 0.9522 - 693ms/epoch - 7ms/step\n",
      "Epoch 90/100\n",
      "100/100 - 1s - loss: 0.1638 - accuracy: 0.9527 - val_loss: 0.1667 - val_accuracy: 0.9501 - 721ms/epoch - 7ms/step\n",
      "Epoch 91/100\n",
      "100/100 - 1s - loss: 0.1625 - accuracy: 0.9534 - val_loss: 0.1636 - val_accuracy: 0.9517 - 832ms/epoch - 8ms/step\n",
      "Epoch 92/100\n",
      "100/100 - 1s - loss: 0.1611 - accuracy: 0.9538 - val_loss: 0.1625 - val_accuracy: 0.9517 - 781ms/epoch - 8ms/step\n",
      "Epoch 93/100\n",
      "100/100 - 1s - loss: 0.1598 - accuracy: 0.9542 - val_loss: 0.1607 - val_accuracy: 0.9524 - 832ms/epoch - 8ms/step\n",
      "Epoch 94/100\n",
      "100/100 - 1s - loss: 0.1584 - accuracy: 0.9543 - val_loss: 0.1606 - val_accuracy: 0.9518 - 748ms/epoch - 7ms/step\n",
      "Epoch 95/100\n",
      "100/100 - 1s - loss: 0.1570 - accuracy: 0.9551 - val_loss: 0.1588 - val_accuracy: 0.9528 - 732ms/epoch - 7ms/step\n",
      "Epoch 96/100\n",
      "100/100 - 1s - loss: 0.1556 - accuracy: 0.9553 - val_loss: 0.1569 - val_accuracy: 0.9537 - 716ms/epoch - 7ms/step\n",
      "Epoch 97/100\n",
      "100/100 - 1s - loss: 0.1542 - accuracy: 0.9560 - val_loss: 0.1571 - val_accuracy: 0.9533 - 890ms/epoch - 9ms/step\n",
      "Epoch 98/100\n",
      "100/100 - 1s - loss: 0.1529 - accuracy: 0.9560 - val_loss: 0.1555 - val_accuracy: 0.9533 - 768ms/epoch - 8ms/step\n",
      "Epoch 99/100\n",
      "100/100 - 1s - loss: 0.1517 - accuracy: 0.9564 - val_loss: 0.1538 - val_accuracy: 0.9546 - 781ms/epoch - 8ms/step\n",
      "Epoch 100/100\n",
      "100/100 - 1s - loss: 0.1505 - accuracy: 0.9573 - val_loss: 0.1538 - val_accuracy: 0.9544 - 782ms/epoch - 8ms/step\n"
     ]
    }
   ],
   "source": [
    "# training the model and saving metrics in history\n",
    "history = model.fit(X_train, Y_train, validation_data=(X_test, Y_test), verbose=2,\n",
    "          batch_size=600,\n",
    "          epochs=100,\n",
    "        )\n",
    "\n",
    "## Now take a copy of the weights in the first hidden layer _after_ training on data\n",
    "weights_after_training = model.layers[0].get_weights()[0].copy()\n",
    "weights_after_training.resize(200704)"
   ]
  },
  {
   "cell_type": "markdown",
   "id": "9f49b609",
   "metadata": {},
   "source": [
    "## Q: 5.2\n",
    "\n",
    "##### Why are there 100 steps per epoc in this training? (0.5 marks)"
   ]
  },
  {
   "cell_type": "markdown",
   "id": "849846dd",
   "metadata": {},
   "source": [
    "### Answer:\n",
    "\n",
    "Because since we have decided to use batch training with a batch size of 600, we end up with 60000/600 = 100 mini batches. We iterate over each mini-batch during every epoch in the training phase, hence there will be 100 iterations of training per epoch."
   ]
  },
  {
   "cell_type": "markdown",
   "id": "98ab5c0a",
   "metadata": {},
   "source": [
    "\n",
    "# Problem6: Understanding the training history\n",
    "\n",
    "### Cross-Checking our Model fit\n",
    "\n",
    "The returned history from our fit contains both the accuracy and the loss function over the epocs of training.\n",
    "\n",
    "This information can be accessed via: `history.history[]`\n",
    "\n",
    "We now want to make 2 plots:\n",
    "\n",
    "\n",
    "## 6.1 Plotting Evolution of model Accuracy\n",
    "\n",
    "This plot will show how the accuracy of the model has increased vs epocs of training.\n",
    "\n",
    "This should show for a good model that accuracy increases with the number of epocs.\n",
    "\n",
    "###### Hint:\n",
    "`history.history[accuracy]` vs `history.history[val_accuracy]` give the model accuracy during the training epocs."
   ]
  },
  {
   "cell_type": "code",
   "execution_count": 18,
   "id": "4ee2befc",
   "metadata": {},
   "outputs": [
    {
     "name": "stdout",
     "output_type": "stream",
     "text": [
      "The accuracy of the model using the training dataset is 0.9572666883468628\n",
      "The accuracy of the model using the test dataset is 0.9544000029563904\n"
     ]
    },
    {
     "data": {
      "text/plain": [
       "[]"
      ]
     },
     "execution_count": 18,
     "metadata": {},
     "output_type": "execute_result"
    },
    {
     "data": {
      "image/png": "[encoded data removed]",
      "text/plain": [
       "<Figure size 640x480 with 1 Axes>"
      ]
     },
     "metadata": {},
     "output_type": "display_data"
    }
   ],
   "source": [
    "accuracy_training = history.history['accuracy']\n",
    "accuracy_test = history.history['val_accuracy']\n",
    "\n",
    "print(f\"The accuracy of the model using the training dataset is {accuracy_training[-1]}\")\n",
    "print(f\"The accuracy of the model using the test dataset is {accuracy_test[-1]}\")\n",
    "\n",
    "plt.plot(accuracy_test, label=\"test\", c=\"r\")\n",
    "plt.plot(accuracy_training, label=\"train\", c=\"b\")\n",
    "plt.legend()\n",
    "plt.xlabel(\"Epochs\")\n",
    "plt.ylabel(\"Accuracy\")\n",
    "plt.title(\"Accuracy of feed-forward linear network\")\n",
    "plt.plot()"
   ]
  },
  {
   "cell_type": "markdown",
   "id": "4be3e7ac",
   "metadata": {},
   "source": [
    "## 6.2 Plotting Evolution of model losses\n",
    "\n",
    "As above, but now we want to see how the loss function evolves using the `loss` vs `val_loss` parameters vs epoc."
   ]
  },
  {
   "cell_type": "code",
   "execution_count": 19,
   "id": "3e9a49dc-73b9-4c5e-9a81-4e0e0dd73975",
   "metadata": {
    "scrolled": true
   },
   "outputs": [
    {
     "name": "stdout",
     "output_type": "stream",
     "text": [
      "The accuracy of the model using the training dataset is 0.15045294165611267\n",
      "The accuracy of the model using the test dataset is 0.15383043885231018\n"
     ]
    },
    {
     "data": {
      "text/plain": [
       "[]"
      ]
     },
     "execution_count": 19,
     "metadata": {},
     "output_type": "execute_result"
    },
    {
     "data": {
      "image/png": "[encoded data removed]",
      "text/plain": [
       "<Figure size 640x480 with 1 Axes>"
      ]
     },
     "metadata": {},
     "output_type": "display_data"
    }
   ],
   "source": [
    "training_loss = history.history['loss']\n",
    "test_loss = history.history['val_loss']\n",
    "\n",
    "print(f\"The accuracy of the model using the training dataset is {training_loss[-1]}\")\n",
    "print(f\"The accuracy of the model using the test dataset is {test_loss[-1]}\")\n",
    "\n",
    "plt.plot(test_loss, label=\"test\", c=\"r\")\n",
    "plt.plot(training_loss, label=\"train\", c=\"b\")\n",
    "plt.legend()\n",
    "plt.xlabel(\"Epochs\")\n",
    "plt.ylabel(\"Loss function\")\n",
    "plt.title(\"Loss of feed-forward linear network\")\n",
    "plt.plot()"
   ]
  },
  {
   "cell_type": "markdown",
   "id": "0bbf627c",
   "metadata": {},
   "source": [
    "## Q 6.3: Is this model over-trained?"
   ]
  },
  {
   "cell_type": "markdown",
   "id": "76966f52",
   "metadata": {},
   "source": [
    "### Answer:\n",
    "\n",
    "The difference in the accuracy of the model on the training dataset (which it has knowledge of) and the test dataset (which it does not) is in the order of $O(10^{-3})$, hence its performance is almost identical on both datasets.\n",
    "\n",
    "This is indication that the model is sufficiently generalised and therefore is not over trained. \n",
    "\n",
    "The same conclusion is supported when looking at the loss of the model at the end of training, with no significant difference in loss between both datasets.\n",
    "\n",
    "Additionally, while the slope of the of the loss curve is small, it has not plataued for a significantly, indicating that perhapse we may still be able to improve the preformance of the model slightly with some additional epochs of training"
   ]
  },
  {
   "cell_type": "markdown",
   "id": "9894d0cc",
   "metadata": {},
   "source": [
    "\n",
    "# Problem 7: Making predictions\n",
    "\n",
    "### Testing how well our model classifies different numbers\n",
    "\n",
    "In order to test how well our model actually classifies different numbers we need to be able to make predictions using it.\n",
    "\n",
    "Our model is designed to output the probability of each label being true (according to the model).\n",
    "\n",
    "With that in mind we want to get the best value from a single image.\n",
    "\n",
    "\n",
    "Our model has been defined to take an input of shape `(1, 784)`. This allows us to pass many images at a time to the model to either train or to have predictions made on.\n",
    "\n",
    "\n",
    "## 7.1 Predicting with our model\n",
    "\n",
    "### Want to make a prediction using the 10th element of the testing dataset\n",
    "\n",
    "Lets first make a single prediction using our dataset and model.\n",
    "\n",
    "To do this we need to:\n",
    "\n",
    "1. Take the 10th element from our test dataset\n",
    "2. Resize this to match the expected input dimensions from our model\n",
    "3. Make a prediction using this input using `model.predict`\n",
    "4. Make a bar chart showing the predictions from the model.\n",
    "\n",
    "###### Hint: `plt.bar` is useful for plotting the output"
   ]
  },
  {
   "cell_type": "code",
   "execution_count": 20,
   "id": "d8ca3e4a",
   "metadata": {
    "scrolled": true
   },
   "outputs": [
    {
     "name": "stdout",
     "output_type": "stream",
     "text": [
      "1/1 [==============================] - 0s 43ms/step\n"
     ]
    },
    {
     "data": {
      "text/plain": [
       "Text(0, 0.5, 'Probability of prediction')"
      ]
     },
     "execution_count": 20,
     "metadata": {},
     "output_type": "execute_result"
    },
    {
     "data": {
      "image/png": "[encoded data removed]",
      "text/plain": [
       "<Figure size 640x480 with 1 Axes>"
      ]
     },
     "metadata": {},
     "output_type": "display_data"
    }
   ],
   "source": [
    "single_prediction_input = X_test[9]\n",
    "# Expand 0th dimention to get shape (1, 784)\n",
    "single_prediction_input = tf.expand_dims(single_prediction_input, axis=0)\n",
    "prediction = model.predict(single_prediction_input)\n",
    "\n",
    "labels = np.arange(0, 10)\n",
    "plt.bar(labels, prediction[0])\n",
    "plt.title(\"Neural network prediction on input\")\n",
    "plt.xticks(labels)\n",
    "plt.xlabel(\"labels\")\n",
    "plt.ylabel(\"Probability of prediction\")"
   ]
  },
  {
   "cell_type": "markdown",
   "id": "10c132c2",
   "metadata": {},
   "source": [
    "## 7.2 Making a Numerical Prediction\n",
    "\n",
    "The method `argmax` from numpy can help us change this prediction distribution from a vector to a single value.\n",
    "\n",
    "### Predict the number in this image ###"
   ]
  },
  {
   "cell_type": "code",
   "execution_count": 23,
   "id": "858db180",
   "metadata": {},
   "outputs": [
    {
     "name": "stdout",
     "output_type": "stream",
     "text": [
      "The ground truth label is 9\n",
      "The model predicts the input to be 9 with a probability of 0.9630\n"
     ]
    }
   ],
   "source": [
    "print(f\"The ground truth label is {np.argmax(Y_test[9])}\")\n",
    "print(f\"The model predicts the input to be {np.argmax(prediction[0])} with a probability of {np.max(prediction[0]):.4f}\")"
   ]
  },
  {
   "cell_type": "markdown",
   "id": "265939e0",
   "metadata": {},
   "source": [
    "# Problem 8 Testing the model\n",
    "\n",
    "One of the ways we can evaluate how well our model is spearating our input data we can build a confusion matrix.\n",
    "\n",
    "This allows us to see how many numbers are incorrectly identified using a labelled dataset.\n",
    "\n",
    "## Constructing a Confusion Matrix\n",
    "\n",
    "In order to construct a confusion matrix we need to make predictions over a large number of inputs and be able to compare them to labels which are known to be correct.\n",
    "\n",
    "Taking the 'training' dataset can collect numerical predictions using `argmax` for each of the 60,000 entries in the dataset.\n",
    "\n",
    "## 8.1 Make many predictions\n",
    "\n",
    "To collect enough data to produce our confusion matrix we can make predictions over the whole training (or test) dataset."
   ]
  },
  {
   "cell_type": "code",
   "execution_count": 24,
   "id": "396d4c5f",
   "metadata": {},
   "outputs": [
    {
     "name": "stdout",
     "output_type": "stream",
     "text": [
      "313/313 [==============================] - 1s 3ms/step\n"
     ]
    }
   ],
   "source": [
    "# Using test dataset to not bias the results\n",
    "test_predictions = model.predict(X_test)\n",
    "\n",
    "# Find labels for each datapoint\n",
    "test_truth_labels = Y_test.argmax(axis=1)\n",
    "test_truth_predictions = test_predictions.argmax(axis=1)"
   ]
  },
  {
   "cell_type": "markdown",
   "id": "f4cff0da",
   "metadata": {},
   "source": [
    "## 8.2 Plot Confusion Matrix\n",
    "\n",
    "We can now construct a confusion matrix using `tf.math.confusion_matrix` and plot it with `sns.heatmap`."
   ]
  },
  {
   "cell_type": "code",
   "execution_count": 25,
   "id": "7d4c9f83",
   "metadata": {
    "scrolled": true
   },
   "outputs": [
    {
     "data": {
      "image/png": "[encoded data removed]",
      "text/plain": [
       "<Figure size 640x480 with 2 Axes>"
      ]
     },
     "metadata": {},
     "output_type": "display_data"
    }
   ],
   "source": [
    "# Create the confusion matrix\n",
    "confusion_matrix = tf.math.confusion_matrix(\n",
    "    labels=test_truth_labels,\n",
    "    predictions=test_truth_predictions,\n",
    "    num_classes=10\n",
    ")\n",
    "\n",
    "# Import the useful tools for plotting a confusion matrix\n",
    "import seaborn as sns\n",
    "from matplotlib.colors import LogNorm\n",
    "\n",
    "# Plot the confusion matrix using a heatmap\n",
    "sns.heatmap(confusion_matrix, annot=False, cmap='Blues', norm=LogNorm())\n",
    "plt.xlabel('Predicted Labels')\n",
    "plt.ylabel('True Labels')\n",
    "plt.show()\n"
   ]
  },
  {
   "cell_type": "markdown",
   "id": "a7dfdbd9",
   "metadata": {},
   "source": [
    "# 9: Making Predictions with new data\n",
    "\n",
    "Make aure that you download the sample image \n",
    "\n",
    "## 9.1 Load data from `sample_image.png`\n",
    "\n",
    "Complete the load_image method below to load a new numerical image file from disk, resize and normalize the data into a format which we can use with our model."
   ]
  },
  {
   "cell_type": "code",
   "execution_count": 26,
   "id": "2bfdd702",
   "metadata": {},
   "outputs": [],
   "source": [
    "# load and prepare the image\n",
    "def load_image(filename):\n",
    "    # load the image\n",
    "    #img = load_img(filename, target_size=(28, 28), color_mode='grayscale')\n",
    "    img = load_img(filename, target_size=(28, 28), color_mode='grayscale')\n",
    "    # convert to array\n",
    "    img = img_to_array(img)\n",
    " \n",
    "    # Cast to tensor \n",
    "    img = tf.cast(img, tf.float32)\n",
    "    # Normalise\n",
    "    img = normalise_dataset(img, mean=0.5, std=0.5)\n",
    "    # Resize\n",
    "    img = tf.reshape(img, shape=[1, -1]) \n",
    "    return img\n",
    "\n",
    "# load the image\n",
    "img = load_image('./sample_image.png')"
   ]
  },
  {
   "cell_type": "markdown",
   "id": "b18bf6ba",
   "metadata": {},
   "source": [
    "## 9.2 Make a prediction on the new data\n",
    "\n",
    "Now that we've loaded the sample file, use our model to make a prediction on this data."
   ]
  },
  {
   "cell_type": "code",
   "execution_count": 27,
   "id": "e74b2097",
   "metadata": {},
   "outputs": [
    {
     "name": "stdout",
     "output_type": "stream",
     "text": [
      "1/1 [==============================] - 0s 10ms/step\n",
      "Prediction: 9\n"
     ]
    },
    {
     "data": {
      "text/plain": [
       "Text(0.5, 0, 'labels')"
      ]
     },
     "execution_count": 27,
     "metadata": {},
     "output_type": "execute_result"
    },
    {
     "data": {
      "image/png": "[encoded data removed]",
      "text/plain": [
       "<Figure size 640x480 with 2 Axes>"
      ]
     },
     "metadata": {},
     "output_type": "display_data"
    }
   ],
   "source": [
    "# predict the class\n",
    "predict_value = model.predict(img)\n",
    "predict_value\n",
    "digit = argmax(predict_value)\n",
    "print('Prediction: {}'.format(digit))\n",
    "\n",
    "fig = plt.figure()\n",
    "plt.subplot(2,1,1)\n",
    "plt.imshow(mpimg.imread('./sample_image.png'), cmap='gray', interpolation='none')\n",
    "plt.title(\"Sample File\")\n",
    "plt.xticks([])\n",
    "plt.yticks([])\n",
    "plt.subplot(2,1,2)\n",
    "\n",
    "\n",
    "plt.bar(labels, predict_value[0])\n",
    "plt.yscale('log')\n",
    "plt.xticks(np.arange(0,10))\n",
    "\n",
    "plt.title(\"Predicted Value Distribution\")\n",
    "plt.xlabel(\"labels\")"
   ]
  },
  {
   "cell_type": "markdown",
   "id": "9619684a",
   "metadata": {},
   "source": [
    "# Bonus 1: Analyzing Weights\n",
    "\n",
    "Before and after fitting our model we took copies of the weights used in training our dataset.\n",
    "\n",
    "If you construct a histogram of the weights from before fitting what distribution does it follow?\n",
    "\n",
    "## B1.1 Plot weights from before training"
   ]
  },
  {
   "cell_type": "code",
   "execution_count": 28,
   "id": "3319e643",
   "metadata": {
    "scrolled": true
   },
   "outputs": [
    {
     "name": "stdout",
     "output_type": "stream",
     "text": [
      "Uniform distribution. Randomly initialised weights\n"
     ]
    },
    {
     "data": {
      "image/png": "[encoded data removed]",
      "text/plain": [
       "<Figure size 640x480 with 1 Axes>"
      ]
     },
     "metadata": {},
     "output_type": "display_data"
    }
   ],
   "source": [
    "fig = plt.figure()\n",
    "_, _, _ = plt.hist(weights_before_training, bins=500)\n",
    "print(f\"Uniform distribution. Randomly initialised weights\")"
   ]
  },
  {
   "cell_type": "markdown",
   "id": "c7e19657",
   "metadata": {},
   "source": [
    "## B1.2 Plot the weights After training"
   ]
  },
  {
   "cell_type": "code",
   "execution_count": 29,
   "id": "a5ccd256",
   "metadata": {
    "scrolled": true
   },
   "outputs": [
    {
     "name": "stdout",
     "output_type": "stream",
     "text": [
      "Uniform distribution convoluted with a flat/rounded gaussian. GELU as activation.\n"
     ]
    },
    {
     "data": {
      "image/png": "[encoded data removed]",
      "text/plain": [
       "<Figure size 640x480 with 1 Axes>"
      ]
     },
     "metadata": {},
     "output_type": "display_data"
    }
   ],
   "source": [
    "fig = plt.figure()\n",
    "_, _, _ = plt.hist(weights_after_training, bins=500)\n",
    "print(f\"Uniform distribution convoluted with a flat/rounded gaussian. GELU as activation.\")"
   ]
  },
  {
   "cell_type": "markdown",
   "id": "c3c5ec28",
   "metadata": {},
   "source": [
    "## B1.3 Compare the weights\n",
    "\n",
    "Construct a plot comparing the weights before fitting to the values after fitting.\n",
    "\n",
    "##### Hint: You may need to use a log plot in y to see the full distribution(s)"
   ]
  },
  {
   "cell_type": "code",
   "execution_count": 30,
   "id": "59ba82be",
   "metadata": {
    "scrolled": true
   },
   "outputs": [
    {
     "data": {
      "image/png": "[encoded data removed]",
      "text/plain": [
       "<Figure size 640x480 with 1 Axes>"
      ]
     },
     "metadata": {},
     "output_type": "display_data"
    }
   ],
   "source": [
    "fig = plt.figure()\n",
    "plt.hist(weights_after_training, bins=100)\n",
    "plt.hist(weights_before_training, bins=100)\n",
    "plt.yscale('log')"
   ]
  },
  {
   "cell_type": "markdown",
   "id": "8e02b2d4",
   "metadata": {},
   "source": [
    "## B1.4 Q: How might the weights vary if you train the model for an additional 80 steps?"
   ]
  },
  {
   "cell_type": "markdown",
   "id": "62b75f3b",
   "metadata": {},
   "source": [
    "### Answer:\n",
    "\n",
    "We would expect the the weights to be changes even more, the distribution of the weights will start to resemble more the underlying activation function used,hence for GELU, we shoud expect to see a higher proportion of the weights to fall within $1\\sigma$ of the distribution and fewer weights at the tail of the distribution"
   ]
  },
  {
   "cell_type": "markdown",
   "id": "30cab702",
   "metadata": {},
   "source": [
    "## B1.5 Q: How would including a regularizer impact the distribution of weights after training?"
   ]
  },
  {
   "cell_type": "markdown",
   "id": "d87d45f7",
   "metadata": {},
   "source": [
    "### Answer:\n",
    "\n",
    "### FINISH ME ###"
   ]
  },
  {
   "cell_type": "markdown",
   "id": "59248c16",
   "metadata": {},
   "source": [
    "# Bonus 2: Loading a model and optimizing it further"
   ]
  },
  {
   "cell_type": "markdown",
   "id": "e9e8c458",
   "metadata": {},
   "source": [
    "## B2.1 Saving our model\n",
    "\n",
    "Lets save our model to disk so we can take it home and use it to identify numbers"
   ]
  },
  {
   "cell_type": "code",
   "execution_count": 31,
   "id": "b92a8476",
   "metadata": {},
   "outputs": [
    {
     "name": "stdout",
     "output_type": "stream",
     "text": [
      "Saved trained model at ./keras_mnist.keras \n"
     ]
    }
   ],
   "source": [
    "# saving the model\n",
    "model_path = './keras_mnist.keras'\n",
    "model.save(model_path)\n",
    "print('Saved trained model at %s ' % model_path)"
   ]
  },
  {
   "cell_type": "markdown",
   "id": "c424cc24",
   "metadata": {},
   "source": [
    "## B2.2 Lets load our model and do some further training\n",
    "\n",
    "We can load a keras model from disk using the `'load_model'` utility."
   ]
  },
  {
   "cell_type": "code",
   "execution_count": 32,
   "id": "07d1c9f7-6ad6-44e8-9ce2-593995954bc6",
   "metadata": {
    "scrolled": true
   },
   "outputs": [
    {
     "name": "stdout",
     "output_type": "stream",
     "text": [
      "Model: \"sequential_1\"\n",
      "_________________________________________________________________\n",
      " Layer (type)                Output Shape              Param #   \n",
      "=================================================================\n",
      " dense_3 (Dense)             (None, 256)               200960    \n",
      "                                                                 \n",
      " dense_4 (Dense)             (None, 256)               65792     \n",
      "                                                                 \n",
      " dense_5 (Dense)             (None, 10)                2570      \n",
      "                                                                 \n",
      "=================================================================\n",
      "Total params: 269,322\n",
      "Trainable params: 269,322\n",
      "Non-trainable params: 0\n",
      "_________________________________________________________________\n"
     ]
    }
   ],
   "source": [
    "# load model\n",
    "nu_model = load_model('./keras_mnist.keras')\n",
    "nu_model.summary()"
   ]
  },
  {
   "cell_type": "markdown",
   "id": "227e1c59",
   "metadata": {},
   "source": [
    "## B2.3 Make some small changes this time\n",
    "\n",
    "Now we want to try training using the `'Adam'` optimizer so re-compile the model.\n",
    "\n",
    "(If you re-run model.summary you will find it doesn't need to be re-built)\n"
   ]
  },
  {
   "cell_type": "code",
   "execution_count": 33,
   "id": "5b85009f",
   "metadata": {},
   "outputs": [
    {
     "name": "stdout",
     "output_type": "stream",
     "text": [
      "Model: \"sequential_1\"\n",
      "_________________________________________________________________\n",
      " Layer (type)                Output Shape              Param #   \n",
      "=================================================================\n",
      " dense_3 (Dense)             (None, 256)               200960    \n",
      "                                                                 \n",
      " dense_4 (Dense)             (None, 256)               65792     \n",
      "                                                                 \n",
      " dense_5 (Dense)             (None, 10)                2570      \n",
      "                                                                 \n",
      "=================================================================\n",
      "Total params: 269,322\n",
      "Trainable params: 269,322\n",
      "Non-trainable params: 0\n",
      "_________________________________________________________________\n"
     ]
    }
   ],
   "source": [
    "# compiling the sequential model\n",
    "nu_model.compile(loss='categorical_crossentropy', metrics=['accuracy'], optimizer='Adam')\n",
    "\n",
    "# Print a helpful summary of our model\n",
    "nu_model.summary()"
   ]
  },
  {
   "cell_type": "markdown",
   "id": "9a88cd17",
   "metadata": {},
   "source": [
    "## B2.4 Re-Train\n",
    "\n",
    "We don't have new data to train our model on, but what happens if we continue training with our existing dataset?\n",
    "\n",
    "Re-train as before with the same data and batch/epoch sizes."
   ]
  },
  {
   "cell_type": "code",
   "execution_count": 34,
   "id": "98f0a329",
   "metadata": {},
   "outputs": [
    {
     "name": "stdout",
     "output_type": "stream",
     "text": [
      "Epoch 1/30\n",
      "100/100 - 1s - loss: 0.2219 - accuracy: 0.9359 - val_loss: 0.1385 - val_accuracy: 0.9593 - 1s/epoch - 15ms/step\n",
      "Epoch 2/30\n",
      "100/100 - 1s - loss: 0.1270 - accuracy: 0.9624 - val_loss: 0.1161 - val_accuracy: 0.9638 - 1s/epoch - 10ms/step\n",
      "Epoch 3/30\n",
      "100/100 - 1s - loss: 0.1048 - accuracy: 0.9688 - val_loss: 0.1002 - val_accuracy: 0.9707 - 1s/epoch - 12ms/step\n",
      "Epoch 4/30\n",
      "100/100 - 1s - loss: 0.0849 - accuracy: 0.9740 - val_loss: 0.0984 - val_accuracy: 0.9695 - 965ms/epoch - 10ms/step\n",
      "Epoch 5/30\n",
      "100/100 - 1s - loss: 0.0694 - accuracy: 0.9790 - val_loss: 0.0849 - val_accuracy: 0.9727 - 1s/epoch - 14ms/step\n",
      "Epoch 6/30\n",
      "100/100 - 1s - loss: 0.0573 - accuracy: 0.9825 - val_loss: 0.0817 - val_accuracy: 0.9756 - 1s/epoch - 12ms/step\n",
      "Epoch 7/30\n",
      "100/100 - 1s - loss: 0.0489 - accuracy: 0.9851 - val_loss: 0.0738 - val_accuracy: 0.9765 - 1s/epoch - 12ms/step\n",
      "Epoch 8/30\n",
      "100/100 - 1s - loss: 0.0401 - accuracy: 0.9878 - val_loss: 0.0821 - val_accuracy: 0.9742 - 1s/epoch - 10ms/step\n",
      "Epoch 9/30\n",
      "100/100 - 1s - loss: 0.0369 - accuracy: 0.9880 - val_loss: 0.0681 - val_accuracy: 0.9788 - 1s/epoch - 10ms/step\n",
      "Epoch 10/30\n",
      "100/100 - 1s - loss: 0.0325 - accuracy: 0.9899 - val_loss: 0.0847 - val_accuracy: 0.9731 - 888ms/epoch - 9ms/step\n",
      "Epoch 11/30\n",
      "100/100 - 1s - loss: 0.0257 - accuracy: 0.9921 - val_loss: 0.0725 - val_accuracy: 0.9785 - 936ms/epoch - 9ms/step\n",
      "Epoch 12/30\n",
      "100/100 - 1s - loss: 0.0245 - accuracy: 0.9921 - val_loss: 0.0746 - val_accuracy: 0.9772 - 961ms/epoch - 10ms/step\n",
      "Epoch 13/30\n",
      "100/100 - 1s - loss: 0.0232 - accuracy: 0.9924 - val_loss: 0.0683 - val_accuracy: 0.9798 - 1s/epoch - 10ms/step\n",
      "Epoch 14/30\n",
      "100/100 - 1s - loss: 0.0186 - accuracy: 0.9941 - val_loss: 0.0772 - val_accuracy: 0.9798 - 1s/epoch - 11ms/step\n",
      "Epoch 15/30\n",
      "100/100 - 1s - loss: 0.0140 - accuracy: 0.9958 - val_loss: 0.0772 - val_accuracy: 0.9796 - 993ms/epoch - 10ms/step\n",
      "Epoch 16/30\n",
      "100/100 - 1s - loss: 0.0132 - accuracy: 0.9963 - val_loss: 0.0707 - val_accuracy: 0.9801 - 1s/epoch - 10ms/step\n",
      "Epoch 17/30\n",
      "100/100 - 1s - loss: 0.0118 - accuracy: 0.9962 - val_loss: 0.0721 - val_accuracy: 0.9814 - 1s/epoch - 11ms/step\n",
      "Epoch 18/30\n",
      "100/100 - 1s - loss: 0.0150 - accuracy: 0.9952 - val_loss: 0.0886 - val_accuracy: 0.9779 - 1s/epoch - 11ms/step\n",
      "Epoch 19/30\n",
      "100/100 - 1s - loss: 0.0104 - accuracy: 0.9967 - val_loss: 0.0761 - val_accuracy: 0.9807 - 946ms/epoch - 9ms/step\n",
      "Epoch 20/30\n",
      "100/100 - 1s - loss: 0.0198 - accuracy: 0.9930 - val_loss: 0.0902 - val_accuracy: 0.9775 - 1s/epoch - 11ms/step\n",
      "Epoch 21/30\n",
      "100/100 - 1s - loss: 0.0112 - accuracy: 0.9962 - val_loss: 0.0925 - val_accuracy: 0.9775 - 965ms/epoch - 10ms/step\n",
      "Epoch 22/30\n",
      "100/100 - 1s - loss: 0.0137 - accuracy: 0.9951 - val_loss: 0.0722 - val_accuracy: 0.9820 - 913ms/epoch - 9ms/step\n",
      "Epoch 23/30\n",
      "100/100 - 1s - loss: 0.0104 - accuracy: 0.9964 - val_loss: 0.1002 - val_accuracy: 0.9759 - 875ms/epoch - 9ms/step\n",
      "Epoch 24/30\n",
      "100/100 - 1s - loss: 0.0108 - accuracy: 0.9963 - val_loss: 0.0931 - val_accuracy: 0.9770 - 1s/epoch - 11ms/step\n",
      "Epoch 25/30\n",
      "100/100 - 1s - loss: 0.0086 - accuracy: 0.9973 - val_loss: 0.0830 - val_accuracy: 0.9808 - 949ms/epoch - 9ms/step\n",
      "Epoch 26/30\n",
      "100/100 - 1s - loss: 0.0052 - accuracy: 0.9986 - val_loss: 0.0824 - val_accuracy: 0.9812 - 817ms/epoch - 8ms/step\n",
      "Epoch 27/30\n",
      "100/100 - 1s - loss: 0.0061 - accuracy: 0.9980 - val_loss: 0.0996 - val_accuracy: 0.9795 - 931ms/epoch - 9ms/step\n",
      "Epoch 28/30\n",
      "100/100 - 1s - loss: 0.0052 - accuracy: 0.9984 - val_loss: 0.0775 - val_accuracy: 0.9811 - 969ms/epoch - 10ms/step\n",
      "Epoch 29/30\n",
      "100/100 - 1s - loss: 0.0061 - accuracy: 0.9978 - val_loss: 0.0919 - val_accuracy: 0.9797 - 1s/epoch - 10ms/step\n",
      "Epoch 30/30\n",
      "100/100 - 1s - loss: 0.0078 - accuracy: 0.9974 - val_loss: 0.1089 - val_accuracy: 0.9779 - 930ms/epoch - 9ms/step\n"
     ]
    }
   ],
   "source": [
    "# training the model and saving metrics in history\n",
    "nu_history = nu_model.fit(X_train, Y_train, validation_data=(X_test, Y_test), verbose=2,\n",
    "          batch_size=600,\n",
    "          epochs=30\n",
    "          )"
   ]
  },
  {
   "cell_type": "markdown",
   "id": "35a1290e",
   "metadata": {},
   "source": [
    "## B2.5 Evaluating Extended Model Accuracy\n",
    "\n",
    "Lets make another set of plots to compare how our model accuracy improved with additional training epochs."
   ]
  },
  {
   "cell_type": "code",
   "execution_count": 35,
   "id": "487f3c26",
   "metadata": {
    "scrolled": true
   },
   "outputs": [
    {
     "data": {
      "text/plain": [
       "<matplotlib.legend.Legend at 0x7fb451e49c10>"
      ]
     },
     "execution_count": 35,
     "metadata": {},
     "output_type": "execute_result"
    },
    {
     "data": {
      "image/png": "[encoded data removed]",
      "text/plain": [
       "<Figure size 640x480 with 1 Axes>"
      ]
     },
     "metadata": {},
     "output_type": "display_data"
    }
   ],
   "source": [
    "accuracy_training = nu_history.history['accuracy']\n",
    "accuracy_test = nu_history.history['val_accuracy']\n",
    "\n",
    "# plotting the metrics\n",
    "fig = plt.figure()\n",
    "plt.plot(accuracy_training)\n",
    "plt.plot(accuracy_test)\n",
    "plt.title('model accuracy')\n",
    "plt.ylabel('accuracy')\n",
    "plt.xlabel('epoch')\n",
    "plt.legend(['train', 'validation'], loc='lower right')"
   ]
  },
  {
   "cell_type": "markdown",
   "id": "de963f38",
   "metadata": {},
   "source": [
    "## B2.6 Compare Extended loss functions\n",
    "\n",
    "As above lets generate some new plots for our loss function evolution"
   ]
  },
  {
   "cell_type": "code",
   "execution_count": 36,
   "id": "dac801c5",
   "metadata": {},
   "outputs": [
    {
     "data": {
      "text/plain": [
       "<matplotlib.legend.Legend at 0x7fb451f22990>"
      ]
     },
     "execution_count": 36,
     "metadata": {},
     "output_type": "execute_result"
    },
    {
     "data": {
      "image/png": "[encoded data removed]",
      "text/plain": [
       "<Figure size 640x480 with 1 Axes>"
      ]
     },
     "metadata": {},
     "output_type": "display_data"
    }
   ],
   "source": [
    "training_loss = nu_history.history['loss']\n",
    "validation_loss = nu_history.history['val_loss']\n",
    "\n",
    "# plotting the metrics\n",
    "fig = plt.figure()\n",
    "plt.plot(training_loss)\n",
    "plt.plot(validation_loss)\n",
    "plt.title('model loss')\n",
    "plt.ylabel('loss')\n",
    "plt.xlabel('epoch')\n",
    "plt.legend(['train', 'validation'], loc='upper right')"
   ]
  },
  {
   "cell_type": "markdown",
   "id": "d4acf560",
   "metadata": {},
   "source": [
    "## B2.7 Have we over-trained?\n",
    "\n",
    "Using the above plots do you think we've now over-trained our model?"
   ]
  },
  {
   "cell_type": "markdown",
   "id": "dec6f3cd",
   "metadata": {},
   "source": [
    "### Answer:\n",
    "\n",
    "We see both in the loss plot and accuracy plot a large difference between the preformance of the network on the training dataset compared to the validation dataset (good preformance in train, worse preformance in val).\n",
    "\n",
    "This is a likely indication that the model has learned to fit the statistical noise present in the distribution of the training dataset, reducing the generalisability of the model with data outside of the training dataset. This is a clear sign of over-training/over-fitting.\n",
    "\n",
    "Conclusion we can draw from this: When it comes to classifying MNIST with a linear feed-forward network, SGD optimiser preformes better than Adam."
   ]
  }
 ],
 "metadata": {
  "kernelspec": {
   "display_name": "Python 3 (ipykernel)",
   "language": "python",
   "name": "python3"
  },
  "language_info": {
   "codemirror_mode": {
    "name": "ipython",
    "version": 3
   },
   "file_extension": ".py",
   "mimetype": "text/x-python",
   "name": "python",
   "nbconvert_exporter": "python",
   "pygments_lexer": "ipython3",
   "version": "3.11.5"
  }
 },
 "nbformat": 4,
 "nbformat_minor": 5
}
