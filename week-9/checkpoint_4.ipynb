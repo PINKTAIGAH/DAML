{
 "cells": [
  {
   "cell_type": "code",
   "execution_count": 9,
   "metadata": {},
   "outputs": [],
   "source": [
    "import numpy as np\n",
    "from utils import *\n",
    "from scipy.stats import binom\n",
    "import matplotlib.pyplot as plt\n",
    "from scipy.special import erfinv\n",
    "from scipy.integrate import quad"
   ]
  },
  {
   "cell_type": "markdown",
   "metadata": {},
   "source": [
    "## Utility Functions"
   ]
  },
  {
   "cell_type": "code",
   "execution_count": 10,
   "metadata": {},
   "outputs": [],
   "source": [
    "def find_max(function, bound_low, bound_high, grid=100000,):\n",
    "    \"\"\"\n",
    "    Return the maximum value of a function\n",
    "    \"\"\"\n",
    "    if (not grid >= 0):\n",
    "        raise ValueError(\"Grid must be a a positive intiger\")\n",
    "    # Generate grid of x values\n",
    "    x = np.linspace(bound_low, bound_high, num=grid, endpoint=True,)\n",
    "    y = function(x)\n",
    "    return y.max()\n",
    "\n",
    "def find_significance(pdf, interval_limits):\n",
    "    \"\"\"\n",
    "    Compute the p_value and significance value of a interval\n",
    "    \"\"\"\n",
    "\n",
    "    # Compute integrals\n",
    "    full_integral = pdf.integrate( (pdf.boundMin, pdf.boundMax) )\n",
    "    interval_integral = pdf.integrate(interval_limits)\n",
    "\n",
    "    # Compute p value of probability\n",
    "    p_value = interval_integral/full_integral\n",
    "\n",
    "    n_sigma = compute_z_score(p_value)\n",
    "\n",
    "    return (p_value, n_sigma) \n",
    "\n",
    "def compute_z_score(p_value):\n",
    "    \"\"\"\n",
    "    Compute significance value from p_value\n",
    "    \"\"\"\n",
    "\n",
    "    # Compute Z score\n",
    "    n_sigma = np.sqrt(2) * erfinv(1 - p_value)\n",
    "\n",
    "    return n_sigma"
   ]
  },
  {
   "cell_type": "markdown",
   "metadata": {},
   "source": [
    "## Classes"
   ]
  },
  {
   "cell_type": "markdown",
   "metadata": {},
   "source": [
    "### Parent Classes"
   ]
  },
  {
   "cell_type": "code",
   "execution_count": null,
   "metadata": {},
   "outputs": [],
   "source": [
    "class ProbabilityDensityFunction(object):\n",
    "    \"\"\"\n",
    "    Parent class containing common methods and members to be used by all pdf classes\n",
    "    \"\"\"\n",
    "\n",
    "    def __init__(self, bounds):\n",
    "\n",
    "        if (not isinstance(bounds, tuple)):\n",
    "            raise TypeError(\"Variable bound must be a tuple with the form (boundMin, boundMax)\")\n",
    "        if (not len(bounds) == 2):\n",
    "            raise ValueError(\"Variable bound must have form (boundMin, boundMax)\")\n",
    "        if (not bounds[0] < bounds[1]):\n",
    "            raise ValueError(\"First element in tuple must be smaller than second\")\n",
    "        \n",
    "        # Initialise class variables\n",
    "        self.boundMin, self.boundMax = bounds\n",
    "        # Initialise list to hold randomly generated mass values\n",
    "        self.mass = []\n",
    "\n",
    "    def integrate(self, limits):\n",
    "        \"\"\"\n",
    "        Evaluate the integral of the pdf within the specified bounds\n",
    "        ##### NOTE: Integral is not normalised within the specified bounds of the class #####\n",
    "        \"\"\"\n",
    "\n",
    "        if (not isinstance(limits, tuple)):\n",
    "            raise TypeError(\"Variable bound must be a tuple with the form (limitMin, limitMax)\")\n",
    "        if (not len(limits) == 2):\n",
    "            raise ValueError(\"Variable bound must have form (limitMin, limitMax)\")\n",
    "        if (not limits[0] < limits[1]):\n",
    "            raise ValueError(\"First element in tuple must be smaller than second\")\n",
    "        if (not limits[0] >= self.boundMin):\n",
    "            raise ValueError(\"Lower integral limit must be larger than lower bound of pdf\")\n",
    "        if (not limits[1] <= self.boundMax):\n",
    "            raise ValueError(\"Higher integral limit must be smaller than upper bound of pdf\")\n",
    "    \n",
    "        limitLow, limitHigh = limits\n",
    "        integralResult, IntegralError = quad(self._evaluate, limitLow, limitHigh) \n",
    "        return integralResult\n",
    "    \n",
    "    def getMass(self,):\n",
    "        \"\"\"\n",
    "        Return numpy array containing all generated values\n",
    "        \"\"\"\n",
    "\n",
    "        return np.array(self.mass)"
   ]
  },
  {
   "cell_type": "markdown",
   "metadata": {},
   "source": [
    "### Child Classes"
   ]
  },
  {
   "cell_type": "code",
   "execution_count": null,
   "metadata": {},
   "outputs": [],
   "source": [
    "\n",
    "class Gaussian(ProbabilityDensityFunction):\n",
    "    \"\"\"\n",
    "    Class that will generate a random value according to a gaussian distribution using numpy.random.normal\n",
    "    \"\"\"\n",
    "\n",
    "    def __init__(self, mean, sigma, bounds):\n",
    "\n",
    "        # Initialise parent class\n",
    "        super().__init__(bounds)\n",
    "        \n",
    "        # Initialise class variables\n",
    "        self.mean = mean\n",
    "        self.sigma = sigma\n",
    "        # Find maximum value of the distribution within the bounds\n",
    "        self.maxValue = find_max(self._evaluate, self.boundMin, self.boundMax)\n",
    "\n",
    "    def _evaluate(self, x,):\n",
    "        \"\"\"\n",
    "        Evaluate the gaussian function of the distribution\n",
    "        ##### NOTE: Returns un-normalised values between the bounds #####\n",
    "        \"\"\"\n",
    "\n",
    "        return 1/(self.sigma * np.sqrt(2.0*np.pi)) * np.exp( -(x-self.mean)**2 / (2.0 * self.sigma**2) )\n",
    "\n",
    "    def next(self,):\n",
    "        \"\"\"\n",
    "        Generate a single random variable according to the class' distribution using numpy.random.normal method\n",
    "        Will return and append generated variable to mass list.\n",
    "        \"\"\"\n",
    "\n",
    "        # Use .item() to append vsariable inside array and not array itself\n",
    "        x = np.random.normal(self.mean, self.sigma, size=1).item()\n",
    "        self.mass.append(x)\n",
    "        return x\n",
    "\n",
    "    def setParameters(self, mean=None, sigma=None):\n",
    "        \"\"\"\n",
    "        Set passed variables as parameters for pdf\n",
    "        \"\"\"\n",
    "\n",
    "        # Use default values for parameters of none are passed through kwargs\n",
    "        if not mean == None:                self.mean = mean \n",
    "        if not sigma == None:               self.sigma = sigma"
   ]
  },
  {
   "cell_type": "markdown",
   "metadata": {},
   "source": [
    "## Excercises\n",
    "\n",
    "Below are the 4 excersices for the checkpoint\n",
    "\n",
    "### Excercise 1"
   ]
  },
  {
   "cell_type": "code",
   "execution_count": 11,
   "metadata": {},
   "outputs": [
    {
     "name": "stdout",
     "output_type": "stream",
     "text": [
      "The type I error is 0.972\n",
      "The type II error is 0.973\n"
     ]
    }
   ],
   "source": [
    "CLAIMED_FAULTY_RATE = 0.05\n",
    "ACTUAL_FAULTY_RATE = 0.15\n",
    "SAMPLE_SIZE = 100\n",
    "X_CUT = 9\n",
    "\n",
    "\n",
    "x = np.arange(0, 100, 1,)\n",
    "claimed_faulty_distribution = binom(SAMPLE_SIZE, CLAIMED_FAULTY_RATE)\n",
    "actual_faulty_distribution = binom(SAMPLE_SIZE, ACTUAL_FAULTY_RATE)\n",
    "\n",
    "# Compute Type-I error \n",
    "x_mask_type_1 = x <= X_CUT\n",
    "type_1_error = claimed_faulty_distribution.pmf(x)[x_mask_type_1].sum()\n",
    "\n",
    "# Compute Type 2 mask\n",
    "# Not that the mask used is the inverse of the mask calculated above\n",
    "x_mask_type_2 = x >= X_CUT\n",
    "type_2_error = actual_faulty_distribution.pmf(x)[x_mask_type_2].sum()\n",
    "\n",
    "print(f\"The type I error is {type_1_error:.3f}\")\n",
    "print(f\"The type II error is {type_2_error:.3f}\")"
   ]
  },
  {
   "cell_type": "code",
   "execution_count": 15,
   "metadata": {},
   "outputs": [
    {
     "data": {
      "image/png": "[encoded data removed]",
      "text/plain": [
       "<Figure size 640x480 with 1 Axes>"
      ]
     },
     "metadata": {},
     "output_type": "display_data"
    }
   ],
   "source": [
    "fig, ax = plt.subplots(1, 1)\n",
    "\n",
    "# Plot claimed distribution\n",
    "ax.plot(x, claimed_faulty_distribution.pmf(x), 'bo', ms=8, label='Claimed Distribution')\n",
    "ax.vlines(x, 0, claimed_faulty_distribution.pmf(x,), colors='b', lw=3, alpha=0.5)\n",
    "\n",
    "# Plot actual distribution\n",
    "ax.plot(x, actual_faulty_distribution.pmf(x), 'rx', ms=8, label='Actual Distribution')\n",
    "ax.vlines(x, 0, actual_faulty_distribution.pmf(x,), colors='r', lw=3, alpha=0.5)\n",
    "ax.vlines(X_CUT, 0, claimed_faulty_distribution.pmf(x).max(), colors=\"black\", linestyles=\"--\", label=\"Cutoff value\", lw=1)\n",
    "\n",
    "plt.legend()\n",
    "plt.xlabel(\"Number of broken screens\")\n",
    "plt.ylabel(\"Probability\")\n",
    "plt.title(\"PMF of broken screens according to faliure rates\")\n",
    "plt.xlim(-1, 30)\n",
    "plt.show()"
   ]
  },
  {
   "cell_type": "markdown",
   "metadata": {},
   "source": [
    "### Excercise 2"
   ]
  },
  {
   "cell_type": "code",
   "execution_count": null,
   "metadata": {},
   "outputs": [],
   "source": []
  }
 ],
 "metadata": {
  "kernelspec": {
   "display_name": "daml",
   "language": "python",
   "name": "python3"
  },
  "language_info": {
   "codemirror_mode": {
    "name": "ipython",
    "version": 3
   },
   "file_extension": ".py",
   "mimetype": "text/x-python",
   "name": "python",
   "nbconvert_exporter": "python",
   "pygments_lexer": "ipython3",
   "version": "3.11.5"
  }
 },
 "nbformat": 4,
 "nbformat_minor": 2
}
