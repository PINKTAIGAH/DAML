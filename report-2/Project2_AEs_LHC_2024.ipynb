{
 "cells": [
  {
   "cell_type": "markdown",
   "id": "c322e2ea",
   "metadata": {},
   "source": [
    "# Project2: Anomaly Detection for Exotic Event Identification at the Large Hadron Collider \n",
    "\n",
    "\n"
   ]
  },
  {
   "cell_type": "markdown",
   "id": "225d014c",
   "metadata": {},
   "source": [
    "## Brief Introduction to the Standard Model and Large Hadron Collider\n",
    "\n",
    "\n",
    "The Standard model (SM) of Particle Physics is the most complete model physicists have for understanding the interactions of the fundamental particles in the universe. The elementary particles of the SM are shown in Fig.1.\n",
    "\n",
    "---\n",
    "<figure>\n",
    "    <img src=\"https://upload.wikimedia.org/wikipedia/commons/thumb/0/00/Standard_Model_of_Elementary_Particles.svg/627px-Standard_Model_of_Elementary_Particles.svg.png\" alt=\"SM\" style=\"width: 600px;\"/>\n",
    "    <figcaption>Fig.1 - Elementary particles of the Standard Model.</figcaption>\n",
    "</figure>\n",
    "\n",
    "---\n",
    "\n",
    "It is comprised of matter particles (**fermions**):\n",
    "- **leptons**\n",
    "    - electrons\n",
    "    - muon\n",
    "    - tau\n",
    "    - and respective neutrinos\n",
    "- **quarks** which are the building blocks of protons\n",
    "\n",
    "as well as force carrier particles (**bosons**):\n",
    "- photon and W/Z bosons (electroweak force)\n",
    "- gluons (strong force)\n",
    "\n",
    "and the Higgs boson which is attributed to the mechanism which gives particles their mass.\n",
    "\n",
    "\n",
    "Though the SM has experimentally stood the test of time, many outstanding questions about the universe and the model itself remain, and scientist continue to probe for inconsistencies in the SM in order to find new physics. More exotic models such as **Supersymmetry (SUSY)** predic mirror particles which may exist and have alluded detection thus far. \n",
    "\n",
    "---\n",
    "\n",
    "The **Large Hadron Collider** (LHC) is a particle smasher capable of colliding protons at a centre of mass energy of 14 TeV.\n",
    "**ATLAS** is general purpouse particle detectors tasked with recording the remnants of proton collisions at the collicion point. The main purpouse of this experiment is to test the SM rigorously, and ATLAS was one of two expeririments (ATLAS+CMS) responsible for the discovery of the **Higgs boson in 2012**. \n",
    "\n",
    "Find an animation of how particles are reconstructed within a slice of the ATLAS detector here: https://videos.cern.ch/record/2770812. Electrons, muons, photons, quark jets, etc, will interact with different layers of the detector in different ways, making it possible to design algorithms which distinguish reconstructed particles, measure their trajectories, charge and energy, and identify them as particular types.\n",
    "\n",
    "Figure 2 shows an event display from a data event in ATLAS in which 2 muons (red), 2 electrons (green), and 1 quark-jet (purple cone) are found. This event is a candidate to a Higgs boson decaying to four leptons with an associated jet: $$H (+j)\\rightarrow 2\\mu 2e (+j)$$ \n",
    "\n",
    "\n",
    "\n",
    "---\n",
    "\n",
    "<figure>\n",
    "    <img src=\"https://twiki.cern.ch/twiki/pub/AtlasPublic/EventDisplayRun2Physics/JiveXML_327636_1535020856-RZ-LegoPlot-EventInfo-2017-10-18-19-01-24.png\" alt=\"Higgs to leptons\" style=\"width: 600px;\"/>\n",
    "    <figcaption>Fig.2 - Event display of a Higgs candidate decaying to two muons and two electrons.</figcaption>\n",
    "</figure>\n",
    "\n",
    "---\n",
    "\n",
    "\n",
    "Particles are shown transversing the detector material. The 3D histogram show \n",
    "* the azimuth $\\phi$ ( angle around the beam, 0 is up)\n",
    "* pseudo-rapidity $\\eta$ (trajectory along the beam) positions of the particle directions with respect to the interaction point.\n",
    "* The total energy measured for the particle is denoted by $E$,\n",
    "* the transverse momentum ($p_T$) deposited by the particle in giga-electronvolts (GeV) are shown by the hight of the histograms.\n",
    "\n",
    "A particle kinematics can then be described by a four-vector  $$\\bar{p} = (E,p_T,\\eta,\\phi)$$\n",
    "\n",
    "An additional importan quantity is the missing energy in the transverse plane (MET). This is calculated by taking the negative sum of the transverse momentum of all particles in the event.\n",
    "$$\\mathrm{MET} = -\\sum p_T$$\n",
    "\n",
    "With perfect detector performance the MET will sum to 0 if all outgoing particles are observed by the detector. Neutrinos cannot be measured by the detector and hence their precense produces non-zero MET."
   ]
  },
  {
   "cell_type": "markdown",
   "id": "655ada0c",
   "metadata": {},
   "source": [
    "## Anomally detection dataset\n",
    "\n",
    "For the anomally detection project we will use the dataset discussed in this publication: <p><a href=\"https://arxiv.org/pdf/2105.14027.pdf\" title=\"Anomalies\">The Dark Machines Anomaly Score Challenge:\n",
    "Benchmark Data and Model Independent Event\n",
    "Classification for the Large Hadron Collider</a></p>\n",
    "\n",
    "Familiarise yourself with the paper, in particular from sections 2.1 to 4.4.\n",
    "\n",
    "---\n",
    "\n",
    "The dataset contains a collection of simulated proton-proton collisions in a general particle physics detector (such as ATLAS). We will use a dataset containing `340 000` SM events (referred to as channel 2b in the paper) which have at least 2 electrons/muons in the event with $p_T>15$ GeV. \n",
    "\n",
    "**The events can be found in `background_chan2b_7.8.csv`**\n",
    "\n",
    "\n",
    "You can see all the SM processes that are simulated in Table 2 of the paper, \n",
    "\n",
    "    e.g., an event with a process ID of `w_jets` is a simulated event of two protons producing a lepton and neutrino and at least two jets.\n",
    "    \n",
    "$$pp\\rightarrow \\ell\\nu(+2j)$$\n",
    "\n",
    "---\n",
    "\n",
    "The datasets are collected as CSV files where each line represents a single event, with the current format:\n",
    "\n",
    "`event ID; process ID; event weight; MET; METphi; obj1, E1, pt1, eta1, phi1; obj2, E2, pt2, eta2, phi2; ...`\n",
    "See Section 2.2 for a description of the dataset.\n",
    "Variables are split by a semicolon `\";\"`\n",
    "- `event ID`: an identifier for the event number in the simulation\n",
    "- `process ID`: an identifier for the event simulation type\n",
    "- `event weight`: the weight associated to the simulated event (how important that event is)\n",
    "- `MET`: the missing transverse energy\n",
    "- `METphi`: the azimuth angle (direction) of the MET\n",
    "\n",
    "the a list of objects (particles) whose variables are split by commas `\",\"` in the following orger:\n",
    "- `obj`: the object type,\n",
    "\n",
    "    |Key|Particle|\n",
    "    |---|---|\n",
    "    |j|jet|\n",
    "    |b|b-jet|\n",
    "    |e-|electron|\n",
    "    |e+|positron|\n",
    "    |m-|muon|\n",
    "    |m+|muon+|\n",
    "    |g|photon|\n",
    "    \n",
    "    *see Table 1 of the paper*\n",
    "- `E`: the total measured particle energy in MeV, [0,inf]\n",
    "- `pt`: the transverse mementum in MeV, [0,inf]\n",
    "- `eta`: pseudo-rapidity, [-inf,inf]\n",
    "- `phi`: azimuth angle, radians [-3.14,3.14]\n",
    "\n",
    "---\n",
    "\n",
    "In addition to the SM events we are also provided simulated events from `Beyond Standard Model` (BSM) exotic physics models. They are summarised here:\n",
    "\n",
    "|Model | File Name | \n",
    "|---|---|\n",
    "|**SUSY chargino-chargino process**||\n",
    "||`chacha_cha300_neut140_chan2b.csv`|\n",
    "||`chacha_cha400_neut60_chan2b.csv`|\n",
    "||`chacha_cha600_neut200_chan2b.csv`|\n",
    "|**SUSY chargino-neutralino processes**||\n",
    "||`chaneut_cha200_neut50_chan2b.csv`|\n",
    "||`chaneut_cha250_neut150_chan2b.csv`|\n",
    "|**$Z'$ decay to leptons**||\n",
    "||`pp23mt_50_chan2b.csv`|\n",
    "||`pp24mt_50_chan2b.csv`|\n",
    "|**Gluino and RPV SUSY**||\n",
    "||`gluino_1000.0_neutralino_1.0_chan2b.csv`||\n",
    "||`stlp_st1000_chan2b.csv`||\n",
    "\n"
   ]
  },
  {
   "cell_type": "markdown",
   "id": "686809e6",
   "metadata": {},
   "source": [
    "## Project description\n",
    "*Responsible:* Robert Currie (<rob.currie@ed.ac.uk>)\n",
    "\n",
    "### Overview\n",
    "The task is to design an anomaly detection algorithm which is trained on the SM dataset and which can be used to flag up interesting (exotic) events from the BSM physics models.\n",
    "\n",
    "You will do this by designing a robust `AutoEncoder` which is trained on the event level variables `MET; METphi` and the kinematics of the particle level objects. The `AutoEncoder` needs to duplicate the input as output effectively while going through a laten space (bottleneck). \n",
    "\n",
    "You will then need to evaluate and discuss the performance of your `AutoEncoder` on the exotic models listed above, and come up with an appropiate metric to identify events from non SM physics."
   ]
  },
  {
   "cell_type": "markdown",
   "id": "b63d3beb",
   "metadata": {},
   "source": [
    "# **Breakdown**\n",
    "\n",
    "In the project report you will be assessed in the following way.\n",
    "\n",
    "1. **Data exploration and preprocessing (20%):** Inspect the datasets; visualise the data (e.g. tables, plots, etc) in an appropriate way; study the composition of the dataset; perform any necessary preprocessing.\n",
    "2. **Model selection (30%):** Choose a promissing approach; construct the machine learning model; optimise the relevant hyperparameters; train your chosen model.\n",
    "3. **Performance evaluation (30%):** Evaluate the model in a way that gauges its ability to generalise to unseen data; compare to other approaches; identify the best approach. \n",
    "4. **Discussion, style throughout (20%):** Discuss the reasoning or intuition behind your choices; the results you obtain through your studies; the relative merits of the methods you have developed, _etc._ Similarly, make sure that you write efficient code, document your work, clearly convey your results, and convince us that you have mastered the material.\n",
    "\n",
    "\n",
    "## Data Preprocessing\n",
    "* The data is provided in a CSV (text) format with semicolon and comma seperated list with **one line per event**. We need to convert this into an appropiate format for our neural networks. \n",
    "* Since the number of particles per event is variable you will need to **truncate** and **mask** particles in the event. The following steps need to be perfomed on the SM (background) sample:\n",
    "     1. Create variables where you count the number of electrons, photons, muons, jets and bjets in the event (ignore charge) before any truncation.\n",
    "     2. Choose an appropiate number of particles to study per event (recommended: **8** particles are used in the paper)\n",
    "     3. Check the particles are sorted by energy (largest to smallest)\n",
    "     4. If the event has more than 8 particles choose the **8 particles** with **highest energy and truncate** the rest.\n",
    "     5. convert energy and momentum variables by logarithm (e.g., `log`) - this is to prioritise differences in energy **scale** over more minor differences. \n",
    "     6. If the event has less than 8 particles, create kinematic variables with 0 values for the missing particles.\n",
    "* The final set of training variables should look something like this (the exact format is up to you)\n",
    "    |N ele| N muon| N jets| N bjets| N photons| log(MET)| METphi| log(E1)| log(pt1)| eta1| phi1| ... | phi8|\n",
    "    |-|-|-|-|-|-|-|-|-|-|-|-|-|\n",
    "    \n",
    "    7. After the dataset is ready, use `MinMaxScalar` or similar to standardise the training variables over the SM dataset\n",
    "* After the SM dataset has been processed use the same processing on the BSM (signal samples). Use the same standardisation functions as on the SM dataset, *Do not recalculate the standardisation*.\n",
    "* Keep associated metatata (`event ID; process ID; event weight;`) though this does not need processing. \n",
    "* Randomise and split the SM (background) dataset into training and testing datasets (the BSM samples don't need to be split (*Why?*))\n",
    "* *Hint*: It is suggested that you write a class or function for the preprocessing which takes a csv path as input and provides the processed dataset. After you have done the data processing its suggested you save the datasets so as to not have to recalculate them again if the kernel is restarted. \n",
    "\n",
    "## Training\n",
    "* Design an appropiate algorithm which reconstrucuts the input variables after going though a laten space. Choose an appropiate cost function.\n",
    "    * The suggested method for ease of implementation is the `AutoEncoder`\n",
    "    * However, if you consider learning about or trying something else, as described in the paper, you should feel welcome to try `VAEs`, `ConvAEs`, `ConvVAEs`, etc. Don't feel you **have** to create an `AE`.\n",
    "\n",
    "* Explore different architectures for the model, and explain in detail your choice of model, and the final parameters chosen.\n",
    "* It is suggested to create a class or function around your algorithm which allows you to easily tweek hyperparameters of the model (depth, number of nodes, number of laten variables, activation functions, regularisation, etc)\n",
    "* Train the model over several parameters to find the best algorithm. Document the process throught and discuss your choices. Keep track of validation performance. Save the models the best points. \n",
    "* Explore the results and document your findings. Ask as many questions about your model as you can, and document your findings. Does the model generalise well to data it hasn't seen?\n",
    "\n",
    "## Evaluation\n",
    "In the evaluation explore different datasets an try answer as many questions about the performance as possible. \n",
    "* Evaluate the performance of the `AE` on BSM dataset. Which models are more or less similar to the SM?\n",
    "* Explore the anomaly score as a handle on finding new physics. Consider scanning over different anomaly scores and calculating the signal and background efficiencies at each point (plot this for different BSM models). How might you choose a value which flags up a non-SM event? \n",
    "* Explore SM events. Which look more anomolous than others? Are there any particular features which are responsible, e.g. particle counts, MET ranges, etc.? \n",
    "* Discuss any limitations your algorithm has. How might you update and improve your model in future? Discuss any issues you had, or things you would have liked to try given more time."
   ]
  },
  {
   "attachments": {},
   "cell_type": "markdown",
   "id": "6fe3871b-a380-429f-b27f-cbf91d380b03",
   "metadata": {},
   "source": [
    "---\n",
    "## Submission\n",
    "\n",
    "\n",
    "To complete this project, you should **Submit your Jupyter notebook** as a \"report.\" See the comments below on documentation,\n",
    "\n",
    "**You should submit by Friday 9th Feb 2024 at 10AM**\n",
    "\n",
    "\n",
    "For all task we're not looking for exceptional model performace and high scores (although those are nice too), **we're mostly concerned with _best practices:_** If you are careful and deliberate in your work, and show us that you can use the tools introduced in the course so far, we're happy!\n",
    "\n",
    "Training all of these models in sequence takes a very long time so **don't spend hours on training hundreds of epochs.** Be conservative on epoch numbers (30 is normally more than enough) and use appropiate techniques like EarlyStopping to speed things up. Once you land on a good model you can allow for longer training times if performance can still improve.\n",
    "\n",
    "\n",
    "## Documentation: Annotation and Commentary\n",
    "\n",
    "It is important that __all__ code is annotated and that you provide brief commentary __at each step__ to explain your approach. We expect well-documented jupyter notebooks, not an unordered collection of code snippets. You can also include any failed approaches if you provide reasonable explanation. \n",
    "\n",
    "Unlike weekly checkpoints where you were being guided towards the *''correct''* answer, this project is by design more open ended. It is, therefore, necessary to give some justification for choosing one method over another.\n",
    "Explain *why* you chose a given approach and *discuss* the results. You can also include any failed approaches if you provide reasonable explanation; we care more about you making an effort and showing that you understand the core concepts.\n",
    "\n",
    "This is not in the form of a written report so do not provide pages of background material. Only provide a brief explanation for each step. Aim to clearly present your work so that the markers can easily follow your reasoning and can reproduce each of your steps through your analysis. Aim to convince us that you have understood the material covered in the course.\n",
    "\n",
    "To add commentary above (or below) a code snippet create a new cell and add your text in markdown format. __Do not__ add commentary or significant text as a code comment in the same cell as the code.\n",
    "(Code comments are still helpful!)\n",
    "\n",
    "__20\\% of the mark for each exercise is allocated to coding style and clarity of comments and approach.__\n",
    "\n",
    "## Submission Steps\n",
    "\n",
    "It is important your code is fully functional before it is submitted or this will affect your final mark. \n",
    "\n",
    "When you are ready to submit your report perform the following steps: \n",
    "\n",
    " -  In Jupyter run `Kernel` -> `Restart Kernel ` and ` Clear All Outputs `\n",
    " -  Then `Kernel` -> `Restart & Run All ` to ensure that all your analysis  is reproducible and all output can be regenerated\n",
    " -  Save the notebook, and close Jupyter\n",
    " -  **Change the filename to contain Name_Surname**\n",
    " -  Tar and zip your project folder if you have multiple files in a working directory. You are free to include any supporting code. Make sure this belongs in the project folder and is referenced correctly in your notebook. Do __not__ include any of the input data.\n",
    " -  Submit this file or zipped folder through Learn. In case of problems or if your compressed project folder exceeds 20 MB (first make sure you are not including any CSV files, then) email your submission to Kieran (the course administrator) at the Teaching Office and me."
   ]
  },
  {
   "cell_type": "markdown",
   "id": "34764f35",
   "metadata": {},
   "source": [
    "# Happy Anomaly Hunting\n",
    "---\n",
    "<blockquote class=\"twitter-tweet\"><p lang=\"en\" dir=\"ltr\">Data Scientist (n.): Person who is better at statistics than any software engineer and better at software engineering than any statistician.</p>&mdash; Josh Wills (@josh_wills) <a href=\"https://twitter.com/josh_wills/status/198093512149958656?ref_src=twsrc%5Etfw\">May 3, 2012</a></blockquote> <script async src=\"https://platform.twitter.com/widgets.js\" charset=\"utf-8\"></script> \n",
    "\n",
    "---\n",
    "\n",
    "Your code follows...."
   ]
  },
  {
   "cell_type": "markdown",
   "id": "7ca51dc7",
   "metadata": {},
   "source": [
    "# Notes\n",
    "\n",
    "This notebook is currently being developed in a docker container as it is the only way to get tensorflow working with my GPU and as such does not have the DAML enviroment installed. As a result this notebook will run teminal commands to install the required dependencies (currently all depedencies are met by the DAML enviroment). If you asre uncomfortable with this or the command creates conflics with an existing enviroment, you can force the notebook to skip the terminal commands by setting the ```run_cli``` option to ```False``` in the config.yaml file"
   ]
  },
  {
   "cell_type": "markdown",
   "id": "9d50968f",
   "metadata": {},
   "source": [
    "# Download Dependencies"
   ]
  },
  {
   "cell_type": "code",
   "execution_count": 1,
   "id": "947bc7ca",
   "metadata": {},
   "outputs": [
    {
     "name": "stderr",
     "output_type": "stream",
     "text": [
      "/tmp/ipykernel_44485/1456525576.py:12: UserWarning: Skipping dependency instalation. This may cause dependency issues further down in the notebook\n",
      "  warnings.warn(\"Skipping dependency instalation. This may cause dependency issues further down in the notebook\")\n"
     ]
    }
   ],
   "source": [
    "import os, sys, yaml, warnings, logging \n",
    "\n",
    "# Store sting with cwd\n",
    "CWD = os.getcwd() + \"/\"\n",
    "\n",
    "# Import config settings as dictionary \n",
    "with open(CWD + \"config.yaml\", \"r\") as file:\n",
    "    CFG = yaml.safe_load(file)\n",
    "\n",
    "# Install dependencies\n",
    "if not CFG[\"jupyter\"][\"run_cli\"] or not os.path.isfile(CWD + \"requirements.txt\"):\n",
    "    warnings.warn(\"Skipping dependency instalation. This may cause dependency issues further down in the notebook\")\n",
    "else:\n",
    "    os.system(f\"pip install --upgrade --ignore-installed -r {CWD + 'requirements.txt'}\")"
   ]
  },
  {
   "cell_type": "code",
   "execution_count": 2,
   "id": "97dcdf5b",
   "metadata": {},
   "outputs": [
    {
     "name": "stderr",
     "output_type": "stream",
     "text": [
      "2024-02-06 22:55:42.573693: I tensorflow/core/util/port.cc:113] oneDNN custom operations are on. You may see slightly different numerical results due to floating-point round-off errors from different computation orders. To turn them off, set the environment variable `TF_ENABLE_ONEDNN_OPTS=0`.\n",
      "2024-02-06 22:55:42.606898: E external/local_xla/xla/stream_executor/cuda/cuda_dnn.cc:9261] Unable to register cuDNN factory: Attempting to register factory for plugin cuDNN when one has already been registered\n",
      "2024-02-06 22:55:42.606919: E external/local_xla/xla/stream_executor/cuda/cuda_fft.cc:607] Unable to register cuFFT factory: Attempting to register factory for plugin cuFFT when one has already been registered\n",
      "2024-02-06 22:55:42.607591: E external/local_xla/xla/stream_executor/cuda/cuda_blas.cc:1515] Unable to register cuBLAS factory: Attempting to register factory for plugin cuBLAS when one has already been registered\n",
      "2024-02-06 22:55:42.612282: I tensorflow/core/platform/cpu_feature_guard.cc:182] This TensorFlow binary is optimized to use available CPU instructions in performance-critical operations.\n",
      "To enable the following instructions: AVX2 AVX_VNNI FMA, in other operations, rebuild TensorFlow with the appropriate compiler flags.\n"
     ]
    }
   ],
   "source": [
    "import numpy as np\n",
    "import pandas as pd\n",
    "import seaborn as snc\n",
    "# from tqdm import tqdm \n",
    "import tensorflow as tf\n",
    "import matplotlib.pyplot as plt\n",
    "\n",
    "# Import custom classed and functions\n",
    "from src.core import DataLoader, Trainer\n",
    "from src.utils import apply_data_transformations\n",
    "from src.models import DenseVAE\n",
    "\n",
    "# Turn off divide by zero numpy error (we alreadsy take NaN's into account)\n",
    "np.seterr(divide=\"ignore\", invalid=\"ignore\")\n",
    "\n",
    "def set_tf_loglevel(level):\n",
    "    if level >= logging.FATAL:\n",
    "        os.environ['TF_CPP_MIN_LOG_LEVEL'] = '3'\n",
    "    if level >= logging.ERROR:\n",
    "        os.environ['TF_CPP_MIN_LOG_LEVEL'] = '2'\n",
    "    if level >= logging.WARNING:\n",
    "        os.environ['TF_CPP_MIN_LOG_LEVEL'] = '1'\n",
    "    else:\n",
    "        os.environ['TF_CPP_MIN_LOG_LEVEL'] = '0'\n",
    "    logging.getLogger('tensorflow').setLevel(level)\n",
    "\n",
    "# Trun of tensorflow warnings\n",
    "set_tf_loglevel(logging.ERROR)"
   ]
  },
  {
   "cell_type": "markdown",
   "id": "7e7362f4",
   "metadata": {},
   "source": [
    "# **Creating Dataloader**\n",
    "\n",
    "Currenly the datasets are stored in csv files with a non-uniform number of columns for each event. As such, we will have to approch the task of importing the data in a non-trivial way. We will create a dataloader class which will be taked with taking a csv path and return a well formatted numpy array which can be used lated down the line for training. \n",
    "\n",
    "This class is called ```DataLoader``` and can be found in the ```src.core``` directory under the name ```DataLoader.py```. The class will take the following steps to load in a csv.\n",
    "\n",
    "### **If we ask ```DataLoader``` to read raw csv:**\n",
    "\n",
    "- We will first parse the raw csv dividing the strings in each line according to the outer ```;``` delimiter. We will call the 1st 5 columns event metadata and stroree them in a pandas dataframe. the remaining string contaings the kinematics for each particle in the event. We will call this string the ```kinematicString``` and store it in a seperate column in the dataframe.\n",
    "\n",
    "We now have a dataset with the following structure:\n",
    "| event_id | process_id | event_weight | met | met_phi | kinematic_string | \n",
    "| :------- | :--------: | :----------: | :-: | :-----: | ---------------: |\n",
    "\n",
    "- We will now parse the kinematicString which is delimited with ```;``` per particle and with ```,``` per particle's kinematic parameter. Once parsed, we will arrange the particles per event in order of decending energy and keep the ```num_max_particles``` most energetic particles in an event. If the event has less than ```num_max_particles```, we will pad the remaining particle kinematic parameters with **0.0**. We will also remove event metadata which we do not want from the dataframe\n",
    "\n",
    "We now have a dataset with the following structure:\n",
    "| met | met_phi | object1 | energy1 | trans_momentum1 | pseudo_rapidity1 | phi1 | ... | phi_n |\n",
    "| :-- | :-----: | :-----: | :-----: | :-------------: | :--------------: | :--: | :-: | ----: |\n",
    "\n",
    "- We now take the logarithm of all the columns containing energy of momentum data dor each event.\n",
    "\n",
    "We now have a dataset with the following structure:\n",
    "| log(met) | met_phi | object1 | log(energy1) | log(trans_momentum1) | pseudo_rapidity1 | phi1 | ... | phi_n |\n",
    "| :------- | :-----: | :-----: | :----------: | :------------------: | :--------------: | :--: | :-: | ----: |\n",
    "\n",
    "- Lastly we will compute the number of particles what appear in each event and remove the object columns from the dataframe. We then save the dataframe as a csv if needed. The datareame or a numpy array of the dataframe's values can then be obtrained from the class \n",
    "\n",
    "We now have a dataset with the following structure:\n",
    "| n_ele | n_muon | n_jets | n_bjets | n_photons | log(met) | met_phi | log(energy1) | log(trans_momentum1) | pseudo_rapidity1 | phi1 | ... | phi_n |\n",
    "| ----: | :----: | :----: | :-----: | :-------: | :------: | :-----: | :----------: | :------------------: | :--------------: | :--: | :-: | ----: |\n",
    "\n",
    "### **If we ask ```DataLoader``` to read processed csv:**\n",
    "\n",
    "- The dataloader will read a processed csv which pas produced and saved previously as a pandas dataframe. The dataframe or a numpy array of the values can then be returned by the class."
   ]
  },
  {
   "cell_type": "code",
   "execution_count": 3,
   "id": "46965288",
   "metadata": {},
   "outputs": [],
   "source": [
    "# Create a dataloader instance to load in background SM dataset\n",
    "background_dataloader = DataLoader(\n",
    "    filename = CFG[\"dataloader\"][\"raw_datasets\"][\"background\"],\n",
    "    cwd = CWD,\n",
    "    numParticles = 8,\n",
    "    saveProcessed = True,\n",
    "    loadProcessed = True,\n",
    ")\n",
    "# Return a numpy array containing the processed dataset  \n",
    "background_dataset = background_dataloader.getDataset(asNumpy=True)"
   ]
  },
  {
   "cell_type": "code",
   "execution_count": 4,
   "id": "85c05cec",
   "metadata": {},
   "outputs": [
    {
     "name": "stdout",
     "output_type": "stream",
     "text": [
      "(340267, 39)\n"
     ]
    }
   ],
   "source": [
    "print(background_dataset.shape)"
   ]
  },
  {
   "cell_type": "markdown",
   "id": "7f54396e",
   "metadata": {},
   "source": [
    "# **Data Transformations**\n",
    "\n",
    "Now that we have written a class capable of reqading a csv file and returning a processed and uniform numpy array,. we define function to transform data from a raw numpy array to TF datasets which we can use for batch training.\n",
    "\n",
    "The script containing all the data transformation functions can be found in the ```scr.utils``` directory in the ```utility_functions.py``` script.\n",
    "\n",
    "The following steps must be taken:\n",
    "- Scale dataset from range (-1, 1). This is done s.t the neural network can more easily compute weights\n",
    "- Shuffle and split the numpy array into a test and train dataset using ```sklearn.model_selection.train_test_split```\n",
    "- Convert to tf.Dataset class s.t we can sample the datasets in batches using ```tf.data.Dataset.from_tensor_slices```"
   ]
  },
  {
   "cell_type": "code",
   "execution_count": 5,
   "id": "86afed0c",
   "metadata": {},
   "outputs": [
    {
     "name": "stderr",
     "output_type": "stream",
     "text": [
      "2024-02-06 22:55:48.326936: I external/local_xla/xla/stream_executor/cuda/cuda_executor.cc:887] could not open file to read NUMA node: /sys/bus/pci/devices/0000:01:00.0/numa_node\n",
      "Your kernel may have been built without NUMA support.\n",
      "2024-02-06 22:55:48.331458: I external/local_xla/xla/stream_executor/cuda/cuda_executor.cc:887] could not open file to read NUMA node: /sys/bus/pci/devices/0000:01:00.0/numa_node\n",
      "Your kernel may have been built without NUMA support.\n",
      "2024-02-06 22:55:48.331498: I external/local_xla/xla/stream_executor/cuda/cuda_executor.cc:887] could not open file to read NUMA node: /sys/bus/pci/devices/0000:01:00.0/numa_node\n",
      "Your kernel may have been built without NUMA support.\n",
      "2024-02-06 22:55:48.333435: I external/local_xla/xla/stream_executor/cuda/cuda_executor.cc:887] could not open file to read NUMA node: /sys/bus/pci/devices/0000:01:00.0/numa_node\n",
      "Your kernel may have been built without NUMA support.\n",
      "2024-02-06 22:55:48.333493: I external/local_xla/xla/stream_executor/cuda/cuda_executor.cc:887] could not open file to read NUMA node: /sys/bus/pci/devices/0000:01:00.0/numa_node\n",
      "Your kernel may have been built without NUMA support.\n",
      "2024-02-06 22:55:48.333512: I external/local_xla/xla/stream_executor/cuda/cuda_executor.cc:887] could not open file to read NUMA node: /sys/bus/pci/devices/0000:01:00.0/numa_node\n",
      "Your kernel may have been built without NUMA support.\n",
      "2024-02-06 22:55:48.440267: I external/local_xla/xla/stream_executor/cuda/cuda_executor.cc:887] could not open file to read NUMA node: /sys/bus/pci/devices/0000:01:00.0/numa_node\n",
      "Your kernel may have been built without NUMA support.\n",
      "2024-02-06 22:55:48.440335: I external/local_xla/xla/stream_executor/cuda/cuda_executor.cc:887] could not open file to read NUMA node: /sys/bus/pci/devices/0000:01:00.0/numa_node\n",
      "Your kernel may have been built without NUMA support.\n",
      "2024-02-06 22:55:48.440343: I tensorflow/core/common_runtime/gpu/gpu_device.cc:2022] Could not identify NUMA node of platform GPU id 0, defaulting to 0.  Your kernel may not have been built with NUMA support.\n",
      "2024-02-06 22:55:48.440373: I external/local_xla/xla/stream_executor/cuda/cuda_executor.cc:887] could not open file to read NUMA node: /sys/bus/pci/devices/0000:01:00.0/numa_node\n",
      "Your kernel may have been built without NUMA support.\n",
      "2024-02-06 22:55:48.440394: I tensorflow/core/common_runtime/gpu/gpu_device.cc:1929] Created device /job:localhost/replica:0/task:0/device:GPU:0 with 7551 MB memory:  -> device: 0, name: NVIDIA GeForce RTX 3080, pci bus id: 0000:01:00.0, compute capability: 8.6\n"
     ]
    }
   ],
   "source": [
    "# Apply reansfromations and return the tf dataset iterables \n",
    "train_data, val_data = apply_data_transformations(background_dataset, batch_size=CFG[\"dataloader\"][\"batch_size\"])"
   ]
  },
  {
   "cell_type": "markdown",
   "id": "0ef131a3",
   "metadata": {},
   "source": [
    "# **VAE Model**\n",
    "\n",
    "We now create the VAE model which will be used to trained and discriminate anomalies. We will first attempt to use two VAE models and compare their performance. One will be a regular Fully-Connected Dense VAE which will take a 1D vector as an input. The Second VAE will be a Convolutional VAE which will take a 2D image-like input.\n",
    "\n",
    "Both networks can be found in the ```src.models``` directory.\n",
    "\n",
    "For the fully-connected VAE, it's architecture is:\n",
    "\n",
    "- Encoder: \n",
    "    - Dense Layer (outDims = 32) + LeakyReLU\n",
    "    - Dense Layer (outDims = 16) + LeakyReLU\n",
    "    - Dense Layer (outDims = 10)\n",
    "\n",
    "- Decoder:\n",
    "    - Dense Layer (outDims = 16) + LeakyReLU\n",
    "    - Dense Layer (outDims = 32) + LeakyReLU\n",
    "    - Dense Layer (outDims = inputDims) + Sigmoid"
   ]
  },
  {
   "cell_type": "markdown",
   "id": "c429cf1a",
   "metadata": {},
   "source": [
    "# **Constructing trainer class**\n",
    "\n",
    "Now that we have network classes and a dataset, we can build a class which can be used to train and validate our models. The class will take as an input the configuration dictionary s.t we can modify training hyperparameters from the config yaml file.\n",
    "\n",
    "The trainier class can be fount in the ```src.core``` directory in the ```trainer.py``` file.\n",
    "\n",
    "In order to run the training process, we call the ```runBatchProcess()``` method of the trainer."
   ]
  },
  {
   "cell_type": "code",
   "execution_count": 6,
   "id": "cb9a24f8",
   "metadata": {},
   "outputs": [
    {
     "name": "stdout",
     "output_type": "stream",
     "text": [
      "##### EPOCH 1 #####\n"
     ]
    },
    {
     "name": "stderr",
     "output_type": "stream",
     "text": [
      "2024-02-06 22:55:49.800523: I external/local_xla/xla/service/service.cc:168] XLA service 0x10a473b0 initialized for platform CUDA (this does not guarantee that XLA will be used). Devices:\n",
      "2024-02-06 22:55:49.800560: I external/local_xla/xla/service/service.cc:176]   StreamExecutor device (0): NVIDIA GeForce RTX 3080, Compute Capability 8.6\n",
      "2024-02-06 22:55:49.804151: I tensorflow/compiler/mlir/tensorflow/utils/dump_mlir_util.cc:269] disabling MLIR crash reproducer, set env var `MLIR_CRASH_REPRODUCER_DIRECTORY` to enable.\n",
      "2024-02-06 22:55:49.817057: I external/local_xla/xla/stream_executor/cuda/cuda_dnn.cc:454] Loaded cuDNN version 8906\n",
      "WARNING: All log messages before absl::InitializeLog() is called are written to STDERR\n",
      "I0000 00:00:1707260149.874907   44485 device_compiler.h:186] Compiled cluster using XLA!  This line is logged at most once for the lifetime of the process.\n"
     ]
    },
    {
     "name": "stdout",
     "output_type": "stream",
     "text": [
      "EPOCH: 1 ##### MODE: Train ##### LOSS: 0.7438780527169767\n",
      "EPOCH: 1 ##### MODE: Validation ##### LOSS: 0.20800133436021948\n",
      "##### EPOCH 2 #####\n",
      "EPOCH: 2 ##### MODE: Train ##### LOSS: 0.17624463582117306\n",
      "EPOCH: 2 ##### MODE: Validation ##### LOSS: 0.1482797895831273\n",
      "##### EPOCH 3 #####\n",
      "EPOCH: 3 ##### MODE: Train ##### LOSS: 0.13333130216127947\n",
      "EPOCH: 3 ##### MODE: Validation ##### LOSS: 0.11627677273481413\n",
      "##### EPOCH 4 #####\n",
      "EPOCH: 4 ##### MODE: Train ##### LOSS: 0.10959137745089549\n",
      "EPOCH: 4 ##### MODE: Validation ##### LOSS: 0.10135992081429725\n",
      "##### EPOCH 5 #####\n",
      "EPOCH: 5 ##### MODE: Train ##### LOSS: 0.10071447775944282\n",
      "EPOCH: 5 ##### MODE: Validation ##### LOSS: 0.09696191591315699\n",
      "##### EPOCH 6 #####\n",
      "EPOCH: 6 ##### MODE: Train ##### LOSS: 0.09599788194256169\n",
      "EPOCH: 6 ##### MODE: Validation ##### LOSS: 0.09524210399590936\n",
      "##### EPOCH 7 #####\n",
      "EPOCH: 7 ##### MODE: Train ##### LOSS: 0.09108802944393758\n",
      "EPOCH: 7 ##### MODE: Validation ##### LOSS: 0.08902597844712716\n",
      "##### EPOCH 8 #####\n",
      "EPOCH: 8 ##### MODE: Train ##### LOSS: 0.0843746217345833\n",
      "EPOCH: 8 ##### MODE: Validation ##### LOSS: 0.08095316468436915\n",
      "##### EPOCH 9 #####\n",
      "EPOCH: 9 ##### MODE: Train ##### LOSS: 0.08023194069588992\n",
      "EPOCH: 9 ##### MODE: Validation ##### LOSS: 0.07791142146054067\n",
      "##### EPOCH 10 #####\n",
      "EPOCH: 10 ##### MODE: Train ##### LOSS: 0.07786149541406255\n",
      "EPOCH: 10 ##### MODE: Validation ##### LOSS: 0.08018614690666809\n",
      "##### EPOCH 11 #####\n",
      "EPOCH: 11 ##### MODE: Train ##### LOSS: 0.0760531364414925\n",
      "EPOCH: 11 ##### MODE: Validation ##### LOSS: 0.07434888850701482\n",
      "##### EPOCH 12 #####\n",
      "EPOCH: 12 ##### MODE: Train ##### LOSS: 0.07395907899336819\n",
      "EPOCH: 12 ##### MODE: Validation ##### LOSS: 0.07077043625365075\n",
      "##### EPOCH 13 #####\n",
      "EPOCH: 13 ##### MODE: Train ##### LOSS: 0.0720719843962811\n",
      "EPOCH: 13 ##### MODE: Validation ##### LOSS: 0.07543066174800235\n",
      "##### EPOCH 14 #####\n",
      "EPOCH: 14 ##### MODE: Train ##### LOSS: 0.07037395431793161\n",
      "EPOCH: 14 ##### MODE: Validation ##### LOSS: 0.07262327323170532\n",
      "##### EPOCH 15 #####\n",
      "EPOCH: 15 ##### MODE: Train ##### LOSS: 0.06906431524391125\n",
      "EPOCH: 15 ##### MODE: Validation ##### LOSS: 0.06751103826651447\n",
      "##### EPOCH 16 #####\n",
      "EPOCH: 16 ##### MODE: Train ##### LOSS: 0.06827530354485475\n",
      "EPOCH: 16 ##### MODE: Validation ##### LOSS: 0.06612985389293137\n",
      "##### EPOCH 17 #####\n",
      "EPOCH: 17 ##### MODE: Train ##### LOSS: 0.06772111203255397\n",
      "EPOCH: 17 ##### MODE: Validation ##### LOSS: 0.07286716316987697\n",
      "##### EPOCH 18 #####\n",
      "EPOCH: 18 ##### MODE: Train ##### LOSS: 0.0671581749461199\n",
      "EPOCH: 18 ##### MODE: Validation ##### LOSS: 0.06797137558180139\n",
      "##### EPOCH 19 #####\n",
      "EPOCH: 19 ##### MODE: Train ##### LOSS: 0.0666656286588737\n",
      "EPOCH: 19 ##### MODE: Validation ##### LOSS: 0.06742230260786705\n",
      "##### EPOCH 20 #####\n",
      "EPOCH: 20 ##### MODE: Train ##### LOSS: 0.06633220093422815\n",
      "EPOCH: 20 ##### MODE: Validation ##### LOSS: 0.0642673315802463\n",
      "##### EPOCH 21 #####\n",
      "EPOCH: 21 ##### MODE: Train ##### LOSS: 0.0658523827280037\n",
      "EPOCH: 21 ##### MODE: Validation ##### LOSS: 0.06805054033945378\n",
      "##### EPOCH 22 #####\n",
      "EPOCH: 22 ##### MODE: Train ##### LOSS: 0.06545873029731718\n",
      "EPOCH: 22 ##### MODE: Validation ##### LOSS: 0.06747827551474697\n",
      "##### EPOCH 23 #####\n",
      "EPOCH: 23 ##### MODE: Train ##### LOSS: 0.06509617738831873\n",
      "EPOCH: 23 ##### MODE: Validation ##### LOSS: 0.0686548726171031\n",
      "##### EPOCH 24 #####\n",
      "EPOCH: 24 ##### MODE: Train ##### LOSS: 0.0646189159951768\n",
      "EPOCH: 24 ##### MODE: Validation ##### LOSS: 0.06677211347715299\n",
      "##### EPOCH 25 #####\n",
      "EPOCH: 25 ##### MODE: Train ##### LOSS: 0.06416410425873964\n",
      "EPOCH: 25 ##### MODE: Validation ##### LOSS: 0.06342343669524766\n",
      "##### EPOCH 26 #####\n",
      "EPOCH: 26 ##### MODE: Train ##### LOSS: 0.06367401349799413\n",
      "EPOCH: 26 ##### MODE: Validation ##### LOSS: 0.06186208564479996\n",
      "##### EPOCH 27 #####\n",
      "EPOCH: 27 ##### MODE: Train ##### LOSS: 0.0631661721526232\n",
      "EPOCH: 27 ##### MODE: Validation ##### LOSS: 0.062266582146959196\n",
      "##### EPOCH 28 #####\n",
      "EPOCH: 28 ##### MODE: Train ##### LOSS: 0.06260198296250817\n",
      "EPOCH: 28 ##### MODE: Validation ##### LOSS: 0.061065777604069026\n",
      "##### EPOCH 29 #####\n",
      "EPOCH: 29 ##### MODE: Train ##### LOSS: 0.06213777460844109\n",
      "EPOCH: 29 ##### MODE: Validation ##### LOSS: 0.060718737066464315\n",
      "##### EPOCH 30 #####\n",
      "EPOCH: 30 ##### MODE: Train ##### LOSS: 0.061644965537676684\n",
      "EPOCH: 30 ##### MODE: Validation ##### LOSS: 0.061139587803106556\n"
     ]
    }
   ],
   "source": [
    "trainer = Trainer(CFG, train_data, val_data)\n",
    "trainer.runBatchProcess()"
   ]
  },
  {
   "cell_type": "code",
   "execution_count": 7,
   "id": "bd1c29c5",
   "metadata": {},
   "outputs": [
    {
     "data": {
      "text/plain": [
       "[<matplotlib.lines.Line2D at 0x7f723a926a90>]"
      ]
     },
     "execution_count": 7,
     "metadata": {},
     "output_type": "execute_result"
    },
    {
     "data": {
      "image/png": "[encoded data removed]",
      "text/plain": [
       "<Figure size 640x480 with 1 Axes>"
      ]
     },
     "metadata": {},
     "output_type": "display_data"
    }
   ],
   "source": [
    "trainLoss = trainer.metrics[\"train\"][\"loss\"][1:]\n",
    "valLoss = trainer.metrics[\"val\"][\"loss\"][1:]\n",
    "\n",
    "plt.plot(trainLoss)\n",
    "plt.plot(valLoss)"
   ]
  },
  {
   "cell_type": "markdown",
   "id": "8c1ab833",
   "metadata": {},
   "source": []
  },
  {
   "cell_type": "code",
   "execution_count": 8,
   "id": "b620bb6b",
   "metadata": {},
   "outputs": [
    {
     "name": "stdout",
     "output_type": "stream",
     "text": [
      "csv read\n",
      "kinematics processed\n",
      "logs taken\n",
      "num objects computed\n"
     ]
    }
   ],
   "source": [
    "bsm_dataloader =  DataLoader(\n",
    "    filename = CFG[\"dataloader\"][\"raw_datasets\"][\"chargino_chargino\"][0],\n",
    "    cwd = CWD,\n",
    "    numParticles = 8,\n",
    "    saveProcessed = True,\n",
    "    loadProcessed = False,\n",
    ")\n",
    "bsm_dataset = bsm_dataloader.getDataset(asNumpy=True)\n",
    "bsm_train_data, bsm_val_data = apply_data_transformations(bsm_dataset, batch_size=CFG[\"dataloader\"][\"batch_size\"], test_size=0.95,)\n",
    "trained_network = trainer.network"
   ]
  },
  {
   "cell_type": "code",
   "execution_count": 10,
   "id": "eee79649",
   "metadata": {},
   "outputs": [],
   "source": [
    "bsm_score = []\n",
    "for input in iter(bsm_val_data):\n",
    "    output = trained_network(input)\n",
    "\n",
    "\n",
    "    # Compute loss function\n",
    "    loss = (tf.keras.metrics.mean_squared_error(input, output)*100).numpy()\n",
    "    bsm_score.extend(loss)"
   ]
  },
  {
   "cell_type": "code",
   "execution_count": 13,
   "id": "4363b8ea",
   "metadata": {},
   "outputs": [],
   "source": [
    "sm_score = []\n",
    "for idx, input in enumerate(iter(val_data)):\n",
    "    output = trained_network(input)\n",
    "\n",
    "    # Compute loss function\n",
    "    loss = (tf.keras.metrics.mean_squared_error(input, output)*100).numpy()\n",
    "    sm_score.extend(loss)"
   ]
  },
  {
   "cell_type": "code",
   "execution_count": 15,
   "id": "09b9312d",
   "metadata": {},
   "outputs": [
    {
     "data": {
      "text/plain": [
       "(array([4.1810e+03, 1.3131e+04, 1.2456e+04, 9.3560e+03, 6.6490e+03,\n",
       "        4.8510e+03, 3.4870e+03, 2.6030e+03, 2.1430e+03, 1.7100e+03,\n",
       "        1.4540e+03, 1.1690e+03, 9.1600e+02, 7.0100e+02, 6.0200e+02,\n",
       "        4.5400e+02, 3.9700e+02, 3.2300e+02, 2.7000e+02, 2.4100e+02,\n",
       "        1.9500e+02, 1.6100e+02, 1.2300e+02, 1.0500e+02, 7.3000e+01,\n",
       "        6.9000e+01, 5.7000e+01, 5.3000e+01, 3.3000e+01, 1.8000e+01,\n",
       "        2.2000e+01, 1.4000e+01, 7.0000e+00, 1.0000e+01, 2.0000e+00,\n",
       "        2.0000e+00, 4.0000e+00, 3.0000e+00, 3.0000e+00, 2.0000e+00,\n",
       "        0.0000e+00, 1.0000e+00, 0.0000e+00, 2.0000e+00, 0.0000e+00,\n",
       "        0.0000e+00, 0.0000e+00, 0.0000e+00, 0.0000e+00, 1.0000e+00]),\n",
       " array([0.00338608, 0.01532049, 0.0272549 , 0.03918931, 0.05112372,\n",
       "        0.06305813, 0.07499254, 0.08692695, 0.09886136, 0.11079577,\n",
       "        0.12273018, 0.1346646 , 0.14659899, 0.15853341, 0.17046782,\n",
       "        0.18240224, 0.19433664, 0.20627105, 0.21820547, 0.23013988,\n",
       "        0.24207428, 0.25400871, 0.26594311, 0.27787751, 0.28981194,\n",
       "        0.30174634, 0.31368074, 0.32561517, 0.33754957, 0.34948397,\n",
       "        0.3614184 , 0.3733528 , 0.3852872 , 0.39722162, 0.40915602,\n",
       "        0.42109045, 0.43302485, 0.44495925, 0.45689368, 0.46882808,\n",
       "        0.48076248, 0.49269691, 0.50463134, 0.51656574, 0.52850014,\n",
       "        0.54043454, 0.55236894, 0.56430334, 0.5762378 , 0.5881722 ,\n",
       "        0.6001066 ]),\n",
       " <BarContainer object of 50 artists>)"
      ]
     },
     "execution_count": 15,
     "metadata": {},
     "output_type": "execute_result"
    },
    {
     "data": {
      "image/png": "[encoded data removed]",
      "text/plain": [
       "<Figure size 640x480 with 1 Axes>"
      ]
     },
     "metadata": {},
     "output_type": "display_data"
    }
   ],
   "source": [
    "plt.hist(bsm_score, alpha=0.5, bins=50, log=True)\n",
    "plt.hist(sm_score,  alpha=0.5, bins=50, log=True)"
   ]
  },
  {
   "cell_type": "code",
   "execution_count": null,
   "id": "bfb8110c",
   "metadata": {},
   "outputs": [],
   "source": []
  }
 ],
 "metadata": {
  "kernelspec": {
   "display_name": "Python 3 (ipykernel)",
   "language": "python",
   "name": "python3"
  },
  "language_info": {
   "codemirror_mode": {
    "name": "ipython",
    "version": 3
   },
   "file_extension": ".py",
   "mimetype": "text/x-python",
   "name": "python",
   "nbconvert_exporter": "python",
   "pygments_lexer": "ipython3",
   "version": "3.1.0"
  }
 },
 "nbformat": 4,
 "nbformat_minor": 5
}
