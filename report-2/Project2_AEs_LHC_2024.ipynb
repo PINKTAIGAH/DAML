{
 "cells": [
  {
   "cell_type": "markdown",
   "id": "c322e2ea",
   "metadata": {},
   "source": [
    "# Project2: Anomaly Detection for Exotic Event Identification at the Large Hadron Collider \n",
    "\n",
    "\n"
   ]
  },
  {
   "cell_type": "markdown",
   "id": "225d014c",
   "metadata": {},
   "source": [
    "## Brief Introduction to the Standard Model and Large Hadron Collider\n",
    "\n",
    "\n",
    "The Standard model (SM) of Particle Physics is the most complete model physicists have for understanding the interactions of the fundamental particles in the universe. The elementary particles of the SM are shown in Fig.1.\n",
    "\n",
    "---\n",
    "<figure>\n",
    "    <img src=\"https://upload.wikimedia.org/wikipedia/commons/thumb/0/00/Standard_Model_of_Elementary_Particles.svg/627px-Standard_Model_of_Elementary_Particles.svg.png\" alt=\"SM\" style=\"width: 600px;\"/>\n",
    "    <figcaption>Fig.1 - Elementary particles of the Standard Model.</figcaption>\n",
    "</figure>\n",
    "\n",
    "---\n",
    "\n",
    "It is comprised of matter particles (**fermions**):\n",
    "- **leptons**\n",
    "    - electrons\n",
    "    - muon\n",
    "    - tau\n",
    "    - and respective neutrinos\n",
    "- **quarks** which are the building blocks of protons\n",
    "\n",
    "as well as force carrier particles (**bosons**):\n",
    "- photon and W/Z bosons (electroweak force)\n",
    "- gluons (strong force)\n",
    "\n",
    "and the Higgs boson which is attributed to the mechanism which gives particles their mass.\n",
    "\n",
    "\n",
    "Though the SM has experimentally stood the test of time, many outstanding questions about the universe and the model itself remain, and scientist continue to probe for inconsistencies in the SM in order to find new physics. More exotic models such as **Supersymmetry (SUSY)** predic mirror particles which may exist and have alluded detection thus far. \n",
    "\n",
    "---\n",
    "\n",
    "The **Large Hadron Collider** (LHC) is a particle smasher capable of colliding protons at a centre of mass energy of 14 TeV.\n",
    "**ATLAS** is general purpouse particle detectors tasked with recording the remnants of proton collisions at the collicion point. The main purpouse of this experiment is to test the SM rigorously, and ATLAS was one of two expeririments (ATLAS+CMS) responsible for the discovery of the **Higgs boson in 2012**. \n",
    "\n",
    "Find an animation of how particles are reconstructed within a slice of the ATLAS detector here: https://videos.cern.ch/record/2770812. Electrons, muons, photons, quark jets, etc, will interact with different layers of the detector in different ways, making it possible to design algorithms which distinguish reconstructed particles, measure their trajectories, charge and energy, and identify them as particular types.\n",
    "\n",
    "Figure 2 shows an event display from a data event in ATLAS in which 2 muons (red), 2 electrons (green), and 1 quark-jet (purple cone) are found. This event is a candidate to a Higgs boson decaying to four leptons with an associated jet: $$H (+j)\\rightarrow 2\\mu 2e (+j)$$ \n",
    "\n",
    "\n",
    "\n",
    "---\n",
    "\n",
    "<figure>\n",
    "    <img src=\"https://twiki.cern.ch/twiki/pub/AtlasPublic/EventDisplayRun2Physics/JiveXML_327636_1535020856-RZ-LegoPlot-EventInfo-2017-10-18-19-01-24.png\" alt=\"Higgs to leptons\" style=\"width: 600px;\"/>\n",
    "    <figcaption>Fig.2 - Event display of a Higgs candidate decaying to two muons and two electrons.</figcaption>\n",
    "</figure>\n",
    "\n",
    "---\n",
    "\n",
    "\n",
    "Particles are shown transversing the detector material. The 3D histogram show \n",
    "* the azimuth $\\phi$ ( angle around the beam, 0 is up)\n",
    "* pseudo-rapidity $\\eta$ (trajectory along the beam) positions of the particle directions with respect to the interaction point.\n",
    "* The total energy measured for the particle is denoted by $E$,\n",
    "* the transverse momentum ($p_T$) deposited by the particle in giga-electronvolts (GeV) are shown by the hight of the histograms.\n",
    "\n",
    "A particle kinematics can then be described by a four-vector  $$\\bar{p} = (E,p_T,\\eta,\\phi)$$\n",
    "\n",
    "An additional importan quantity is the missing energy in the transverse plane (MET). This is calculated by taking the negative sum of the transverse momentum of all particles in the event.\n",
    "$$\\mathrm{MET} = -\\sum p_T$$\n",
    "\n",
    "With perfect detector performance the MET will sum to 0 if all outgoing particles are observed by the detector. Neutrinos cannot be measured by the detector and hence their precense produces non-zero MET."
   ]
  },
  {
   "cell_type": "markdown",
   "id": "655ada0c",
   "metadata": {},
   "source": [
    "## Anomally detection dataset\n",
    "\n",
    "For the anomally detection project we will use the dataset discussed in this publication: <p><a href=\"https://arxiv.org/pdf/2105.14027.pdf\" title=\"Anomalies\">The Dark Machines Anomaly Score Challenge:\n",
    "Benchmark Data and Model Independent Event\n",
    "Classification for the Large Hadron Collider</a></p>\n",
    "\n",
    "Familiarise yourself with the paper, in particular from sections 2.1 to 4.4.\n",
    "\n",
    "---\n",
    "\n",
    "The dataset contains a collection of simulated proton-proton collisions in a general particle physics detector (such as ATLAS). We will use a dataset containing `340 000` SM events (referred to as channel 2b in the paper) which have at least 2 electrons/muons in the event with $p_T>15$ GeV. \n",
    "\n",
    "**The events can be found in `background_chan2b_7.8.csv`**\n",
    "\n",
    "\n",
    "You can see all the SM processes that are simulated in Table 2 of the paper, \n",
    "\n",
    "    e.g., an event with a process ID of `w_jets` is a simulated event of two protons producing a lepton and neutrino and at least two jets.\n",
    "    \n",
    "$$pp\\rightarrow \\ell\\nu(+2j)$$\n",
    "\n",
    "---\n",
    "\n",
    "The datasets are collected as CSV files where each line represents a single event, with the current format:\n",
    "\n",
    "`event ID; process ID; event weight; MET; METphi; obj1, E1, pt1, eta1, phi1; obj2, E2, pt2, eta2, phi2; ...`\n",
    "See Section 2.2 for a description of the dataset.\n",
    "Variables are split by a semicolon `\";\"`\n",
    "- `event ID`: an identifier for the event number in the simulation\n",
    "- `process ID`: an identifier for the event simulation type\n",
    "- `event weight`: the weight associated to the simulated event (how important that event is)\n",
    "- `MET`: the missing transverse energy\n",
    "- `METphi`: the azimuth angle (direction) of the MET\n",
    "\n",
    "the a list of objects (particles) whose variables are split by commas `\",\"` in the following orger:\n",
    "- `obj`: the object type,\n",
    "\n",
    "    |Key|Particle|\n",
    "    |---|---|\n",
    "    |j|jet|\n",
    "    |b|b-jet|\n",
    "    |e-|electron|\n",
    "    |e+|positron|\n",
    "    |m-|muon|\n",
    "    |m+|muon+|\n",
    "    |g|photon|\n",
    "    \n",
    "    *see Table 1 of the paper*\n",
    "- `E`: the total measured particle energy in MeV, [0,inf]\n",
    "- `pt`: the transverse mementum in MeV, [0,inf]\n",
    "- `eta`: pseudo-rapidity, [-inf,inf]\n",
    "- `phi`: azimuth angle, radians [-3.14,3.14]\n",
    "\n",
    "---\n",
    "\n",
    "In addition to the SM events we are also provided simulated events from `Beyond Standard Model` (BSM) exotic physics models. They are summarised here:\n",
    "\n",
    "|Model | File Name | \n",
    "|---|---|\n",
    "|**SUSY chargino-chargino process**||\n",
    "||`chacha_cha300_neut140_chan2b.csv`|\n",
    "||`chacha_cha400_neut60_chan2b.csv`|\n",
    "||`chacha_cha600_neut200_chan2b.csv`|\n",
    "|**SUSY chargino-neutralino processes**||\n",
    "||`chaneut_cha200_neut50_chan2b.csv`|\n",
    "||`chaneut_cha250_neut150_chan2b.csv`|\n",
    "|**$Z'$ decay to leptons**||\n",
    "||`pp23mt_50_chan2b.csv`|\n",
    "||`pp24mt_50_chan2b.csv`|\n",
    "|**Gluino and RPV SUSY**||\n",
    "||`gluino_1000.0_neutralino_1.0_chan2b.csv`||\n",
    "||`stlp_st1000_chan2b.csv`||\n",
    "\n"
   ]
  },
  {
   "cell_type": "markdown",
   "id": "686809e6",
   "metadata": {},
   "source": [
    "## Project description\n",
    "*Responsible:* Robert Currie (<rob.currie@ed.ac.uk>)\n",
    "\n",
    "### Overview\n",
    "The task is to design an anomaly detection algorithm which is trained on the SM dataset and which can be used to flag up interesting (exotic) events from the BSM physics models.\n",
    "\n",
    "You will do this by designing a robust `AutoEncoder` which is trained on the event level variables `MET; METphi` and the kinematics of the particle level objects. The `AutoEncoder` needs to duplicate the input as output effectively while going through a laten space (bottleneck). \n",
    "\n",
    "You will then need to evaluate and discuss the performance of your `AutoEncoder` on the exotic models listed above, and come up with an appropiate metric to identify events from non SM physics."
   ]
  },
  {
   "cell_type": "markdown",
   "id": "b63d3beb",
   "metadata": {},
   "source": [
    "# **Breakdown**\n",
    "\n",
    "In the project report you will be assessed in the following way.\n",
    "\n",
    "1. **Data exploration and preprocessing (20%):** Inspect the datasets; visualise the data (e.g. tables, plots, etc) in an appropriate way; study the composition of the dataset; perform any necessary preprocessing.\n",
    "2. **Model selection (30%):** Choose a promissing approach; construct the machine learning model; optimise the relevant hyperparameters; train your chosen model.\n",
    "3. **Performance evaluation (30%):** Evaluate the model in a way that gauges its ability to generalise to unseen data; compare to other approaches; identify the best approach. \n",
    "4. **Discussion, style throughout (20%):** Discuss the reasoning or intuition behind your choices; the results you obtain through your studies; the relative merits of the methods you have developed, _etc._ Similarly, make sure that you write efficient code, document your work, clearly convey your results, and convince us that you have mastered the material.\n",
    "\n",
    "\n",
    "## Data Preprocessing\n",
    "* The data is provided in a CSV (text) format with semicolon and comma seperated list with **one line per event**. We need to convert this into an appropiate format for our neural networks. \n",
    "* Since the number of particles per event is variable you will need to **truncate** and **mask** particles in the event. The following steps need to be perfomed on the SM (background) sample:\n",
    "     1. Create variables where you count the number of electrons, photons, muons, jets and bjets in the event (ignore charge) before any truncation.\n",
    "     2. Choose an appropiate number of particles to study per event (recommended: **8** particles are used in the paper)\n",
    "     3. Check the particles are sorted by energy (largest to smallest)\n",
    "     4. If the event has more than 8 particles choose the **8 particles** with **highest energy and truncate** the rest.\n",
    "     5. convert energy and momentum variables by logarithm (e.g., `log`) - this is to prioritise differences in energy **scale** over more minor differences. \n",
    "     6. If the event has less than 8 particles, create kinematic variables with 0 values for the missing particles.\n",
    "* The final set of training variables should look something like this (the exact format is up to you)\n",
    "    |N ele| N muon| N jets| N bjets| N photons| log(MET)| METphi| log(E1)| log(pt1)| eta1| phi1| ... | phi8|\n",
    "    |-|-|-|-|-|-|-|-|-|-|-|-|-|\n",
    "    \n",
    "    7. After the dataset is ready, use `MinMaxScalar` or similar to standardise the training variables over the SM dataset\n",
    "* After the SM dataset has been processed use the same processing on the BSM (signal samples). Use the same standardisation functions as on the SM dataset, *Do not recalculate the standardisation*.\n",
    "* Keep associated metatata (`event ID; process ID; event weight;`) though this does not need processing. \n",
    "* Randomise and split the SM (background) dataset into training and testing datasets (the BSM samples don't need to be split (*Why?*))\n",
    "* *Hint*: It is suggested that you write a class or function for the preprocessing which takes a csv path as input and provides the processed dataset. After you have done the data processing its suggested you save the datasets so as to not have to recalculate them again if the kernel is restarted. \n",
    "\n",
    "## Training\n",
    "* Design an appropiate algorithm which reconstrucuts the input variables after going though a laten space. Choose an appropiate cost function.\n",
    "    * The suggested method for ease of implementation is the `AutoEncoder`\n",
    "    * However, if you consider learning about or trying something else, as described in the paper, you should feel welcome to try `VAEs`, `ConvAEs`, `ConvVAEs`, etc. Don't feel you **have** to create an `AE`.\n",
    "\n",
    "* Explore different architectures for the model, and explain in detail your choice of model, and the final parameters chosen.\n",
    "* It is suggested to create a class or function around your algorithm which allows you to easily tweek hyperparameters of the model (depth, number of nodes, number of laten variables, activation functions, regularisation, etc)\n",
    "* Train the model over several parameters to find the best algorithm. Document the process throught and discuss your choices. Keep track of validation performance. Save the models the best points. \n",
    "* Explore the results and document your findings. Ask as many questions about your model as you can, and document your findings. Does the model generalise well to data it hasn't seen?\n",
    "\n",
    "## Evaluation\n",
    "In the evaluation explore different datasets an try answer as many questions about the performance as possible. \n",
    "* Evaluate the performance of the `AE` on BSM dataset. Which models are more or less similar to the SM?\n",
    "* Explore the anomaly score as a handle on finding new physics. Consider scanning over different anomaly scores and calculating the signal and background efficiencies at each point (plot this for different BSM models). How might you choose a value which flags up a non-SM event? \n",
    "* Explore SM events. Which look more anomolous than others? Are there any particular features which are responsible, e.g. particle counts, MET ranges, etc.? \n",
    "* Discuss any limitations your algorithm has. How might you update and improve your model in future? Discuss any issues you had, or things you would have liked to try given more time."
   ]
  },
  {
   "attachments": {},
   "cell_type": "markdown",
   "id": "6fe3871b-a380-429f-b27f-cbf91d380b03",
   "metadata": {},
   "source": [
    "---\n",
    "## Submission\n",
    "\n",
    "\n",
    "To complete this project, you should **Submit your Jupyter notebook** as a \"report.\" See the comments below on documentation,\n",
    "\n",
    "**You should submit by Friday 9th Feb 2024 at 10AM**\n",
    "\n",
    "\n",
    "For all task we're not looking for exceptional model performace and high scores (although those are nice too), **we're mostly concerned with _best practices:_** If you are careful and deliberate in your work, and show us that you can use the tools introduced in the course so far, we're happy!\n",
    "\n",
    "Training all of these models in sequence takes a very long time so **don't spend hours on training hundreds of epochs.** Be conservative on epoch numbers (30 is normally more than enough) and use appropiate techniques like EarlyStopping to speed things up. Once you land on a good model you can allow for longer training times if performance can still improve.\n",
    "\n",
    "\n",
    "## Documentation: Annotation and Commentary\n",
    "\n",
    "It is important that __all__ code is annotated and that you provide brief commentary __at each step__ to explain your approach. We expect well-documented jupyter notebooks, not an unordered collection of code snippets. You can also include any failed approaches if you provide reasonable explanation. \n",
    "\n",
    "Unlike weekly checkpoints where you were being guided towards the *''correct''* answer, this project is by design more open ended. It is, therefore, necessary to give some justification for choosing one method over another.\n",
    "Explain *why* you chose a given approach and *discuss* the results. You can also include any failed approaches if you provide reasonable explanation; we care more about you making an effort and showing that you understand the core concepts.\n",
    "\n",
    "This is not in the form of a written report so do not provide pages of background material. Only provide a brief explanation for each step. Aim to clearly present your work so that the markers can easily follow your reasoning and can reproduce each of your steps through your analysis. Aim to convince us that you have understood the material covered in the course.\n",
    "\n",
    "To add commentary above (or below) a code snippet create a new cell and add your text in markdown format. __Do not__ add commentary or significant text as a code comment in the same cell as the code.\n",
    "(Code comments are still helpful!)\n",
    "\n",
    "__20\\% of the mark for each exercise is allocated to coding style and clarity of comments and approach.__\n",
    "\n",
    "## Submission Steps\n",
    "\n",
    "It is important your code is fully functional before it is submitted or this will affect your final mark. \n",
    "\n",
    "When you are ready to submit your report perform the following steps: \n",
    "\n",
    " -  In Jupyter run `Kernel` -> `Restart Kernel ` and ` Clear All Outputs `\n",
    " -  Then `Kernel` -> `Restart & Run All ` to ensure that all your analysis  is reproducible and all output can be regenerated\n",
    " -  Save the notebook, and close Jupyter\n",
    " -  **Change the filename to contain Name_Surname**\n",
    " -  Tar and zip your project folder if you have multiple files in a working directory. You are free to include any supporting code. Make sure this belongs in the project folder and is referenced correctly in your notebook. Do __not__ include any of the input data.\n",
    " -  Submit this file or zipped folder through Learn. In case of problems or if your compressed project folder exceeds 20 MB (first make sure you are not including any CSV files, then) email your submission to Kieran (the course administrator) at the Teaching Office and me."
   ]
  },
  {
   "cell_type": "markdown",
   "id": "34764f35",
   "metadata": {},
   "source": [
    "# Happy Anomaly Hunting\n",
    "---\n",
    "<blockquote class=\"twitter-tweet\"><p lang=\"en\" dir=\"ltr\">Data Scientist (n.): Person who is better at statistics than any software engineer and better at software engineering than any statistician.</p>&mdash; Josh Wills (@josh_wills) <a href=\"https://twitter.com/josh_wills/status/198093512149958656?ref_src=twsrc%5Etfw\">May 3, 2012</a></blockquote> <script async src=\"https://platform.twitter.com/widgets.js\" charset=\"utf-8\"></script> \n",
    "\n",
    "---\n",
    "\n",
    "Your code follows...."
   ]
  },
  {
   "cell_type": "markdown",
   "id": "7ca51dc7",
   "metadata": {},
   "source": [
    "# Notes\n",
    "\n",
    "This notebook is currently being developed in a docker container as it is the only way to get tensorflow working with my GPU and as such does not have the DAML enviroment installed. As a result this notebook will run teminal commands to install the required dependencies (currently all depedencies are met by the DAML enviroment). If you asre uncomfortable with this or the command creates conflics with an existing enviroment, you can force the notebook to skip the terminal commands by setting the ```run_cli``` option to ```False``` in the config.yaml file"
   ]
  },
  {
   "cell_type": "markdown",
   "id": "9d50968f",
   "metadata": {},
   "source": [
    "# Download Dependencies"
   ]
  },
  {
   "cell_type": "code",
   "execution_count": 1,
   "id": "947bc7ca",
   "metadata": {},
   "outputs": [
    {
     "name": "stderr",
     "output_type": "stream",
     "text": [
      "/tmp/ipykernel_290445/413891760.py:12: UserWarning: Skipping dependency instalation. This may cause dependency issues further down in the notebook\n",
      "  warnings.warn(\"Skipping dependency instalation. This may cause dependency issues further down in the notebook\")\n"
     ]
    }
   ],
   "source": [
    "import os, sys, yaml, warnings, logging, time\n",
    "\n",
    "# Store sting with cwd\n",
    "CWD = os.getcwd() + \"/\"\n",
    "\n",
    "# Import config settings as dictionary \n",
    "with open(CWD + \"config.yaml\", \"r\") as file:\n",
    "    CFG = yaml.safe_load(file)\n",
    "\n",
    "# Install dependencies\n",
    "if not CFG[\"jupyter\"][\"run_cli\"] or not os.path.isfile(CWD + \"requirements.txt\"):\n",
    "    warnings.warn(\"Skipping dependency instalation. This may cause dependency issues further down in the notebook\")\n",
    "else:\n",
    "    os.system(f\"pip install --upgrade --ignore-installed -r {CWD + 'requirements.txt'}\")"
   ]
  },
  {
   "cell_type": "code",
   "execution_count": 2,
   "id": "97dcdf5b",
   "metadata": {},
   "outputs": [
    {
     "data": {
      "text/plain": [
       "{'divide': 'warn', 'over': 'warn', 'under': 'ignore', 'invalid': 'warn'}"
      ]
     },
     "execution_count": 2,
     "metadata": {},
     "output_type": "execute_result"
    }
   ],
   "source": [
    "import torch\n",
    "import numpy as np\n",
    "import pandas as pd\n",
    "import seaborn as snc\n",
    "# from tqdm import tqdm \n",
    "import matplotlib.pyplot as plt\n",
    "\n",
    "# Import custom classed and functions\n",
    "from src.core import Dataclass, DataLoader, TorchTrainer\n",
    "import sklearn\n",
    "\n",
    "# Turn off divide by zero numpy error (we alreadsy take NaN's into account)\n",
    "np.seterr(divide=\"ignore\", invalid=\"ignore\")"
   ]
  },
  {
   "cell_type": "code",
   "execution_count": 3,
   "id": "c925f562",
   "metadata": {},
   "outputs": [],
   "source": [
    "import torch.nn as nn\n",
    "from torch.utils.data import DataLoader\n",
    "from torch.utils.data import Dataset\n",
    "\n",
    "def compute_anomaly_scores(data, network, anomaly_score_function, config):\n",
    "    \"\"\"\n",
    "    Use a trained network to compute the anomaly score of a given dataset\n",
    "    \"\"\" \n",
    "\n",
    "    # Define device to send\n",
    "    device = torch.device(\"cuda\" if torch.cuda.is_available() else \"cpu\")\n",
    "\n",
    "    # Instansiate dataloader\n",
    "    if not isinstance(data, Dataset):\n",
    "        raise Exception(\"Dataset passed to function is not a torch Dataset class\")\n",
    "    loader = DataLoader(data, batch_size=128, shuffle=False)\n",
    "\n",
    "    # Set network to eval mode and send to device\n",
    "    network = network.eval().to(device)\n",
    "\n",
    "    # Define empty list to contain anomaly scores\n",
    "    anomaly_socres = []\n",
    "\n",
    "    # Iterate through dataset and compute anomaly score\n",
    "    with torch.no_grad():\n",
    "        for input in iter(loader):\n",
    "            # Send input to device\n",
    "            input = input.to(device)\n",
    "\n",
    "            if config[\"trainer\"][\"model_name\"] == \"denseVAE\":\n",
    "                # Compute model output and compute anomaly score\n",
    "                output, mean, logvar = network(input)\n",
    "                anomaly_socre = anomaly_score_function(input, output, mean, logvar).cpu().numpy()\n",
    "            else:\n",
    "                # Compute model output and compute anomaly score\n",
    "                output = network(input)\n",
    "                anomaly_socre = anomaly_score_function(input, output).cpu().tolist()\n",
    "                # print(anomaly_socre)\n",
    "            # Append anomaly score to list\n",
    "            anomaly_socres.extend(anomaly_socre)\n",
    "    \n",
    "    # Return normalised anomaly scores\n",
    "    anomaly_socres = np.array(anomaly_socres)\n",
    "    return anomaly_socres\n",
    "\n",
    "def scale_dataset(dataset, scaled_min=-1, scaled_max=1,):\n",
    "    \"\"\"\n",
    "    Function which will scale input numpy array of tf tensor within the defined range\n",
    "    \"\"\"\n",
    "    # Check scale range is valid\n",
    "    if not scaled_min < scaled_max:\n",
    "        raise Exception(f\"Scale range is not valid. Minimum value is larger than maximum value in range.\")\n",
    "\n",
    "    # Find the current minimim and maximum value of dataset\n",
    "    if isinstance(dataset, np.ndarray):\n",
    "        current_min, current_max = dataset.min(), dataset.max()\n",
    "    else:\n",
    "        current_min, current_max = dataset.min(), dataset.max()\n",
    "    # Scale the data\n",
    "    scaled_dataset = (scaled_max - scaled_min) * (dataset - current_min)/(current_max - current_min) + scaled_min\n",
    "    \n",
    "    # # Print check\n",
    "    # print(f\"Expected dataset scaling is [{int(scaled_min)}, {(scaled_max)}]\")\n",
    "    # print(f\"Actual dataset scaling is [{int(scaled_dataset.min())}, {(scaled_dataset.max())}]\\n\")\n",
    "    \n",
    "    # Return a tensorflow tensor or numpy array\n",
    "    return scaled_dataset"
   ]
  },
  {
   "cell_type": "markdown",
   "id": "7e7362f4",
   "metadata": {},
   "source": [
    "# **Creating Dataloader**\n",
    "\n",
    "Currenly the datasets are stored in csv files with a non-uniform number of columns for each event. As such, we will have to approch the task of importing the data in a non-trivial way. We will create a dataloader class which will be taked with taking a csv path and return a well formatted numpy array which can be used lated down the line for training. \n",
    "\n",
    "This class is called ```DataLoader``` and can be found in the ```src.core``` directory under the name ```DataLoader.py```. The class will take the following steps to load in a csv.\n",
    "\n",
    "### **If we ask ```DataLoader``` to read raw csv:**\n",
    "\n",
    "- We will first parse the raw csv dividing the strings in each line according to the outer ```;``` delimiter. We will call the 1st 5 columns event metadata and stroree them in a pandas dataframe. the remaining string contaings the kinematics for each particle in the event. We will call this string the ```kinematicString``` and store it in a seperate column in the dataframe.\n",
    "\n",
    "We now have a dataset with the following structure:\n",
    "| event_id | process_id | event_weight | met | met_phi | kinematic_string | \n",
    "| :------- | :--------: | :----------: | :-: | :-----: | ---------------: |\n",
    "\n",
    "- We will now parse the kinematicString which is delimited with ```;``` per particle and with ```,``` per particle's kinematic parameter. Once parsed, we will arrange the particles per event in order of decending energy and keep the ```num_max_particles``` most energetic particles in an event. If the event has less than ```num_max_particles```, we will pad the remaining particle kinematic parameters with **0.0**. We will also remove event metadata which we do not want from the dataframe\n",
    "\n",
    "We now have a dataset with the following structure:\n",
    "| met | met_phi | object1 | energy1 | trans_momentum1 | pseudo_rapidity1 | phi1 | ... | phi_n |\n",
    "| :-- | :-----: | :-----: | :-----: | :-------------: | :--------------: | :--: | :-: | ----: |\n",
    "\n",
    "- We now take the logarithm of all the columns containing energy of momentum data dor each event.\n",
    "\n",
    "We now have a dataset with the following structure:\n",
    "| log(met) | met_phi | object1 | log(energy1) | log(trans_momentum1) | pseudo_rapidity1 | phi1 | ... | phi_n |\n",
    "| :------- | :-----: | :-----: | :----------: | :------------------: | :--------------: | :--: | :-: | ----: |\n",
    "\n",
    "- Lastly we will compute the number of particles what appear in each event and remove the object columns from the dataframe. We then save the dataframe as a csv if needed. The datareame or a numpy array of the dataframe's values can then be obtrained from the class \n",
    "\n",
    "We now have a dataset with the following structure:\n",
    "| n_ele | n_muon | n_jets | n_bjets | n_photons | log(met) | met_phi | log(energy1) | log(trans_momentum1) | pseudo_rapidity1 | phi1 | ... | phi_n |\n",
    "| ----: | :----: | :----: | :-----: | :-------: | :------: | :-----: | :----------: | :------------------: | :--------------: | :--: | :-: | ----: |\n",
    "\n",
    "### **If we ask ```DataLoader``` to read processed csv:**\n",
    "\n",
    "- The dataloader will read a processed csv which pas produced and saved previously as a pandas dataframe. The dataframe or a numpy array of the values can then be returned by the class."
   ]
  },
  {
   "cell_type": "markdown",
   "id": "7f54396e",
   "metadata": {},
   "source": [
    "# **Data Transformations**\n",
    "\n",
    "Now that we have written a class capable of reqading a csv file and returning a processed and uniform numpy array,. we define function to transform data from a raw numpy array to TF datasets which we can use for batch training.\n",
    "\n",
    "The script containing all the data transformation functions can be found in the ```scr.utils``` directory in the ```utility_functions.py``` script.\n",
    "\n",
    "The following steps must be taken:\n",
    "- Scale dataset from range (-1, 1). This is done s.t the neural network can more easily compute weights\n",
    "- Shuffle and split the numpy array into a test and train dataset using ```sklearn.model_selection.train_test_split```\n",
    "- Convert to tf.Dataset class s.t we can sample the datasets in batches using ```tf.data.Dataset.from_tensor_slices```"
   ]
  },
  {
   "cell_type": "code",
   "execution_count": 4,
   "id": "86afed0c",
   "metadata": {},
   "outputs": [
    {
     "name": "stdout",
     "output_type": "stream",
     "text": [
      "torch.Size([340267, 39])\n",
      "torch.Size([58540, 39])\n"
     ]
    }
   ],
   "source": [
    "# Apply reansfromations and return the tf dataset iterables \n",
    "sm_dataclass = Dataclass(CFG[\"dataloader\"][\"raw_datasets\"][\"background\"], CWD, 8, loadProcessed=True, saveProcessed=True)\n",
    "bsm_dataset = Dataclass(CFG[\"dataloader\"][\"raw_datasets\"][\"gluino_rpv\"][0], CWD, 8, True, True)"
   ]
  },
  {
   "cell_type": "markdown",
   "id": "0ef131a3",
   "metadata": {},
   "source": [
    "# **VAE Model**\n",
    "\n",
    "We now create the VAE model which will be used to trained and discriminate anomalies. We will first attempt to use two VAE models and compare their performance. One will be a regular Fully-Connected Dense VAE which will take a 1D vector as an input. The Second VAE will be a Convolutional VAE which will take a 2D image-like input.\n",
    "\n",
    "Both networks can be found in the ```src.models``` directory.\n",
    "\n",
    "For the fully-connected VAE, it's architecture is:\n",
    "\n",
    "- Encoder: \n",
    "    - Dense Layer (outDims = 32) + LeakyReLU\n",
    "    - Dense Layer (outDims = 16) + LeakyReLU\n",
    "    - Dense Layer (outDims = 10)\n",
    "\n",
    "- Decoder:\n",
    "    - Dense Layer (outDims = 16) + LeakyReLU\n",
    "    - Dense Layer (outDims = 32) + LeakyReLU\n",
    "    - Dense Layer (outDims = inputDims) + Sigmoid"
   ]
  },
  {
   "cell_type": "markdown",
   "id": "c429cf1a",
   "metadata": {},
   "source": [
    "# **Constructing trainer class**\n",
    "\n",
    "Now that we have network classes and a dataset, we can build a class which can be used to train and validate our models. The class will take as an input the configuration dictionary s.t we can modify training hyperparameters from the config yaml file.\n",
    "\n",
    "The trainier class can be fount in the ```src.core``` directory in the ```trainer.py``` file.\n",
    "\n",
    "In order to run the training process, we call the ```runBatchProcess()``` method of the trainer."
   ]
  },
  {
   "cell_type": "code",
   "execution_count": 5,
   "id": "7831c173",
   "metadata": {},
   "outputs": [],
   "source": [
    "def anom_func(input, output, mean=None, logvar=None):\n",
    "    mseLoss = nn.functional.mse_loss(input, output, reduction=\"none\").mean(axis=1)\n",
    "    l1Loss = nn.functional.l1_loss(input, output, reduction=\"none\")\n",
    "    # klLoss  = - 0.5 * torch.sum(1+ logvar - mean.pow(2) - logvar.exp())\n",
    "\n",
    "    # return l1Loss\n",
    "    return mseLoss \n",
    "    # return klLoss + mseLoss\n",
    "\n",
    "def histogram_intersection(h1, h2, bins):\n",
    "    bins = np.diff(bins)\n",
    "    sm = 0\n",
    "    for i in range(len(bins)):\n",
    "        sm += min(bins[i]*h1[i], bins[i]*h2[i])\n",
    "    return sm\n"
   ]
  },
  {
   "cell_type": "code",
   "execution_count": 6,
   "id": "cb9a24f8",
   "metadata": {},
   "outputs": [
    {
     "data": {
      "text/plain": [
       "<matplotlib.legend.Legend at 0x7f06cabddf50>"
      ]
     },
     "execution_count": 6,
     "metadata": {},
     "output_type": "execute_result"
    },
    {
     "data": {
      "image/png": "[encoded data removed]",
      "text/plain": [
       "<Figure size 640x480 with 1 Axes>"
      ]
     },
     "metadata": {},
     "output_type": "display_data"
    }
   ],
   "source": [
    "trainer = TorchTrainer(CFG, sm_dataclass)\n",
    "sm_val_dataset = trainer.valData\n",
    "sm_train_dataset = trainer.trainData\n",
    "untrained_network = trainer.network\n",
    "sm_pretrain_anomaly_scores = compute_anomaly_scores(sm_val_dataset, untrained_network, anom_func, CFG)\n",
    "bsm_pretrain_anomaly_scores = compute_anomaly_scores(bsm_dataset, untrained_network, anom_func, CFG)\n",
    "_=plt.hist(sm_pretrain_anomaly_scores, alpha=0.5, bins=50, log=False, label=\"SM\")\n",
    "_=plt.hist(bsm_pretrain_anomaly_scores,  alpha=0.5, bins=50, log=False, label=\"BSM\")\n",
    "plt.legend()"
   ]
  },
  {
   "cell_type": "code",
   "execution_count": 7,
   "id": "b69c2467",
   "metadata": {},
   "outputs": [
    {
     "name": "stdout",
     "output_type": "stream",
     "text": [
      "##### EPOCH 1 #####\n",
      "EPOCH: 1 ##### MODE: Train ##### LOSS: 0.00012079045554681567\n",
      "EPOCH: 1 ##### MODE: Validation ##### LOSS: 3.197098699983835e-05\n",
      "##### EPOCH 2 #####\n",
      "EPOCH: 2 ##### MODE: Train ##### LOSS: 2.617745853849281e-05\n",
      "EPOCH: 2 ##### MODE: Validation ##### LOSS: 2.151916638954305e-05\n",
      "##### EPOCH 3 #####\n",
      "EPOCH: 3 ##### MODE: Train ##### LOSS: 1.8310048963964874e-05\n",
      "EPOCH: 3 ##### MODE: Validation ##### LOSS: 1.5039176447785724e-05\n",
      "##### EPOCH 4 #####\n",
      "EPOCH: 4 ##### MODE: Train ##### LOSS: 1.3252041743988084e-05\n",
      "EPOCH: 4 ##### MODE: Validation ##### LOSS: 1.2386340301753688e-05\n",
      "##### EPOCH 5 #####\n",
      "EPOCH: 5 ##### MODE: Train ##### LOSS: 1.1830158414644057e-05\n",
      "EPOCH: 5 ##### MODE: Validation ##### LOSS: 1.1250384450629927e-05\n",
      "##### EPOCH 6 #####\n",
      "EPOCH: 6 ##### MODE: Train ##### LOSS: 1.0454667494695837e-05\n",
      "EPOCH: 6 ##### MODE: Validation ##### LOSS: 9.816434843401886e-06\n",
      "##### EPOCH 7 #####\n",
      "EPOCH: 7 ##### MODE: Train ##### LOSS: 9.318591355169242e-06\n",
      "EPOCH: 7 ##### MODE: Validation ##### LOSS: 9.050334221192485e-06\n",
      "##### EPOCH 8 #####\n",
      "EPOCH: 8 ##### MODE: Train ##### LOSS: 8.723821247243088e-06\n",
      "EPOCH: 8 ##### MODE: Validation ##### LOSS: 8.354196543908556e-06\n",
      "##### EPOCH 9 #####\n",
      "EPOCH: 9 ##### MODE: Train ##### LOSS: 7.954781600890423e-06\n",
      "EPOCH: 9 ##### MODE: Validation ##### LOSS: 7.748282858833523e-06\n",
      "##### EPOCH 10 #####\n",
      "EPOCH: 10 ##### MODE: Train ##### LOSS: 7.537362035367197e-06\n",
      "EPOCH: 10 ##### MODE: Validation ##### LOSS: 7.471587957546844e-06\n",
      "##### EPOCH 11 #####\n",
      "EPOCH: 11 ##### MODE: Train ##### LOSS: 7.3139003904461055e-06\n",
      "EPOCH: 11 ##### MODE: Validation ##### LOSS: 7.2540931974366755e-06\n",
      "##### EPOCH 12 #####\n",
      "EPOCH: 12 ##### MODE: Train ##### LOSS: 7.119521821591569e-06\n",
      "EPOCH: 12 ##### MODE: Validation ##### LOSS: 7.062985501997208e-06\n",
      "##### EPOCH 13 #####\n",
      "EPOCH: 13 ##### MODE: Train ##### LOSS: 6.923001443291957e-06\n",
      "EPOCH: 13 ##### MODE: Validation ##### LOSS: 6.841123987820721e-06\n",
      "##### EPOCH 14 #####\n",
      "EPOCH: 14 ##### MODE: Train ##### LOSS: 6.699348982002917e-06\n",
      "EPOCH: 14 ##### MODE: Validation ##### LOSS: 6.6605273404912584e-06\n",
      "##### EPOCH 15 #####\n",
      "EPOCH: 15 ##### MODE: Train ##### LOSS: 6.516255463768489e-06\n",
      "EPOCH: 15 ##### MODE: Validation ##### LOSS: 6.493751706356967e-06\n",
      "##### EPOCH 16 #####\n",
      "EPOCH: 16 ##### MODE: Train ##### LOSS: 6.412933821128154e-06\n",
      "EPOCH: 16 ##### MODE: Validation ##### LOSS: 6.410448304211699e-06\n",
      "##### EPOCH 17 #####\n",
      "EPOCH: 17 ##### MODE: Train ##### LOSS: 6.349521040413322e-06\n",
      "EPOCH: 17 ##### MODE: Validation ##### LOSS: 6.352064226691919e-06\n",
      "##### EPOCH 18 #####\n",
      "EPOCH: 18 ##### MODE: Train ##### LOSS: 6.3014800922287064e-06\n",
      "EPOCH: 18 ##### MODE: Validation ##### LOSS: 6.351525809463616e-06\n",
      "##### EPOCH 19 #####\n",
      "EPOCH: 19 ##### MODE: Train ##### LOSS: 6.262550030950948e-06\n",
      "EPOCH: 19 ##### MODE: Validation ##### LOSS: 6.305748758779802e-06\n",
      "##### EPOCH 20 #####\n",
      "EPOCH: 20 ##### MODE: Train ##### LOSS: 6.227803363633093e-06\n",
      "EPOCH: 20 ##### MODE: Validation ##### LOSS: 6.248254662393664e-06\n",
      "##### EPOCH 21 #####\n",
      "EPOCH: 21 ##### MODE: Train ##### LOSS: 6.199959667216733e-06\n",
      "EPOCH: 21 ##### MODE: Validation ##### LOSS: 6.206732242492054e-06\n",
      "##### EPOCH 22 #####\n",
      "EPOCH: 22 ##### MODE: Train ##### LOSS: 6.17217825407098e-06\n",
      "EPOCH: 22 ##### MODE: Validation ##### LOSS: 6.229064667547133e-06\n",
      "##### EPOCH 23 #####\n",
      "EPOCH: 23 ##### MODE: Train ##### LOSS: 6.154982744865324e-06\n",
      "EPOCH: 23 ##### MODE: Validation ##### LOSS: 6.229824587450286e-06\n",
      "##### EPOCH 24 #####\n",
      "EPOCH: 24 ##### MODE: Train ##### LOSS: 6.133342723844406e-06\n",
      "EPOCH: 24 ##### MODE: Validation ##### LOSS: 6.2278299839522615e-06\n",
      "##### EPOCH 25 #####\n",
      "EPOCH: 25 ##### MODE: Train ##### LOSS: 6.118809279296274e-06\n",
      "EPOCH: 25 ##### MODE: Validation ##### LOSS: 6.10903552694564e-06\n",
      "##### EPOCH 26 #####\n",
      "EPOCH: 26 ##### MODE: Train ##### LOSS: 6.107063702314942e-06\n",
      "EPOCH: 26 ##### MODE: Validation ##### LOSS: 6.100457652650812e-06\n",
      "##### EPOCH 27 #####\n",
      "EPOCH: 27 ##### MODE: Train ##### LOSS: 6.0923153499696035e-06\n",
      "EPOCH: 27 ##### MODE: Validation ##### LOSS: 6.114803478221386e-06\n",
      "##### EPOCH 28 #####\n",
      "EPOCH: 28 ##### MODE: Train ##### LOSS: 6.083460804799631e-06\n",
      "EPOCH: 28 ##### MODE: Validation ##### LOSS: 6.094107428040409e-06\n",
      "##### EPOCH 29 #####\n",
      "EPOCH: 29 ##### MODE: Train ##### LOSS: 6.076843044038077e-06\n",
      "EPOCH: 29 ##### MODE: Validation ##### LOSS: 6.076853564734526e-06\n",
      "##### EPOCH 30 #####\n",
      "EPOCH: 30 ##### MODE: Train ##### LOSS: 6.0608194039111405e-06\n",
      "EPOCH: 30 ##### MODE: Validation ##### LOSS: 6.09475030310006e-06\n",
      "##### EPOCH 31 #####\n",
      "EPOCH: 31 ##### MODE: Train ##### LOSS: 6.0561823454113695e-06\n",
      "EPOCH: 31 ##### MODE: Validation ##### LOSS: 6.050695680166036e-06\n",
      "##### EPOCH 32 #####\n",
      "EPOCH: 32 ##### MODE: Train ##### LOSS: 6.0516967623129904e-06\n",
      "EPOCH: 32 ##### MODE: Validation ##### LOSS: 6.069431237344004e-06\n",
      "##### EPOCH 33 #####\n",
      "EPOCH: 33 ##### MODE: Train ##### LOSS: 6.041406085617328e-06\n",
      "EPOCH: 33 ##### MODE: Validation ##### LOSS: 6.078167354228142e-06\n",
      "##### EPOCH 34 #####\n",
      "EPOCH: 34 ##### MODE: Train ##### LOSS: 6.0333070571288e-06\n",
      "EPOCH: 34 ##### MODE: Validation ##### LOSS: 6.060432941789509e-06\n",
      "##### EPOCH 35 #####\n",
      "EPOCH: 35 ##### MODE: Train ##### LOSS: 6.0285326381801995e-06\n",
      "EPOCH: 35 ##### MODE: Validation ##### LOSS: 6.024621918852453e-06\n",
      "##### EPOCH 36 #####\n",
      "EPOCH: 36 ##### MODE: Train ##### LOSS: 6.01745888333217e-06\n",
      "EPOCH: 36 ##### MODE: Validation ##### LOSS: 6.045171511158271e-06\n",
      "##### EPOCH 37 #####\n",
      "EPOCH: 37 ##### MODE: Train ##### LOSS: 6.014810229269479e-06\n",
      "EPOCH: 37 ##### MODE: Validation ##### LOSS: 6.103211597850017e-06\n",
      "##### EPOCH 38 #####\n",
      "EPOCH: 38 ##### MODE: Train ##### LOSS: 6.0066315993766054e-06\n",
      "EPOCH: 38 ##### MODE: Validation ##### LOSS: 6.03942517574085e-06\n",
      "##### EPOCH 39 #####\n",
      "EPOCH: 39 ##### MODE: Train ##### LOSS: 5.997742846027856e-06\n",
      "EPOCH: 39 ##### MODE: Validation ##### LOSS: 6.069116363604016e-06\n",
      "##### EPOCH 40 #####\n",
      "EPOCH: 40 ##### MODE: Train ##### LOSS: 5.9938609590870714e-06\n",
      "EPOCH: 40 ##### MODE: Validation ##### LOSS: 6.019231316210799e-06\n",
      "##### EPOCH 41 #####\n",
      "EPOCH: 41 ##### MODE: Train ##### LOSS: 5.985787399524007e-06\n",
      "EPOCH: 41 ##### MODE: Validation ##### LOSS: 5.969054425649027e-06\n",
      "##### EPOCH 42 #####\n",
      "EPOCH: 42 ##### MODE: Train ##### LOSS: 5.978667868770714e-06\n",
      "EPOCH: 42 ##### MODE: Validation ##### LOSS: 5.9870956614771185e-06\n",
      "##### EPOCH 43 #####\n",
      "EPOCH: 43 ##### MODE: Train ##### LOSS: 5.972499119596932e-06\n",
      "EPOCH: 43 ##### MODE: Validation ##### LOSS: 5.985984035684121e-06\n",
      "##### EPOCH 44 #####\n",
      "EPOCH: 44 ##### MODE: Train ##### LOSS: 5.962755132270145e-06\n",
      "EPOCH: 44 ##### MODE: Validation ##### LOSS: 6.039815983822022e-06\n",
      "##### EPOCH 45 #####\n",
      "EPOCH: 45 ##### MODE: Train ##### LOSS: 5.952047482641041e-06\n",
      "EPOCH: 45 ##### MODE: Validation ##### LOSS: 5.977488461084135e-06\n",
      "##### EPOCH 46 #####\n",
      "EPOCH: 46 ##### MODE: Train ##### LOSS: 5.9386472679968365e-06\n",
      "EPOCH: 46 ##### MODE: Validation ##### LOSS: 5.938739176528825e-06\n",
      "##### EPOCH 47 #####\n",
      "EPOCH: 47 ##### MODE: Train ##### LOSS: 5.926321261329028e-06\n",
      "EPOCH: 47 ##### MODE: Validation ##### LOSS: 5.956179219158927e-06\n",
      "##### EPOCH 48 #####\n",
      "EPOCH: 48 ##### MODE: Train ##### LOSS: 5.914985755687304e-06\n",
      "EPOCH: 48 ##### MODE: Validation ##### LOSS: 5.95122324307035e-06\n",
      "##### EPOCH 49 #####\n",
      "EPOCH: 49 ##### MODE: Train ##### LOSS: 5.896807133299996e-06\n",
      "EPOCH: 49 ##### MODE: Validation ##### LOSS: 5.905445349032772e-06\n",
      "##### EPOCH 50 #####\n",
      "EPOCH: 50 ##### MODE: Train ##### LOSS: 5.878849609958745e-06\n",
      "EPOCH: 50 ##### MODE: Validation ##### LOSS: 5.891272984053697e-06\n",
      "##### EPOCH 51 #####\n",
      "EPOCH: 51 ##### MODE: Train ##### LOSS: 5.864103308248083e-06\n",
      "EPOCH: 51 ##### MODE: Validation ##### LOSS: 5.902748647539419e-06\n",
      "##### EPOCH 52 #####\n",
      "EPOCH: 52 ##### MODE: Train ##### LOSS: 5.84384619890263e-06\n",
      "EPOCH: 52 ##### MODE: Validation ##### LOSS: 5.823045387468226e-06\n",
      "##### EPOCH 53 #####\n",
      "EPOCH: 53 ##### MODE: Train ##### LOSS: 5.823036983005931e-06\n",
      "EPOCH: 53 ##### MODE: Validation ##### LOSS: 5.843117947751512e-06\n",
      "##### EPOCH 54 #####\n",
      "EPOCH: 54 ##### MODE: Train ##### LOSS: 5.808514969409687e-06\n",
      "EPOCH: 54 ##### MODE: Validation ##### LOSS: 5.803293830207958e-06\n",
      "##### EPOCH 55 #####\n",
      "EPOCH: 55 ##### MODE: Train ##### LOSS: 5.786973121829016e-06\n",
      "EPOCH: 55 ##### MODE: Validation ##### LOSS: 5.808279388683209e-06\n",
      "##### EPOCH 56 #####\n",
      "EPOCH: 56 ##### MODE: Train ##### LOSS: 5.76873551985262e-06\n",
      "EPOCH: 56 ##### MODE: Validation ##### LOSS: 5.79910681142199e-06\n",
      "##### EPOCH 57 #####\n",
      "EPOCH: 57 ##### MODE: Train ##### LOSS: 5.747832301493779e-06\n",
      "EPOCH: 57 ##### MODE: Validation ##### LOSS: 5.759076056810492e-06\n",
      "##### EPOCH 58 #####\n",
      "EPOCH: 58 ##### MODE: Train ##### LOSS: 5.72286314200254e-06\n",
      "EPOCH: 58 ##### MODE: Validation ##### LOSS: 5.717119932399777e-06\n",
      "##### EPOCH 59 #####\n",
      "EPOCH: 59 ##### MODE: Train ##### LOSS: 5.7023909965615665e-06\n",
      "EPOCH: 59 ##### MODE: Validation ##### LOSS: 5.721295616374313e-06\n",
      "##### EPOCH 60 #####\n",
      "EPOCH: 60 ##### MODE: Train ##### LOSS: 5.68113471963909e-06\n",
      "EPOCH: 60 ##### MODE: Validation ##### LOSS: 5.698101803812682e-06\n",
      "##### EPOCH 61 #####\n",
      "EPOCH: 61 ##### MODE: Train ##### LOSS: 5.659637225640003e-06\n",
      "EPOCH: 61 ##### MODE: Validation ##### LOSS: 5.658935259291325e-06\n",
      "##### EPOCH 62 #####\n",
      "EPOCH: 62 ##### MODE: Train ##### LOSS: 5.6422967179593775e-06\n",
      "EPOCH: 62 ##### MODE: Validation ##### LOSS: 5.6379482024529305e-06\n",
      "##### EPOCH 63 #####\n",
      "EPOCH: 63 ##### MODE: Train ##### LOSS: 5.626659412701451e-06\n",
      "EPOCH: 63 ##### MODE: Validation ##### LOSS: 5.642239976724516e-06\n",
      "##### EPOCH 64 #####\n",
      "EPOCH: 64 ##### MODE: Train ##### LOSS: 5.614129172228284e-06\n",
      "EPOCH: 64 ##### MODE: Validation ##### LOSS: 5.623799726794962e-06\n",
      "##### EPOCH 65 #####\n",
      "EPOCH: 65 ##### MODE: Train ##### LOSS: 5.602224932146492e-06\n",
      "EPOCH: 65 ##### MODE: Validation ##### LOSS: 5.625249347564187e-06\n",
      "##### EPOCH 66 #####\n",
      "EPOCH: 66 ##### MODE: Train ##### LOSS: 5.592890388780571e-06\n",
      "EPOCH: 66 ##### MODE: Validation ##### LOSS: 5.612317999031164e-06\n",
      "##### EPOCH 67 #####\n",
      "EPOCH: 67 ##### MODE: Train ##### LOSS: 5.586817651220488e-06\n",
      "EPOCH: 67 ##### MODE: Validation ##### LOSS: 5.611550620664709e-06\n",
      "##### EPOCH 68 #####\n",
      "EPOCH: 68 ##### MODE: Train ##### LOSS: 5.577989906712452e-06\n",
      "EPOCH: 68 ##### MODE: Validation ##### LOSS: 5.5692623671196635e-06\n",
      "##### EPOCH 69 #####\n",
      "EPOCH: 69 ##### MODE: Train ##### LOSS: 5.5726775799867325e-06\n",
      "EPOCH: 69 ##### MODE: Validation ##### LOSS: 5.590957078166417e-06\n",
      "##### EPOCH 70 #####\n",
      "EPOCH: 70 ##### MODE: Train ##### LOSS: 5.568054331517204e-06\n",
      "EPOCH: 70 ##### MODE: Validation ##### LOSS: 5.563671124972529e-06\n",
      "##### EPOCH 71 #####\n",
      "EPOCH: 71 ##### MODE: Train ##### LOSS: 5.5639578284440396e-06\n",
      "EPOCH: 71 ##### MODE: Validation ##### LOSS: 5.594021912986107e-06\n",
      "##### EPOCH 72 #####\n",
      "EPOCH: 72 ##### MODE: Train ##### LOSS: 5.560177948924707e-06\n",
      "EPOCH: 72 ##### MODE: Validation ##### LOSS: 5.6060808608046085e-06\n",
      "##### EPOCH 73 #####\n",
      "EPOCH: 73 ##### MODE: Train ##### LOSS: 5.552917356316301e-06\n",
      "EPOCH: 73 ##### MODE: Validation ##### LOSS: 5.5727209266902335e-06\n",
      "##### EPOCH 74 #####\n",
      "EPOCH: 74 ##### MODE: Train ##### LOSS: 5.552508263465148e-06\n",
      "EPOCH: 74 ##### MODE: Validation ##### LOSS: 5.584549657748551e-06\n",
      "##### EPOCH 75 #####\n",
      "EPOCH: 75 ##### MODE: Train ##### LOSS: 5.5448303686243004e-06\n",
      "EPOCH: 75 ##### MODE: Validation ##### LOSS: 5.664834197262847e-06\n",
      "##### EPOCH 76 #####\n",
      "EPOCH: 76 ##### MODE: Train ##### LOSS: 5.544103860618732e-06\n",
      "EPOCH: 76 ##### MODE: Validation ##### LOSS: 5.542650289506523e-06\n",
      "##### EPOCH 77 #####\n",
      "EPOCH: 77 ##### MODE: Train ##### LOSS: 5.5378520442755534e-06\n",
      "EPOCH: 77 ##### MODE: Validation ##### LOSS: 5.5484716731449455e-06\n",
      "##### EPOCH 78 #####\n",
      "EPOCH: 78 ##### MODE: Train ##### LOSS: 5.536369194202738e-06\n",
      "EPOCH: 78 ##### MODE: Validation ##### LOSS: 5.561399177832317e-06\n",
      "##### EPOCH 79 #####\n",
      "EPOCH: 79 ##### MODE: Train ##### LOSS: 5.532755453726472e-06\n",
      "EPOCH: 79 ##### MODE: Validation ##### LOSS: 5.569270501292371e-06\n",
      "##### EPOCH 80 #####\n",
      "EPOCH: 80 ##### MODE: Train ##### LOSS: 5.5244460677541815e-06\n",
      "EPOCH: 80 ##### MODE: Validation ##### LOSS: 5.5492648670319764e-06\n",
      "Time taken to train: \t 287.866 s\n"
     ]
    }
   ],
   "source": [
    "trainer.runBatchProcess()\n",
    "trained_network = trainer.network"
   ]
  },
  {
   "cell_type": "code",
   "execution_count": 8,
   "id": "bd1c29c5",
   "metadata": {},
   "outputs": [
    {
     "data": {
      "text/plain": [
       "[<matplotlib.lines.Line2D at 0x7f06acb5dd50>]"
      ]
     },
     "execution_count": 8,
     "metadata": {},
     "output_type": "execute_result"
    },
    {
     "data": {
      "image/png": "[encoded data removed]",
      "text/plain": [
       "<Figure size 640x480 with 1 Axes>"
      ]
     },
     "metadata": {},
     "output_type": "display_data"
    }
   ],
   "source": [
    "trainLoss = trainer.metrics[\"train\"][\"loss\"][1:]\n",
    "valLoss = trainer.metrics[\"val\"][\"loss\"][1:]\n",
    "\n",
    "plt.plot(trainLoss)\n",
    "plt.plot(valLoss)"
   ]
  },
  {
   "cell_type": "code",
   "execution_count": 9,
   "id": "f1e961ea",
   "metadata": {},
   "outputs": [],
   "source": [
    "def find_hist_interception(sm, bsm):\n",
    "    sm_maximum = sm.max()\n",
    "    bsm_minimum = bsm.min()\n",
    "    count = (sm>bsm_minimum).sum()\n",
    "    print(count, sm.size)\n",
    "    return (count/sm.size)\n"
   ]
  },
  {
   "cell_type": "code",
   "execution_count": 10,
   "id": "bfb8110c",
   "metadata": {},
   "outputs": [
    {
     "name": "stdout",
     "output_type": "stream",
     "text": [
      "torch.Size([58540, 39])\n",
      "635 68053\n",
      "0.93%\n"
     ]
    }
   ],
   "source": [
    "bsm_dataset = Dataclass(CFG[\"dataloader\"][\"raw_datasets\"][\"gluino_rpv\"][0], CWD, 8, True, True)\n",
    "sm_posttrain_anomaly_scores = compute_anomaly_scores(sm_val_dataset, trained_network, anom_func, CFG)\n",
    "bsm_posttrain_anomaly_scores = compute_anomaly_scores(bsm_dataset, trained_network, anom_func, CFG)\n",
    "print(f\"{find_hist_interception(sm_posttrain_anomaly_scores, bsm_posttrain_anomaly_scores):.2%}\")"
   ]
  },
  {
   "cell_type": "code",
   "execution_count": 11,
   "id": "ceadca76",
   "metadata": {},
   "outputs": [
    {
     "data": {
      "text/plain": [
       "<matplotlib.legend.Legend at 0x7f06bcb2a4d0>"
      ]
     },
     "execution_count": 11,
     "metadata": {},
     "output_type": "execute_result"
    },
    {
     "data": {
      "image/png": "[encoded data removed]",
      "text/plain": [
       "<Figure size 640x480 with 1 Axes>"
      ]
     },
     "metadata": {},
     "output_type": "display_data"
    }
   ],
   "source": [
    "_=plt.hist(sm_posttrain_anomaly_scores, alpha=0.5, bins=100, log=False, label=\"SM\")\n",
    "_=plt.hist(bsm_posttrain_anomaly_scores,  alpha=0.5, bins=100, log=False, label=\"BSM\")\n",
    "plt.title(\"Kl + L2 No beta pytorch, cha-cha-0\")\n",
    "plt.legend()\n",
    "# plt.xlim(0, 1)"
   ]
  },
  {
   "cell_type": "code",
   "execution_count": 12,
   "id": "bf2308d0",
   "metadata": {},
   "outputs": [
    {
     "name": "stdout",
     "output_type": "stream",
     "text": [
      "torch.Size([3401, 39])\n",
      "91 68053\n",
      "0.13%\n"
     ]
    }
   ],
   "source": [
    "\n",
    "bsm_dataset = Dataclass(CFG[\"dataloader\"][\"raw_datasets\"][\"z_lepton\"][0], CWD, 8, True, True)\n",
    "bsm_posttrain_anomaly_scores = compute_anomaly_scores(bsm_dataset, trained_network, anom_func, CFG)\n",
    "print(f\"{find_hist_interception(sm_posttrain_anomaly_scores, bsm_posttrain_anomaly_scores):.2%}\")"
   ]
  },
  {
   "cell_type": "code",
   "execution_count": 13,
   "id": "5e1277f9",
   "metadata": {},
   "outputs": [
    {
     "data": {
      "text/plain": [
       "<matplotlib.legend.Legend at 0x7f06c5d67790>"
      ]
     },
     "execution_count": 13,
     "metadata": {},
     "output_type": "execute_result"
    },
    {
     "data": {
      "image/png": "[encoded data removed]",
      "text/plain": [
       "<Figure size 640x480 with 1 Axes>"
      ]
     },
     "metadata": {},
     "output_type": "display_data"
    }
   ],
   "source": [
    "_=plt.hist(sm_posttrain_anomaly_scores, alpha=0.5, bins=100, log=False, label=\"SM\")\n",
    "_=plt.hist(bsm_posttrain_anomaly_scores,  alpha=0.5, bins=100, log=False, label=\"BSM\")\n",
    "plt.title(\"Kl + L2 No beta pytorch, cha-cha-0\")\n",
    "plt.legend()\n",
    "# plt.xlim(0, 1)"
   ]
  },
  {
   "cell_type": "code",
   "execution_count": 14,
   "id": "d2201f5c",
   "metadata": {},
   "outputs": [
    {
     "name": "stdout",
     "output_type": "stream",
     "text": [
      "torch.Size([664, 39])\n",
      "36 68053\n",
      "0.05%\n"
     ]
    }
   ],
   "source": [
    "\n",
    "bsm_dataset = Dataclass(CFG[\"dataloader\"][\"raw_datasets\"][\"chargino_chargino\"][0], CWD, 8, True, True)\n",
    "bsm_posttrain_anomaly_scores = compute_anomaly_scores(bsm_dataset, trained_network, anom_func, CFG)\n",
    "print(f\"{find_hist_interception(sm_posttrain_anomaly_scores, bsm_posttrain_anomaly_scores):.2%}\")"
   ]
  },
  {
   "cell_type": "code",
   "execution_count": 15,
   "id": "040d2508",
   "metadata": {},
   "outputs": [
    {
     "data": {
      "text/plain": [
       "<matplotlib.legend.Legend at 0x7f06ca5a2610>"
      ]
     },
     "execution_count": 15,
     "metadata": {},
     "output_type": "execute_result"
    },
    {
     "data": {
      "image/png": "[encoded data removed]",
      "text/plain": [
       "<Figure size 640x480 with 1 Axes>"
      ]
     },
     "metadata": {},
     "output_type": "display_data"
    }
   ],
   "source": [
    "_=plt.hist(sm_posttrain_anomaly_scores, alpha=0.5, bins=100, log=False, label=\"SM\")\n",
    "_=plt.hist(bsm_posttrain_anomaly_scores,  alpha=0.5, bins=100, log=False, label=\"BSM\")\n",
    "plt.title(\"Kl + L2 No beta pytorch, cha-cha-0\")\n",
    "plt.legend()\n",
    "# plt.xlim(0, 1)"
   ]
  },
  {
   "cell_type": "code",
   "execution_count": 16,
   "id": "5395b5db",
   "metadata": {},
   "outputs": [],
   "source": [
    "# from sklearn import metrics\n",
    "# fig, ax = plt.subplots(1, 1)\n",
    "\n",
    "# truth_pre = np.concatenate([ np.zeros_like( sm_pretrain_anomaly_scores) , np.ones_like(bsm_pretrain_anomaly_scores) ])\n",
    "# score_pre = np.concatenate([sm_pretrain_anomaly_scores,  bsm_pretrain_anomaly_scores])\n",
    "\n",
    "# truth_post = np.concatenate([ np.zeros_like( sm_posttrain_anomaly_scores) , np.ones_like(bsm_posttrain_anomaly_scores) ])\n",
    "# score_post = np.concatenate([sm_posttrain_anomaly_scores,  bsm_posttrain_anomaly_scores])\n",
    "\n",
    "# metrics.RocCurveDisplay.from_predictions(truth_post, score_post, ax=ax, name=\"Post Training\")\n",
    "# metrics.RocCurveDisplay.from_predictions(truth_pre, score_pre, ax=ax, name=\"Pre Training\")\n"
   ]
  },
  {
   "cell_type": "code",
   "execution_count": null,
   "id": "66019cdc",
   "metadata": {},
   "outputs": [],
   "source": []
  }
 ],
 "metadata": {
  "kernelspec": {
   "display_name": "Python 3 (ipykernel)",
   "language": "python",
   "name": "python3"
  },
  "language_info": {
   "codemirror_mode": {
    "name": "ipython",
    "version": 3
   },
   "file_extension": ".py",
   "mimetype": "text/x-python",
   "name": "python",
   "nbconvert_exporter": "python",
   "pygments_lexer": "ipython3",
   "version": "3.11.7"
  }
 },
 "nbformat": 4,
 "nbformat_minor": 5
}
